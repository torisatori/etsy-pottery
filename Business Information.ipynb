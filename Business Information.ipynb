{
 "cells": [
  {
   "cell_type": "markdown",
   "id": "ff64b22b",
   "metadata": {},
   "source": [
    "# Business Information"
   ]
  },
  {
   "cell_type": "code",
   "execution_count": 1,
   "id": "d61d915d",
   "metadata": {},
   "outputs": [],
   "source": [
    "import pandas as pd\n",
    "import numpy as np\n",
    "import datetime  \n",
    "import matplotlib.pyplot as plt\n",
    "import re"
   ]
  },
  {
   "cell_type": "code",
   "execution_count": 2,
   "id": "74217d1f",
   "metadata": {},
   "outputs": [],
   "source": [
    "# read the data to a dataframe\n",
    "df1 = pd.read_csv('data/mergedData022522clean.csv')\n",
    "df2 = pd.read_csv('data/mergedData033122clean.csv')\n",
    "df3 = pd.read_csv('data/mergedData041022clean.csv')"
   ]
  },
  {
   "cell_type": "code",
   "execution_count": 3,
   "id": "136de046",
   "metadata": {},
   "outputs": [
    {
     "data": {
      "text/plain": [
       "Index(['Unnamed: 0', 'listing_id', 'shop_id', 'title_listing', 'description',\n",
       "       'num_favorers_listing', 'listing_type', 'tags', 'materials', 'style',\n",
       "       'taxonomy_id', 'price.amount', 'price.divisor', 'price.currency_code',\n",
       "       'creation_timestamp', 'ending_timestamp', 'original_creation_timestamp',\n",
       "       'quantity', 'shop_name', 'create_date', 'title_shop', 'announcement',\n",
       "       'currency_code', 'listing_active_count', 'accepts_custom_requests',\n",
       "       'url', 'num_favorers_shop', 'languages', 'is_shop_us_based',\n",
       "       'transaction_sold_count', 'shipping_from_country_iso',\n",
       "       'shop_location_country_iso', 'review_average', 'review_count'],\n",
       "      dtype='object')"
      ]
     },
     "execution_count": 3,
     "metadata": {},
     "output_type": "execute_result"
    }
   ],
   "source": [
    "# FYI DELETE LATER\n",
    "df1.columns"
   ]
  },
  {
   "cell_type": "code",
   "execution_count": 4,
   "id": "d7412091",
   "metadata": {},
   "outputs": [],
   "source": [
    "# create a price column by dividing price amount by price divisor (not sure why ETSY splits this up)\n",
    "df1['price'] = df1['price.amount']/df1['price.divisor']\n",
    "df2['price'] = df2['price.amount']/df2['price.divisor']\n",
    "df3['price'] = df3['price.amount']/df3['price.divisor']"
   ]
  },
  {
   "cell_type": "markdown",
   "id": "9ad3f81a",
   "metadata": {},
   "source": [
    "## Dates the data covers"
   ]
  },
  {
   "cell_type": "markdown",
   "id": "1efd51fb",
   "metadata": {},
   "source": [
    "#### TO DO: Make this a function"
   ]
  },
  {
   "cell_type": "code",
   "execution_count": 5,
   "id": "a6ed9a73",
   "metadata": {},
   "outputs": [
    {
     "name": "stdout",
     "output_type": "stream",
     "text": [
      "2022-02-07 2022-02-25\n"
     ]
    }
   ],
   "source": [
    "# date range of df1\n",
    "first = df1[\"creation_timestamp\"].min()\n",
    "last = df1[\"creation_timestamp\"].max()\n",
    "print(datetime.date.fromtimestamp(first), datetime.date.fromtimestamp(last))"
   ]
  },
  {
   "cell_type": "code",
   "execution_count": 6,
   "id": "f4e38b32",
   "metadata": {},
   "outputs": [
    {
     "name": "stdout",
     "output_type": "stream",
     "text": [
      "2022-03-14 2022-03-31\n"
     ]
    }
   ],
   "source": [
    "# date range of df2\n",
    "first = df2[\"creation_timestamp\"].min()\n",
    "last = df2[\"creation_timestamp\"].max()\n",
    "print(datetime.date.fromtimestamp(first), datetime.date.fromtimestamp(last))"
   ]
  },
  {
   "cell_type": "code",
   "execution_count": 7,
   "id": "6590ba4b",
   "metadata": {},
   "outputs": [
    {
     "name": "stdout",
     "output_type": "stream",
     "text": [
      "2022-03-23 2022-04-10\n"
     ]
    }
   ],
   "source": [
    "# date range of df3\n",
    "first = df3[\"creation_timestamp\"].min()\n",
    "last = df3[\"creation_timestamp\"].max()\n",
    "print(datetime.date.fromtimestamp(first), datetime.date.fromtimestamp(last))"
   ]
  },
  {
   "cell_type": "markdown",
   "id": "7d2e533f",
   "metadata": {},
   "source": [
    "### Identify top products listed"
   ]
  },
  {
   "cell_type": "code",
   "execution_count": 8,
   "id": "b968bfd4",
   "metadata": {},
   "outputs": [],
   "source": [
    "# I used the top tags and title word counts in the text analysis to manually identify common product types:\n",
    "products = [\n",
    "'mug', \n",
    "'cup', \n",
    "'plate', \n",
    "'vase', \n",
    "'bowl', \n",
    "'tea cup', \n",
    "'dinnerware set', \n",
    "'soap dish', \n",
    "'utensil holder', \n",
    "'candle holder',\n",
    "'ring holder',\n",
    "'serving bowl', \n",
    "'jar', \n",
    "'spoon rest', \n",
    "'planter',\n",
    "'pendant',\n",
    "'jug',\n",
    "'soap dispenser',\n",
    "'tumbler'   \n",
    "]"
   ]
  },
  {
   "cell_type": "markdown",
   "id": "b13cac9d",
   "metadata": {},
   "source": [
    "### Average Prices for Top Products in US Dollars"
   ]
  },
  {
   "cell_type": "code",
   "execution_count": 9,
   "id": "4f27aa1e",
   "metadata": {},
   "outputs": [],
   "source": [
    "# dataframe with listings that have prices in US Dollars\n",
    "usd1 = df1[df1['price.currency_code'] == \"USD\"].reset_index(drop=True)\n",
    "usd2 = df2[df2['price.currency_code'] == \"USD\"].reset_index(drop=True)\n",
    "usd3 = df3[df3['price.currency_code'] == \"USD\"].reset_index(drop=True)"
   ]
  },
  {
   "cell_type": "code",
   "execution_count": 10,
   "id": "02d3ecd6",
   "metadata": {},
   "outputs": [],
   "source": [
    "# this function adds a column for each item in the products list and assigns the value 1 if the product appears in the tags\n",
    "def add_product_columns(dataframe, list):\n",
    "    for p in list:\n",
    "        dataframe[p] = pd.Series(dtype='int')\n",
    "        for i in range (0, len(dataframe)):\n",
    "            if ((p in dataframe['tags'][i]) == True):\n",
    "                dataframe[p][i] = 1"
   ]
  },
  {
   "cell_type": "code",
   "execution_count": 11,
   "id": "fe46c3b2",
   "metadata": {},
   "outputs": [
    {
     "name": "stderr",
     "output_type": "stream",
     "text": [
      "<ipython-input-10-ea799e53fde6>:7: SettingWithCopyWarning: \n",
      "A value is trying to be set on a copy of a slice from a DataFrame\n",
      "\n",
      "See the caveats in the documentation: https://pandas.pydata.org/pandas-docs/stable/user_guide/indexing.html#returning-a-view-versus-a-copy\n",
      "  dataframe[p][i] = 1\n"
     ]
    }
   ],
   "source": [
    "# use the function to add the columns\n",
    "add_product_columns(usd1, products)\n",
    "add_product_columns(usd2, products)\n",
    "add_product_columns(usd3, products)"
   ]
  },
  {
   "cell_type": "code",
   "execution_count": 12,
   "id": "48425f0a",
   "metadata": {},
   "outputs": [],
   "source": [
    "# this function calculates the average price for each product in the list\n",
    "def calculate_product_avg(dataframe, prods):  \n",
    "    average_prices = [] \n",
    "    for i in range(0, len(prods)):\n",
    "        p = prods[i]\n",
    "        df = dataframe[dataframe[p] == 1]\n",
    "        avg = df['price'].mean()\n",
    "        average_prices.append(avg)\n",
    "    return average_prices"
   ]
  },
  {
   "cell_type": "code",
   "execution_count": 13,
   "id": "61372de9",
   "metadata": {},
   "outputs": [],
   "source": [
    "avg_prices_usd1 = calculate_product_avg(usd1, products)\n",
    "avg_prices_usd2 = calculate_product_avg(usd2, products)\n",
    "avg_prices_usd3 = calculate_product_avg(usd3, products)"
   ]
  },
  {
   "cell_type": "code",
   "execution_count": 15,
   "id": "bd838a4b",
   "metadata": {},
   "outputs": [],
   "source": [
    "# create empty dataframe for average prices\n",
    "average_prices_df = pd.DataFrame(columns = products)"
   ]
  },
  {
   "cell_type": "markdown",
   "id": "7128c270",
   "metadata": {},
   "source": [
    "Fix this:"
   ]
  },
  {
   "cell_type": "code",
   "execution_count": 17,
   "id": "abd002ea",
   "metadata": {},
   "outputs": [],
   "source": [
    "average_prices_df.loc[len(average_prices_df)+1] = avg_prices_usd1"
   ]
  },
  {
   "cell_type": "code",
   "execution_count": 18,
   "id": "d06ef992",
   "metadata": {},
   "outputs": [],
   "source": [
    "average_prices_df.loc[len(average_prices_df)+1] = avg_prices_usd2"
   ]
  },
  {
   "cell_type": "code",
   "execution_count": 19,
   "id": "0313b96e",
   "metadata": {},
   "outputs": [],
   "source": [
    "average_prices_df.loc[len(average_prices_df)+1] = avg_prices_usd3"
   ]
  },
  {
   "cell_type": "code",
   "execution_count": 20,
   "id": "0513416d",
   "metadata": {},
   "outputs": [
    {
     "data": {
      "text/html": [
       "<div>\n",
       "<style scoped>\n",
       "    .dataframe tbody tr th:only-of-type {\n",
       "        vertical-align: middle;\n",
       "    }\n",
       "\n",
       "    .dataframe tbody tr th {\n",
       "        vertical-align: top;\n",
       "    }\n",
       "\n",
       "    .dataframe thead th {\n",
       "        text-align: right;\n",
       "    }\n",
       "</style>\n",
       "<table border=\"1\" class=\"dataframe\">\n",
       "  <thead>\n",
       "    <tr style=\"text-align: right;\">\n",
       "      <th></th>\n",
       "      <th>mug</th>\n",
       "      <th>cup</th>\n",
       "      <th>plate</th>\n",
       "      <th>vase</th>\n",
       "      <th>bowl</th>\n",
       "      <th>tea cup</th>\n",
       "      <th>dinnerware set</th>\n",
       "      <th>soap dish</th>\n",
       "      <th>utensil holder</th>\n",
       "      <th>candle holder</th>\n",
       "      <th>ring holder</th>\n",
       "      <th>serving bowl</th>\n",
       "      <th>jar</th>\n",
       "      <th>spoon rest</th>\n",
       "      <th>planter</th>\n",
       "      <th>pendant</th>\n",
       "      <th>jug</th>\n",
       "      <th>soap dispenser</th>\n",
       "      <th>tumbler</th>\n",
       "    </tr>\n",
       "  </thead>\n",
       "  <tbody>\n",
       "    <tr>\n",
       "      <th>1</th>\n",
       "      <td>41.186386</td>\n",
       "      <td>39.851983</td>\n",
       "      <td>93.173459</td>\n",
       "      <td>67.651238</td>\n",
       "      <td>67.126415</td>\n",
       "      <td>39.562961</td>\n",
       "      <td>243.736923</td>\n",
       "      <td>24.086897</td>\n",
       "      <td>43.953125</td>\n",
       "      <td>34.533226</td>\n",
       "      <td>29.575385</td>\n",
       "      <td>72.850696</td>\n",
       "      <td>65.549196</td>\n",
       "      <td>20.645669</td>\n",
       "      <td>42.507099</td>\n",
       "      <td>30.897656</td>\n",
       "      <td>47.727627</td>\n",
       "      <td>38.032500</td>\n",
       "      <td>33.993988</td>\n",
       "    </tr>\n",
       "    <tr>\n",
       "      <th>2</th>\n",
       "      <td>41.611503</td>\n",
       "      <td>40.502263</td>\n",
       "      <td>69.610158</td>\n",
       "      <td>72.236383</td>\n",
       "      <td>61.521238</td>\n",
       "      <td>42.247560</td>\n",
       "      <td>137.076809</td>\n",
       "      <td>27.956386</td>\n",
       "      <td>56.066923</td>\n",
       "      <td>40.610909</td>\n",
       "      <td>27.384583</td>\n",
       "      <td>73.489950</td>\n",
       "      <td>67.175242</td>\n",
       "      <td>22.241500</td>\n",
       "      <td>40.498852</td>\n",
       "      <td>18.051875</td>\n",
       "      <td>45.615970</td>\n",
       "      <td>31.740417</td>\n",
       "      <td>38.876074</td>\n",
       "    </tr>\n",
       "    <tr>\n",
       "      <th>3</th>\n",
       "      <td>42.024441</td>\n",
       "      <td>42.047080</td>\n",
       "      <td>72.586576</td>\n",
       "      <td>67.167079</td>\n",
       "      <td>65.485365</td>\n",
       "      <td>44.225438</td>\n",
       "      <td>144.104468</td>\n",
       "      <td>27.671368</td>\n",
       "      <td>56.263333</td>\n",
       "      <td>37.096923</td>\n",
       "      <td>28.314444</td>\n",
       "      <td>82.741036</td>\n",
       "      <td>76.859959</td>\n",
       "      <td>22.844899</td>\n",
       "      <td>43.473366</td>\n",
       "      <td>18.675397</td>\n",
       "      <td>126.598113</td>\n",
       "      <td>31.572553</td>\n",
       "      <td>39.234161</td>\n",
       "    </tr>\n",
       "  </tbody>\n",
       "</table>\n",
       "</div>"
      ],
      "text/plain": [
       "         mug        cup      plate       vase       bowl    tea cup  \\\n",
       "1  41.186386  39.851983  93.173459  67.651238  67.126415  39.562961   \n",
       "2  41.611503  40.502263  69.610158  72.236383  61.521238  42.247560   \n",
       "3  42.024441  42.047080  72.586576  67.167079  65.485365  44.225438   \n",
       "\n",
       "   dinnerware set  soap dish  utensil holder  candle holder  ring holder  \\\n",
       "1      243.736923  24.086897       43.953125      34.533226    29.575385   \n",
       "2      137.076809  27.956386       56.066923      40.610909    27.384583   \n",
       "3      144.104468  27.671368       56.263333      37.096923    28.314444   \n",
       "\n",
       "   serving bowl        jar  spoon rest    planter    pendant         jug  \\\n",
       "1     72.850696  65.549196   20.645669  42.507099  30.897656   47.727627   \n",
       "2     73.489950  67.175242   22.241500  40.498852  18.051875   45.615970   \n",
       "3     82.741036  76.859959   22.844899  43.473366  18.675397  126.598113   \n",
       "\n",
       "   soap dispenser    tumbler  \n",
       "1       38.032500  33.993988  \n",
       "2       31.740417  38.876074  \n",
       "3       31.572553  39.234161  "
      ]
     },
     "execution_count": 20,
     "metadata": {},
     "output_type": "execute_result"
    }
   ],
   "source": [
    "average_prices_df"
   ]
  },
  {
   "cell_type": "code",
   "execution_count": 22,
   "id": "c6574a4a",
   "metadata": {},
   "outputs": [
    {
     "data": {
      "text/plain": [
       "56.87491080348218"
      ]
     },
     "execution_count": 22,
     "metadata": {},
     "output_type": "execute_result"
    }
   ],
   "source": [
    "# Average Price for all the listings in USD\n",
    "usd1['price'].mean()"
   ]
  },
  {
   "cell_type": "markdown",
   "id": "75e8d9e2",
   "metadata": {},
   "source": [
    "### Business Questions\n",
    "\n",
    "Characteristics of a successful shop?  (High Ratings and high number of reviews)\n",
    "\n",
    "Emerging trends/New Market Opportunites - compare to more recent set of listings\n",
    "\n",
    "Identify highest selling product categories\n",
    "\n",
    "Identify: Top companies, top products\n",
    "\n",
    "Model - Predict products based on text?  Hierarchical clustering?  TSNE w/dbscan\n",
    "\n",
    "If you can get product clusters - overlay pricing?"
   ]
  },
  {
   "cell_type": "code",
   "execution_count": null,
   "id": "2411bbe6",
   "metadata": {},
   "outputs": [],
   "source": []
  }
 ],
 "metadata": {
  "kernelspec": {
   "display_name": "Python 3",
   "language": "python",
   "name": "python3"
  },
  "language_info": {
   "codemirror_mode": {
    "name": "ipython",
    "version": 3
   },
   "file_extension": ".py",
   "mimetype": "text/x-python",
   "name": "python",
   "nbconvert_exporter": "python",
   "pygments_lexer": "ipython3",
   "version": "3.8.8"
  }
 },
 "nbformat": 4,
 "nbformat_minor": 5
}
