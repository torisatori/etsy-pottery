{
 "cells": [
  {
   "cell_type": "markdown",
   "id": "ff64b22b",
   "metadata": {},
   "source": [
    "# Business Information"
   ]
  },
  {
   "cell_type": "code",
   "execution_count": 1,
   "id": "d61d915d",
   "metadata": {},
   "outputs": [],
   "source": [
    "import pandas as pd\n",
    "import numpy as np\n",
    "import datetime  \n",
    "import matplotlib.pyplot as plt\n",
    "import seaborn as sns\n",
    "import re"
   ]
  },
  {
   "cell_type": "code",
   "execution_count": 2,
   "id": "74217d1f",
   "metadata": {},
   "outputs": [],
   "source": [
    "# read the data to a dataframe\n",
    "df1 = pd.read_csv('data/mergedData022522clean.csv')\n",
    "df2 = pd.read_csv('data/mergedData033122clean.csv')\n",
    "df3 = pd.read_csv('data/mergedData041022clean.csv')"
   ]
  },
  {
   "cell_type": "code",
   "execution_count": 4,
   "id": "d7412091",
   "metadata": {},
   "outputs": [],
   "source": [
    "# create a price column by dividing price amount by price divisor (not sure why ETSY splits this up)\n",
    "df1['price'] = df1['price.amount']/df1['price.divisor']\n",
    "df2['price'] = df2['price.amount']/df2['price.divisor']\n",
    "df3['price'] = df3['price.amount']/df3['price.divisor']"
   ]
  },
  {
   "cell_type": "markdown",
   "id": "9ad3f81a",
   "metadata": {},
   "source": [
    "## Dates the data covers"
   ]
  },
  {
   "cell_type": "code",
   "execution_count": 5,
   "id": "a6ed9a73",
   "metadata": {},
   "outputs": [],
   "source": [
    "# date range of a dataframe\n",
    "def date_range(df):\n",
    "    first = df[\"creation_timestamp\"].min()\n",
    "    last = df[\"creation_timestamp\"].max()\n",
    "    print(datetime.date.fromtimestamp(first), 'to', datetime.date.fromtimestamp(last))"
   ]
  },
  {
   "cell_type": "code",
   "execution_count": 6,
   "id": "50b64122",
   "metadata": {},
   "outputs": [
    {
     "name": "stdout",
     "output_type": "stream",
     "text": [
      "2022-02-07 to 2022-02-25\n",
      "2022-03-14 to 2022-03-31\n",
      "2022-03-23 to 2022-04-10\n"
     ]
    }
   ],
   "source": [
    "date_range(df1)\n",
    "date_range(df2)\n",
    "date_range(df3)"
   ]
  },
  {
   "cell_type": "markdown",
   "id": "7d2e533f",
   "metadata": {},
   "source": [
    "### Identify top products listed"
   ]
  },
  {
   "cell_type": "code",
   "execution_count": 7,
   "id": "b968bfd4",
   "metadata": {},
   "outputs": [],
   "source": [
    "# I used the top tags and title word counts in the Text Analysis section to manually identify common product types:\n",
    "products = [\n",
    "'mug', \n",
    "'cup', \n",
    "'plate', \n",
    "'vase', \n",
    "'bowl', \n",
    "'tea cup', \n",
    "'dinnerware set', \n",
    "'soap dish', \n",
    "'utensil holder', \n",
    "'candle holder',\n",
    "'ring holder',\n",
    "'serving bowl', \n",
    "'jar', \n",
    "'spoon rest', \n",
    "'planter',\n",
    "'pendant',\n",
    "'jug',\n",
    "'soap dispenser',\n",
    "'tumbler'   \n",
    "]"
   ]
  },
  {
   "cell_type": "markdown",
   "id": "b13cac9d",
   "metadata": {},
   "source": [
    "### Average Prices for Top Products in US Dollars"
   ]
  },
  {
   "cell_type": "code",
   "execution_count": 8,
   "id": "4f27aa1e",
   "metadata": {},
   "outputs": [],
   "source": [
    "# dataframes with listings that have prices in US Dollars\n",
    "usd1 = df1[df1['price.currency_code'] == \"USD\"].reset_index(drop=True)\n",
    "usd2 = df2[df2['price.currency_code'] == \"USD\"].reset_index(drop=True)\n",
    "usd3 = df3[df3['price.currency_code'] == \"USD\"].reset_index(drop=True)"
   ]
  },
  {
   "cell_type": "code",
   "execution_count": 9,
   "id": "02d3ecd6",
   "metadata": {},
   "outputs": [],
   "source": [
    "# this function adds a column for each item in the products list and assigns the value 1 if the product appears in the tags\n",
    "def add_product_columns(dataframe, list):\n",
    "    for p in list:\n",
    "        dataframe[p] = pd.Series(dtype='int')\n",
    "        for i in range (0, len(dataframe)):\n",
    "            if ((p in dataframe['tags'][i]) == True):\n",
    "                dataframe[p][i] = 1"
   ]
  },
  {
   "cell_type": "code",
   "execution_count": 11,
   "id": "fe46c3b2",
   "metadata": {},
   "outputs": [
    {
     "name": "stderr",
     "output_type": "stream",
     "text": [
      "<ipython-input-9-ea799e53fde6>:7: SettingWithCopyWarning: \n",
      "A value is trying to be set on a copy of a slice from a DataFrame\n",
      "\n",
      "See the caveats in the documentation: https://pandas.pydata.org/pandas-docs/stable/user_guide/indexing.html#returning-a-view-versus-a-copy\n",
      "  dataframe[p][i] = 1\n"
     ]
    }
   ],
   "source": [
    "# use the function to add the columns\n",
    "add_product_columns(usd1, products)\n",
    "add_product_columns(usd2, products)\n",
    "add_product_columns(usd3, products)"
   ]
  },
  {
   "cell_type": "code",
   "execution_count": 12,
   "id": "2680d2c1",
   "metadata": {},
   "outputs": [
    {
     "name": "stderr",
     "output_type": "stream",
     "text": [
      "<ipython-input-9-ea799e53fde6>:7: SettingWithCopyWarning: \n",
      "A value is trying to be set on a copy of a slice from a DataFrame\n",
      "\n",
      "See the caveats in the documentation: https://pandas.pydata.org/pandas-docs/stable/user_guide/indexing.html#returning-a-view-versus-a-copy\n",
      "  dataframe[p][i] = 1\n"
     ]
    }
   ],
   "source": [
    "# use the function to add the columns\n",
    "add_product_columns(df1, products)\n",
    "add_product_columns(df2, products)\n",
    "add_product_columns(df3, products)"
   ]
  },
  {
   "cell_type": "code",
   "execution_count": 13,
   "id": "48425f0a",
   "metadata": {},
   "outputs": [],
   "source": [
    "# this function calculates the average price for each product in the list\n",
    "def calculate_product_avg(dataframe, prods):  \n",
    "    average_prices = [] \n",
    "    for i in range(0, len(prods)):\n",
    "        p = prods[i]\n",
    "        df = dataframe[dataframe[p] == 1]\n",
    "        avg = df['price'].mean()\n",
    "        average_prices.append(avg)\n",
    "    return average_prices"
   ]
  },
  {
   "cell_type": "code",
   "execution_count": 14,
   "id": "61372de9",
   "metadata": {},
   "outputs": [],
   "source": [
    "avg_prices_usd1 = calculate_product_avg(usd1, products)\n",
    "avg_prices_usd2 = calculate_product_avg(usd2, products)\n",
    "avg_prices_usd3 = calculate_product_avg(usd3, products)"
   ]
  },
  {
   "cell_type": "code",
   "execution_count": 15,
   "id": "bd838a4b",
   "metadata": {},
   "outputs": [],
   "source": [
    "# create empty dataframe for average prices\n",
    "average_prices_df = pd.DataFrame(columns = products)"
   ]
  },
  {
   "cell_type": "code",
   "execution_count": 16,
   "id": "abd002ea",
   "metadata": {},
   "outputs": [],
   "source": [
    "average_prices_df.loc[len(average_prices_df)] = avg_prices_usd1\n",
    "average_prices_df.loc[len(average_prices_df)] = avg_prices_usd2\n",
    "average_prices_df.loc[len(average_prices_df)] = avg_prices_usd3"
   ]
  },
  {
   "cell_type": "code",
   "execution_count": 17,
   "id": "0513416d",
   "metadata": {},
   "outputs": [
    {
     "data": {
      "text/html": [
       "<div>\n",
       "<style scoped>\n",
       "    .dataframe tbody tr th:only-of-type {\n",
       "        vertical-align: middle;\n",
       "    }\n",
       "\n",
       "    .dataframe tbody tr th {\n",
       "        vertical-align: top;\n",
       "    }\n",
       "\n",
       "    .dataframe thead th {\n",
       "        text-align: right;\n",
       "    }\n",
       "</style>\n",
       "<table border=\"1\" class=\"dataframe\">\n",
       "  <thead>\n",
       "    <tr style=\"text-align: right;\">\n",
       "      <th></th>\n",
       "      <th>mug</th>\n",
       "      <th>cup</th>\n",
       "      <th>plate</th>\n",
       "      <th>vase</th>\n",
       "      <th>bowl</th>\n",
       "      <th>tea cup</th>\n",
       "      <th>dinnerware set</th>\n",
       "      <th>soap dish</th>\n",
       "      <th>utensil holder</th>\n",
       "      <th>candle holder</th>\n",
       "      <th>ring holder</th>\n",
       "      <th>serving bowl</th>\n",
       "      <th>jar</th>\n",
       "      <th>spoon rest</th>\n",
       "      <th>planter</th>\n",
       "      <th>pendant</th>\n",
       "      <th>jug</th>\n",
       "      <th>soap dispenser</th>\n",
       "      <th>tumbler</th>\n",
       "    </tr>\n",
       "  </thead>\n",
       "  <tbody>\n",
       "    <tr>\n",
       "      <th>0</th>\n",
       "      <td>41.186386</td>\n",
       "      <td>39.851983</td>\n",
       "      <td>93.173459</td>\n",
       "      <td>67.651238</td>\n",
       "      <td>67.126415</td>\n",
       "      <td>39.562961</td>\n",
       "      <td>243.736923</td>\n",
       "      <td>24.086897</td>\n",
       "      <td>43.953125</td>\n",
       "      <td>34.533226</td>\n",
       "      <td>29.575385</td>\n",
       "      <td>72.850696</td>\n",
       "      <td>65.549196</td>\n",
       "      <td>20.645669</td>\n",
       "      <td>42.507099</td>\n",
       "      <td>30.897656</td>\n",
       "      <td>47.727627</td>\n",
       "      <td>38.032500</td>\n",
       "      <td>33.993988</td>\n",
       "    </tr>\n",
       "    <tr>\n",
       "      <th>1</th>\n",
       "      <td>41.611503</td>\n",
       "      <td>40.502263</td>\n",
       "      <td>69.610158</td>\n",
       "      <td>72.236383</td>\n",
       "      <td>61.521238</td>\n",
       "      <td>42.247560</td>\n",
       "      <td>137.076809</td>\n",
       "      <td>27.956386</td>\n",
       "      <td>56.066923</td>\n",
       "      <td>40.610909</td>\n",
       "      <td>27.384583</td>\n",
       "      <td>73.489950</td>\n",
       "      <td>67.175242</td>\n",
       "      <td>22.241500</td>\n",
       "      <td>40.498852</td>\n",
       "      <td>18.051875</td>\n",
       "      <td>45.615970</td>\n",
       "      <td>31.740417</td>\n",
       "      <td>38.876074</td>\n",
       "    </tr>\n",
       "    <tr>\n",
       "      <th>2</th>\n",
       "      <td>42.024441</td>\n",
       "      <td>42.047080</td>\n",
       "      <td>72.586576</td>\n",
       "      <td>67.167079</td>\n",
       "      <td>65.485365</td>\n",
       "      <td>44.225438</td>\n",
       "      <td>144.104468</td>\n",
       "      <td>27.671368</td>\n",
       "      <td>56.263333</td>\n",
       "      <td>37.096923</td>\n",
       "      <td>28.314444</td>\n",
       "      <td>82.741036</td>\n",
       "      <td>76.859959</td>\n",
       "      <td>22.844899</td>\n",
       "      <td>43.473366</td>\n",
       "      <td>18.675397</td>\n",
       "      <td>126.598113</td>\n",
       "      <td>31.572553</td>\n",
       "      <td>39.234161</td>\n",
       "    </tr>\n",
       "  </tbody>\n",
       "</table>\n",
       "</div>"
      ],
      "text/plain": [
       "         mug        cup      plate       vase       bowl    tea cup  \\\n",
       "0  41.186386  39.851983  93.173459  67.651238  67.126415  39.562961   \n",
       "1  41.611503  40.502263  69.610158  72.236383  61.521238  42.247560   \n",
       "2  42.024441  42.047080  72.586576  67.167079  65.485365  44.225438   \n",
       "\n",
       "   dinnerware set  soap dish  utensil holder  candle holder  ring holder  \\\n",
       "0      243.736923  24.086897       43.953125      34.533226    29.575385   \n",
       "1      137.076809  27.956386       56.066923      40.610909    27.384583   \n",
       "2      144.104468  27.671368       56.263333      37.096923    28.314444   \n",
       "\n",
       "   serving bowl        jar  spoon rest    planter    pendant         jug  \\\n",
       "0     72.850696  65.549196   20.645669  42.507099  30.897656   47.727627   \n",
       "1     73.489950  67.175242   22.241500  40.498852  18.051875   45.615970   \n",
       "2     82.741036  76.859959   22.844899  43.473366  18.675397  126.598113   \n",
       "\n",
       "   soap dispenser    tumbler  \n",
       "0       38.032500  33.993988  \n",
       "1       31.740417  38.876074  \n",
       "2       31.572553  39.234161  "
      ]
     },
     "execution_count": 17,
     "metadata": {},
     "output_type": "execute_result"
    }
   ],
   "source": [
    "average_prices_df"
   ]
  },
  {
   "cell_type": "code",
   "execution_count": 18,
   "id": "c6574a4a",
   "metadata": {},
   "outputs": [
    {
     "data": {
      "text/plain": [
       "56.87491080348218"
      ]
     },
     "execution_count": 18,
     "metadata": {},
     "output_type": "execute_result"
    }
   ],
   "source": [
    "# Average Price for all the listings in USD\n",
    "usd1['price'].mean()"
   ]
  },
  {
   "cell_type": "code",
   "execution_count": 21,
   "id": "3c3584bc",
   "metadata": {},
   "outputs": [],
   "source": [
    "mugs = usd3[usd3[\"mug\"] == 1]\n",
    "plate = usd3[usd3[\"plate\"] == 1]\n",
    "vase = usd3[usd3[\"vase\"] == 1]\n",
    "bowl = usd3[usd3[\"bowl\"] == 1]"
   ]
  },
  {
   "cell_type": "code",
   "execution_count": 32,
   "id": "e0538b04",
   "metadata": {},
   "outputs": [
    {
     "data": {
      "image/png": "[encoded data removed]",
      "text/plain": [
       "<Figure size 864x720 with 4 Axes>"
      ]
     },
     "metadata": {
      "needs_background": "light"
     },
     "output_type": "display_data"
    }
   ],
   "source": [
    "# Plot price distributions\n",
    "fig, axes = plt.subplots(2, 2, figsize = (12, 10))\n",
    "fig.suptitle('Distribution of Prices (in US Dollars) For Listings Containing Specific Words')\n",
    "\n",
    "# plot mug prices\n",
    "sns.histplot(ax=axes[0,0], data=np.clip(mugs['price'],0,mugs['price'].quantile(.99)), bins = 30, color = 'lightskyblue')\n",
    "axes[0,0].set_title('Listings containing the word \"mug\"')\n",
    "\n",
    "# plot plate prices\n",
    "sns.histplot(ax=axes[1,0], data=np.clip(plate['price'],0,plate['price'].quantile(.99)), bins = 30, color = 'darksalmon')\n",
    "axes[1,0].set_title('Listings containing the word \"plate\"')\n",
    "\n",
    "# plot vase prices\n",
    "sns.histplot(ax=axes[0,1], data=np.clip(vase['price'],0,vase['price'].quantile(.99)), bins = 30, color = 'palegreen')\n",
    "axes[0,1].set_title('Lisings containing the word \"vase\"')\n",
    "\n",
    "# plot bowl prices\n",
    "sns.histplot(ax=axes[1,1], data=np.clip(bowl['price'],0,bowl['price'].quantile(.99)), bins = 30, color = 'mediumpurple')\n",
    "axes[1,1].set_title('Listings containing the word \"bowl\"')\n",
    "\n",
    "plt.show()"
   ]
  },
  {
   "cell_type": "markdown",
   "id": "bf799f1f",
   "metadata": {},
   "source": [
    "### Product Percentages"
   ]
  },
  {
   "cell_type": "code",
   "execution_count": 20,
   "id": "128216c8",
   "metadata": {},
   "outputs": [],
   "source": [
    "# this function calculates the percentage each product represents of the total listings\n",
    "def calculate_product_percent(dataframe, prods):  \n",
    "    product_percents = [] \n",
    "    for i in range(0, len(prods)):\n",
    "        p = prods[i]\n",
    "        df = dataframe[dataframe[p] == 1]\n",
    "        percent = \"{:.2%}\".format(len(df)/len(dataframe))\n",
    "        product_percents.append(percent)\n",
    "    return product_percents"
   ]
  },
  {
   "cell_type": "code",
   "execution_count": 21,
   "id": "91f3043c",
   "metadata": {},
   "outputs": [],
   "source": [
    "# create empty dataframe for product percentages\n",
    "product_percents = pd.DataFrame(columns = products)"
   ]
  },
  {
   "cell_type": "code",
   "execution_count": 22,
   "id": "3388cc18",
   "metadata": {},
   "outputs": [],
   "source": [
    "# calcuate the product percentages for each dataset\n",
    "product_percent_df1 = calculate_product_percent(df1, products)\n",
    "product_percent_df2 = calculate_product_percent(df2, products)\n",
    "product_percent_df3 = calculate_product_percent(df3, products)"
   ]
  },
  {
   "cell_type": "code",
   "execution_count": 23,
   "id": "7fcc9fb3",
   "metadata": {},
   "outputs": [
    {
     "data": {
      "text/html": [
       "<div>\n",
       "<style scoped>\n",
       "    .dataframe tbody tr th:only-of-type {\n",
       "        vertical-align: middle;\n",
       "    }\n",
       "\n",
       "    .dataframe tbody tr th {\n",
       "        vertical-align: top;\n",
       "    }\n",
       "\n",
       "    .dataframe thead th {\n",
       "        text-align: right;\n",
       "    }\n",
       "</style>\n",
       "<table border=\"1\" class=\"dataframe\">\n",
       "  <thead>\n",
       "    <tr style=\"text-align: right;\">\n",
       "      <th></th>\n",
       "      <th>mug</th>\n",
       "      <th>cup</th>\n",
       "      <th>plate</th>\n",
       "      <th>vase</th>\n",
       "      <th>bowl</th>\n",
       "      <th>tea cup</th>\n",
       "      <th>dinnerware set</th>\n",
       "      <th>soap dish</th>\n",
       "      <th>utensil holder</th>\n",
       "      <th>candle holder</th>\n",
       "      <th>ring holder</th>\n",
       "      <th>serving bowl</th>\n",
       "      <th>jar</th>\n",
       "      <th>spoon rest</th>\n",
       "      <th>planter</th>\n",
       "      <th>pendant</th>\n",
       "      <th>jug</th>\n",
       "      <th>soap dispenser</th>\n",
       "      <th>tumbler</th>\n",
       "    </tr>\n",
       "  </thead>\n",
       "  <tbody>\n",
       "    <tr>\n",
       "      <th>0</th>\n",
       "      <td>24.56%</td>\n",
       "      <td>19.01%</td>\n",
       "      <td>7.24%</td>\n",
       "      <td>7.82%</td>\n",
       "      <td>15.94%</td>\n",
       "      <td>5.14%</td>\n",
       "      <td>1.04%</td>\n",
       "      <td>1.03%</td>\n",
       "      <td>0.62%</td>\n",
       "      <td>0.71%</td>\n",
       "      <td>0.20%</td>\n",
       "      <td>2.06%</td>\n",
       "      <td>2.49%</td>\n",
       "      <td>1.42%</td>\n",
       "      <td>3.35%</td>\n",
       "      <td>0.69%</td>\n",
       "      <td>1.59%</td>\n",
       "      <td>0.26%</td>\n",
       "      <td>2.50%</td>\n",
       "    </tr>\n",
       "    <tr>\n",
       "      <th>1</th>\n",
       "      <td>23.63%</td>\n",
       "      <td>18.63%</td>\n",
       "      <td>6.12%</td>\n",
       "      <td>7.98%</td>\n",
       "      <td>15.47%</td>\n",
       "      <td>5.43%</td>\n",
       "      <td>0.58%</td>\n",
       "      <td>1.37%</td>\n",
       "      <td>0.75%</td>\n",
       "      <td>0.76%</td>\n",
       "      <td>0.33%</td>\n",
       "      <td>2.43%</td>\n",
       "      <td>3.56%</td>\n",
       "      <td>1.34%</td>\n",
       "      <td>3.47%</td>\n",
       "      <td>0.81%</td>\n",
       "      <td>1.80%</td>\n",
       "      <td>0.46%</td>\n",
       "      <td>2.53%</td>\n",
       "    </tr>\n",
       "    <tr>\n",
       "      <th>2</th>\n",
       "      <td>24.39%</td>\n",
       "      <td>18.95%</td>\n",
       "      <td>6.46%</td>\n",
       "      <td>7.81%</td>\n",
       "      <td>15.01%</td>\n",
       "      <td>5.15%</td>\n",
       "      <td>0.61%</td>\n",
       "      <td>1.47%</td>\n",
       "      <td>0.44%</td>\n",
       "      <td>0.96%</td>\n",
       "      <td>0.28%</td>\n",
       "      <td>2.19%</td>\n",
       "      <td>3.14%</td>\n",
       "      <td>1.64%</td>\n",
       "      <td>2.55%</td>\n",
       "      <td>0.85%</td>\n",
       "      <td>1.53%</td>\n",
       "      <td>0.48%</td>\n",
       "      <td>2.59%</td>\n",
       "    </tr>\n",
       "  </tbody>\n",
       "</table>\n",
       "</div>"
      ],
      "text/plain": [
       "      mug     cup  plate   vase    bowl tea cup dinnerware set soap dish  \\\n",
       "0  24.56%  19.01%  7.24%  7.82%  15.94%   5.14%          1.04%     1.03%   \n",
       "1  23.63%  18.63%  6.12%  7.98%  15.47%   5.43%          0.58%     1.37%   \n",
       "2  24.39%  18.95%  6.46%  7.81%  15.01%   5.15%          0.61%     1.47%   \n",
       "\n",
       "  utensil holder candle holder ring holder serving bowl    jar spoon rest  \\\n",
       "0          0.62%         0.71%       0.20%        2.06%  2.49%      1.42%   \n",
       "1          0.75%         0.76%       0.33%        2.43%  3.56%      1.34%   \n",
       "2          0.44%         0.96%       0.28%        2.19%  3.14%      1.64%   \n",
       "\n",
       "  planter pendant    jug soap dispenser tumbler  \n",
       "0   3.35%   0.69%  1.59%          0.26%   2.50%  \n",
       "1   3.47%   0.81%  1.80%          0.46%   2.53%  \n",
       "2   2.55%   0.85%  1.53%          0.48%   2.59%  "
      ]
     },
     "execution_count": 23,
     "metadata": {},
     "output_type": "execute_result"
    }
   ],
   "source": [
    "# add the product percents to the dataframe\n",
    "product_percents.loc[len(product_percents)] = product_percent_df1\n",
    "product_percents.loc[len(product_percents)] = product_percent_df2\n",
    "product_percents.loc[len(product_percents)] = product_percent_df3\n",
    "product_percents"
   ]
  },
  {
   "cell_type": "code",
   "execution_count": 24,
   "id": "f30225ca",
   "metadata": {},
   "outputs": [],
   "source": [
    "# create a new dataframe for the listings that have at least 20 favorers\n",
    "twenty_favorers_df1 = df1[df1['num_favorers_listing'] >= 20]\n",
    "twenty_favorers_df2 = df2[df2['num_favorers_listing'] >= 20]\n",
    "twenty_favorers_df3 = df3[df3['num_favorers_listing'] >= 20]"
   ]
  },
  {
   "cell_type": "code",
   "execution_count": 25,
   "id": "b5822ad1",
   "metadata": {},
   "outputs": [],
   "source": [
    "# calcuate the product percentages for the listings that have at least 20 favorers\n",
    "product_percent_twenty_df1 = calculate_product_percent(twenty_favorers_df1, products)\n",
    "product_percent_twenty_df2 = calculate_product_percent(twenty_favorers_df2, products)\n",
    "product_percent_twenty_df3 = calculate_product_percent(twenty_favorers_df3, products)"
   ]
  },
  {
   "cell_type": "code",
   "execution_count": 26,
   "id": "669c92d9",
   "metadata": {},
   "outputs": [],
   "source": [
    "# create empty dataframe for product percentages\n",
    "product_percents_twenty_favorers = pd.DataFrame(columns = products)"
   ]
  },
  {
   "cell_type": "code",
   "execution_count": 27,
   "id": "5e26ecce",
   "metadata": {},
   "outputs": [],
   "source": [
    "#add the percentages to the new dataframe\n",
    "product_percents_twenty_favorers.loc[len(product_percents_twenty_favorers)] = product_percent_twenty_df1\n",
    "product_percents_twenty_favorers.loc[len(product_percents_twenty_favorers)] = product_percent_twenty_df2\n",
    "product_percents_twenty_favorers.loc[len(product_percents_twenty_favorers)] = product_percent_twenty_df3"
   ]
  },
  {
   "cell_type": "code",
   "execution_count": 28,
   "id": "18d49ebe",
   "metadata": {},
   "outputs": [
    {
     "data": {
      "text/html": [
       "<div>\n",
       "<style scoped>\n",
       "    .dataframe tbody tr th:only-of-type {\n",
       "        vertical-align: middle;\n",
       "    }\n",
       "\n",
       "    .dataframe tbody tr th {\n",
       "        vertical-align: top;\n",
       "    }\n",
       "\n",
       "    .dataframe thead th {\n",
       "        text-align: right;\n",
       "    }\n",
       "</style>\n",
       "<table border=\"1\" class=\"dataframe\">\n",
       "  <thead>\n",
       "    <tr style=\"text-align: right;\">\n",
       "      <th></th>\n",
       "      <th>mug</th>\n",
       "      <th>cup</th>\n",
       "      <th>plate</th>\n",
       "      <th>vase</th>\n",
       "      <th>bowl</th>\n",
       "      <th>tea cup</th>\n",
       "      <th>dinnerware set</th>\n",
       "      <th>soap dish</th>\n",
       "      <th>utensil holder</th>\n",
       "      <th>candle holder</th>\n",
       "      <th>ring holder</th>\n",
       "      <th>serving bowl</th>\n",
       "      <th>jar</th>\n",
       "      <th>spoon rest</th>\n",
       "      <th>planter</th>\n",
       "      <th>pendant</th>\n",
       "      <th>jug</th>\n",
       "      <th>soap dispenser</th>\n",
       "      <th>tumbler</th>\n",
       "    </tr>\n",
       "  </thead>\n",
       "  <tbody>\n",
       "    <tr>\n",
       "      <th>0</th>\n",
       "      <td>28.25%</td>\n",
       "      <td>22.59%</td>\n",
       "      <td>10.20%</td>\n",
       "      <td>4.21%</td>\n",
       "      <td>16.81%</td>\n",
       "      <td>6.75%</td>\n",
       "      <td>2.25%</td>\n",
       "      <td>1.60%</td>\n",
       "      <td>0.69%</td>\n",
       "      <td>0.40%</td>\n",
       "      <td>0.36%</td>\n",
       "      <td>2.18%</td>\n",
       "      <td>2.51%</td>\n",
       "      <td>2.21%</td>\n",
       "      <td>2.11%</td>\n",
       "      <td>0.73%</td>\n",
       "      <td>1.02%</td>\n",
       "      <td>0.29%</td>\n",
       "      <td>2.54%</td>\n",
       "    </tr>\n",
       "    <tr>\n",
       "      <th>1</th>\n",
       "      <td>27.78%</td>\n",
       "      <td>20.95%</td>\n",
       "      <td>8.34%</td>\n",
       "      <td>5.18%</td>\n",
       "      <td>16.57%</td>\n",
       "      <td>6.54%</td>\n",
       "      <td>1.58%</td>\n",
       "      <td>1.54%</td>\n",
       "      <td>0.81%</td>\n",
       "      <td>0.55%</td>\n",
       "      <td>0.44%</td>\n",
       "      <td>2.68%</td>\n",
       "      <td>3.64%</td>\n",
       "      <td>1.95%</td>\n",
       "      <td>2.21%</td>\n",
       "      <td>0.96%</td>\n",
       "      <td>1.58%</td>\n",
       "      <td>0.59%</td>\n",
       "      <td>3.20%</td>\n",
       "    </tr>\n",
       "    <tr>\n",
       "      <th>2</th>\n",
       "      <td>28.13%</td>\n",
       "      <td>21.21%</td>\n",
       "      <td>9.10%</td>\n",
       "      <td>3.68%</td>\n",
       "      <td>17.17%</td>\n",
       "      <td>6.07%</td>\n",
       "      <td>1.68%</td>\n",
       "      <td>1.79%</td>\n",
       "      <td>0.54%</td>\n",
       "      <td>0.57%</td>\n",
       "      <td>0.50%</td>\n",
       "      <td>3.11%</td>\n",
       "      <td>3.03%</td>\n",
       "      <td>2.25%</td>\n",
       "      <td>1.36%</td>\n",
       "      <td>0.89%</td>\n",
       "      <td>1.36%</td>\n",
       "      <td>0.64%</td>\n",
       "      <td>2.89%</td>\n",
       "    </tr>\n",
       "  </tbody>\n",
       "</table>\n",
       "</div>"
      ],
      "text/plain": [
       "      mug     cup   plate   vase    bowl tea cup dinnerware set soap dish  \\\n",
       "0  28.25%  22.59%  10.20%  4.21%  16.81%   6.75%          2.25%     1.60%   \n",
       "1  27.78%  20.95%   8.34%  5.18%  16.57%   6.54%          1.58%     1.54%   \n",
       "2  28.13%  21.21%   9.10%  3.68%  17.17%   6.07%          1.68%     1.79%   \n",
       "\n",
       "  utensil holder candle holder ring holder serving bowl    jar spoon rest  \\\n",
       "0          0.69%         0.40%       0.36%        2.18%  2.51%      2.21%   \n",
       "1          0.81%         0.55%       0.44%        2.68%  3.64%      1.95%   \n",
       "2          0.54%         0.57%       0.50%        3.11%  3.03%      2.25%   \n",
       "\n",
       "  planter pendant    jug soap dispenser tumbler  \n",
       "0   2.11%   0.73%  1.02%          0.29%   2.54%  \n",
       "1   2.21%   0.96%  1.58%          0.59%   3.20%  \n",
       "2   1.36%   0.89%  1.36%          0.64%   2.89%  "
      ]
     },
     "execution_count": 28,
     "metadata": {},
     "output_type": "execute_result"
    }
   ],
   "source": [
    "product_percents_twenty_favorers"
   ]
  },
  {
   "cell_type": "code",
   "execution_count": null,
   "id": "abe14cf3",
   "metadata": {},
   "outputs": [],
   "source": []
  }
 ],
 "metadata": {
  "kernelspec": {
   "display_name": "Python 3",
   "language": "python",
   "name": "python3"
  },
  "language_info": {
   "codemirror_mode": {
    "name": "ipython",
    "version": 3
   },
   "file_extension": ".py",
   "mimetype": "text/x-python",
   "name": "python",
   "nbconvert_exporter": "python",
   "pygments_lexer": "ipython3",
   "version": "3.8.8"
  }
 },
 "nbformat": 4,
 "nbformat_minor": 5
}
