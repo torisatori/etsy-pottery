{
 "cells": [
  {
   "cell_type": "markdown",
   "id": "df54dbd3",
   "metadata": {},
   "source": [
    "# Download Active Listings\n",
    "Etsy API limits the offset to 12,000 listings, so that is the maximum number of recently updated listings that can be accessed"
   ]
  },
  {
   "cell_type": "code",
   "execution_count": 1,
   "id": "7a471825",
   "metadata": {},
   "outputs": [],
   "source": [
    "import requests\n",
    "import pandas as pd\n",
    "import json"
   ]
  },
  {
   "cell_type": "markdown",
   "id": "714392d6",
   "metadata": {},
   "source": [
    "Get all listings that match keywords \"stoneware\" and \"handmade\""
   ]
  },
  {
   "cell_type": "code",
   "execution_count": 2,
   "id": "0708f8b3",
   "metadata": {},
   "outputs": [],
   "source": [
    "#GetListings URL and Parameters for the API\n",
    "url = \"https://openapi.etsy.com/v3/application/listings/active\"\n",
    "key = \"r8ymjsnfohuidr1wev7e4cfg\"\n",
    "keyword = \"stoneware,handmade\""
   ]
  },
  {
   "cell_type": "code",
   "execution_count": 3,
   "id": "c0e8e663",
   "metadata": {},
   "outputs": [],
   "source": [
    "#initialize the dataframes\n",
    "dataframe = pd.DataFrame()\n",
    "df = pd.DataFrame()"
   ]
  },
  {
   "cell_type": "markdown",
   "id": "fd7a1ada",
   "metadata": {},
   "source": [
    "### 3/24 I changed this loop a little and need to re-run it"
   ]
  },
  {
   "cell_type": "code",
   "execution_count": 4,
   "id": "6cf6cd27",
   "metadata": {},
   "outputs": [
    {
     "name": "stdout",
     "output_type": "stream",
     "text": [
      "Maximum Offset Reached\n",
      "Maximum Offset Reached\n",
      "Maximum Offset Reached\n",
      "Maximum Offset Reached\n"
     ]
    }
   ],
   "source": [
    "#loop that increases the offset by 100 each time due to the API limitation of downloading a maximum of 100 listings at a time\n",
    "limit = 100\n",
    "offset = 0\n",
    "for i in range (1,121):\n",
    "    parameters = {\"client_id\":key, \"limit\":limit, \"offset\":offset, \"keywords\":keyword}\n",
    "    download = requests.get(url, params=parameters)\n",
    "    data = download.json()\n",
    "    if \"error\" in data.keys():\n",
    "        print(\"Maximum Offset Reached\")\n",
    "    else:\n",
    "        dataframe = pd.json_normalize(data['results'])\n",
    "        df = df.append(dataframe, ignore_index = True)\n",
    "    offset = offset + limit\n",
    "    i = i+1\n",
    "    "
   ]
  },
  {
   "cell_type": "code",
   "execution_count": 11,
   "id": "30095636",
   "metadata": {},
   "outputs": [
    {
     "data": {
      "text/plain": [
       "500"
      ]
     },
     "execution_count": 11,
     "metadata": {},
     "output_type": "execute_result"
    }
   ],
   "source": [
    "#confirm that there are 12,000 rows\n",
    "len(df)"
   ]
  },
  {
   "cell_type": "code",
   "execution_count": 6,
   "id": "5851ef1f",
   "metadata": {},
   "outputs": [],
   "source": [
    "#write the data to a csv file\n",
    "#df.to_csv('12000listingsStonewareHandmade032222.csv')"
   ]
  },
  {
   "cell_type": "markdown",
   "id": "edf58cee",
   "metadata": {},
   "source": [
    "## Download Shop Info for all the Etsy listings in the data\n",
    "\n"
   ]
  },
  {
   "cell_type": "code",
   "execution_count": 8,
   "id": "f31bd6e6",
   "metadata": {},
   "outputs": [],
   "source": [
    "#NOTE: You dont need this if you are doing downloading the 12,000 listings and the shop info at the same time\n",
    "#df = pd.read_csv('12000listingsStonewareHandmade032222.csv')"
   ]
  },
  {
   "cell_type": "code",
   "execution_count": 20,
   "id": "bee6a090",
   "metadata": {},
   "outputs": [],
   "source": [
    "#Get all the unique shop IDs\n",
    "shop_ids = df[\"shop_id\"].tolist()\n",
    "shop_list = list(set(shop_ids))"
   ]
  },
  {
   "cell_type": "code",
   "execution_count": 23,
   "id": "a223ad04",
   "metadata": {},
   "outputs": [],
   "source": [
    "#initialize the dataframes\n",
    "dataframeShop = pd.DataFrame()\n",
    "dfShop = pd.DataFrame()"
   ]
  },
  {
   "cell_type": "code",
   "execution_count": 37,
   "id": "8a99ad38",
   "metadata": {},
   "outputs": [],
   "source": [
    "#loop that queries the API for \n",
    "limit = 100\n",
    "\n",
    "for j in range(0, len(shop_list)):\n",
    "    shop_id = str(shop_list[j])\n",
    "    url = \"https://openapi.etsy.com/v3/application/shops/\" + shop_id\n",
    "    parameters = {\"client_id\":key, \"limit\":limit}\n",
    "    download = requests.get(url, params=parameters)\n",
    "    dataShops = download.json()\n",
    "    dataframeShop = pd.json_normalize(dataShops)\n",
    "    dfShop = df.append(dataframeShop, ignore_index = True)"
   ]
  },
  {
   "cell_type": "code",
   "execution_count": 38,
   "id": "c2ec7927",
   "metadata": {},
   "outputs": [
    {
     "data": {
      "text/html": [
       "<div>\n",
       "<style scoped>\n",
       "    .dataframe tbody tr th:only-of-type {\n",
       "        vertical-align: middle;\n",
       "    }\n",
       "\n",
       "    .dataframe tbody tr th {\n",
       "        vertical-align: top;\n",
       "    }\n",
       "\n",
       "    .dataframe thead th {\n",
       "        text-align: right;\n",
       "    }\n",
       "</style>\n",
       "<table border=\"1\" class=\"dataframe\">\n",
       "  <thead>\n",
       "    <tr style=\"text-align: right;\">\n",
       "      <th></th>\n",
       "      <th>shop_id</th>\n",
       "      <th>shop_name</th>\n",
       "      <th>user_id</th>\n",
       "      <th>create_date</th>\n",
       "      <th>title</th>\n",
       "      <th>announcement</th>\n",
       "      <th>currency_code</th>\n",
       "      <th>is_vacation</th>\n",
       "      <th>vacation_message</th>\n",
       "      <th>sale_message</th>\n",
       "      <th>...</th>\n",
       "      <th>policy_shipping</th>\n",
       "      <th>policy_refunds</th>\n",
       "      <th>policy_additional</th>\n",
       "      <th>policy_seller_info</th>\n",
       "      <th>policy_update_date</th>\n",
       "      <th>policy_has_private_receipt_info</th>\n",
       "      <th>has_unstructured_policies</th>\n",
       "      <th>policy_privacy</th>\n",
       "      <th>review_average</th>\n",
       "      <th>review_count</th>\n",
       "    </tr>\n",
       "  </thead>\n",
       "  <tbody>\n",
       "    <tr>\n",
       "      <th>0</th>\n",
       "      <td>9606653</td>\n",
       "      <td>MuddyMountainPottery</td>\n",
       "      <td>49320080</td>\n",
       "      <td>1402345722</td>\n",
       "      <td>Handmade Stoneware Pottery from Wyoming</td>\n",
       "      <td>Muddy Mountain Pottery offers unique, function...</td>\n",
       "      <td>USD</td>\n",
       "      <td>False</td>\n",
       "      <td>None</td>\n",
       "      <td>Thanks so much for your order!  We&amp;#39;ll emai...</td>\n",
       "      <td>...</td>\n",
       "      <td>Most of our pottery is made to order and requi...</td>\n",
       "      <td>In the (unlikely!) event that something is los...</td>\n",
       "      <td>We welcome wholesale orders.  Please contact u...</td>\n",
       "      <td>None</td>\n",
       "      <td>1427385480</td>\n",
       "      <td>False</td>\n",
       "      <td>True</td>\n",
       "      <td>None</td>\n",
       "      <td>5</td>\n",
       "      <td>8</td>\n",
       "    </tr>\n",
       "  </tbody>\n",
       "</table>\n",
       "<p>1 rows × 45 columns</p>\n",
       "</div>"
      ],
      "text/plain": [
       "   shop_id             shop_name   user_id  create_date  \\\n",
       "0  9606653  MuddyMountainPottery  49320080   1402345722   \n",
       "\n",
       "                                     title  \\\n",
       "0  Handmade Stoneware Pottery from Wyoming   \n",
       "\n",
       "                                        announcement currency_code  \\\n",
       "0  Muddy Mountain Pottery offers unique, function...           USD   \n",
       "\n",
       "   is_vacation vacation_message  \\\n",
       "0        False             None   \n",
       "\n",
       "                                        sale_message  ...  \\\n",
       "0  Thanks so much for your order!  We&#39;ll emai...  ...   \n",
       "\n",
       "                                     policy_shipping  \\\n",
       "0  Most of our pottery is made to order and requi...   \n",
       "\n",
       "                                      policy_refunds  \\\n",
       "0  In the (unlikely!) event that something is los...   \n",
       "\n",
       "                                   policy_additional  policy_seller_info  \\\n",
       "0  We welcome wholesale orders.  Please contact u...                None   \n",
       "\n",
       "  policy_update_date  policy_has_private_receipt_info  \\\n",
       "0         1427385480                            False   \n",
       "\n",
       "  has_unstructured_policies policy_privacy review_average  review_count  \n",
       "0                      True           None              5             8  \n",
       "\n",
       "[1 rows x 45 columns]"
      ]
     },
     "execution_count": 38,
     "metadata": {},
     "output_type": "execute_result"
    }
   ],
   "source": [
    "dataframeShop"
   ]
  },
  {
   "cell_type": "markdown",
   "id": "d17808f3",
   "metadata": {},
   "source": [
    "## Merge the data"
   ]
  },
  {
   "cell_type": "code",
   "execution_count": 27,
   "id": "87a9af15",
   "metadata": {},
   "outputs": [],
   "source": [
    "#create a dataframe with just the columns I'm interested in for the listings data\n",
    "listings = df[['listing_id', 'shop_id', 'title',\n",
    "       'description', 'num_favorers',\n",
    "       'listing_type', 'tags', 'materials',\n",
    "       'style','taxonomy_id','price.amount',\n",
    "       'price.divisor', 'price.currency_code','creation_timestamp', 'ending_timestamp',\n",
    "       'original_creation_timestamp','quantity']]"
   ]
  },
  {
   "cell_type": "code",
   "execution_count": 39,
   "id": "bcf7a551",
   "metadata": {},
   "outputs": [],
   "source": [
    "#create a dataframe with just the columns I'm interested in for the shops data\n",
    "shops = dfShop[['shop_id', 'shop_name', 'create_date', 'title',\n",
    "       'announcement', 'currency_code', 'is_vacation', 'vacation_message',\n",
    "       'sale_message',\n",
    "       'listing_active_count',\n",
    "       'accepts_custom_requests', 'url',\n",
    "       'num_favorers', 'languages', 'is_shop_us_based', 'transaction_sold_count',\n",
    "       'shipping_from_country_iso', 'shop_location_country_iso',\n",
    "       'review_average', 'review_count']]"
   ]
  },
  {
   "cell_type": "code",
   "execution_count": 40,
   "id": "598345ae",
   "metadata": {},
   "outputs": [],
   "source": [
    "#merge the two datasets so that the shop information is added to each listing\n",
    "data = pd.merge(listings, shops, on=\"shop_id\")"
   ]
  },
  {
   "cell_type": "code",
   "execution_count": null,
   "id": "68b070a9",
   "metadata": {},
   "outputs": [],
   "source": [
    "# save the merged data\n",
    "#data.to_csv('mergedData.csv')"
   ]
  }
 ],
 "metadata": {
  "kernelspec": {
   "display_name": "Python 3",
   "language": "python",
   "name": "python3"
  },
  "language_info": {
   "codemirror_mode": {
    "name": "ipython",
    "version": 3
   },
   "file_extension": ".py",
   "mimetype": "text/x-python",
   "name": "python",
   "nbconvert_exporter": "python",
   "pygments_lexer": "ipython3",
   "version": "3.8.8"
  }
 },
 "nbformat": 4,
 "nbformat_minor": 5
}
