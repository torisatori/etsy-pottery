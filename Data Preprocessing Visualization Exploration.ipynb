{
 "cells": [
  {
   "cell_type": "markdown",
   "id": "ff64b22b",
   "metadata": {},
   "source": [
    "# Data Preprocessing"
   ]
  },
  {
   "cell_type": "code",
   "execution_count": 85,
   "id": "d61d915d",
   "metadata": {},
   "outputs": [],
   "source": [
    "import pandas as pd\n",
    "import numpy as np\n",
    "import datetime  \n",
    "import matplotlib.pyplot as plt\n",
    "import seaborn as sns"
   ]
  },
  {
   "cell_type": "code",
   "execution_count": 71,
   "id": "9d354057",
   "metadata": {},
   "outputs": [],
   "source": [
    "# the name of the dataset\n",
    "name = 'mergedData041022'"
   ]
  },
  {
   "cell_type": "code",
   "execution_count": 72,
   "id": "74217d1f",
   "metadata": {},
   "outputs": [],
   "source": [
    "# read the data to a dataframe\n",
    "data = pd.read_csv('data/' + name + '.csv')"
   ]
  },
  {
   "cell_type": "markdown",
   "id": "9ad3f81a",
   "metadata": {},
   "source": [
    "### Dates the data covers"
   ]
  },
  {
   "cell_type": "code",
   "execution_count": 73,
   "id": "a6ed9a73",
   "metadata": {},
   "outputs": [
    {
     "data": {
      "text/plain": [
       "datetime.date(2022, 3, 23)"
      ]
     },
     "execution_count": 73,
     "metadata": {},
     "output_type": "execute_result"
    }
   ],
   "source": [
    "#find the date of the first listing\n",
    "first = data[\"creation_timestamp\"].min()\n",
    "datetime.date.fromtimestamp(first)"
   ]
  },
  {
   "cell_type": "code",
   "execution_count": 74,
   "id": "b354499e",
   "metadata": {},
   "outputs": [
    {
     "data": {
      "text/plain": [
       "datetime.date(2022, 4, 10)"
      ]
     },
     "execution_count": 74,
     "metadata": {},
     "output_type": "execute_result"
    }
   ],
   "source": [
    "#find the date of the last listing\n",
    "last = data[\"creation_timestamp\"].max()\n",
    "datetime.date.fromtimestamp(last)"
   ]
  },
  {
   "cell_type": "markdown",
   "id": "f0b0812d",
   "metadata": {},
   "source": [
    "### Clean Up Columns"
   ]
  },
  {
   "cell_type": "code",
   "execution_count": 75,
   "id": "be96fc75",
   "metadata": {},
   "outputs": [],
   "source": [
    "#rename columns to distinguish between attributes of the listings vs attributes of the shops\n",
    "data = data.rename(columns={'title_x':'title_listing','num_favorers_x':'num_favorers_listing','title_y':'title_shop','num_favorers_y':'num_favorers_shop'})"
   ]
  },
  {
   "cell_type": "code",
   "execution_count": 76,
   "id": "88bb2c0b",
   "metadata": {},
   "outputs": [
    {
     "data": {
      "text/plain": [
       "26530"
      ]
     },
     "execution_count": 76,
     "metadata": {},
     "output_type": "execute_result"
    }
   ],
   "source": [
    "#look at unique values in a single column and other characteristics\n",
    "column = \"num_favorers_listing\"\n",
    "values = list(set(data[column]))\n",
    "#values\n",
    "#len(values)\n",
    "max(values)"
   ]
  },
  {
   "cell_type": "code",
   "execution_count": 77,
   "id": "a744c0cd",
   "metadata": {},
   "outputs": [
    {
     "data": {
      "text/plain": [
       "3619    https://www.etsy.com/shop/juliaedean\n",
       "Name: url, dtype: object"
      ]
     },
     "execution_count": 77,
     "metadata": {},
     "output_type": "execute_result"
    }
   ],
   "source": [
    "#Get URL for the shop for a specific listing\n",
    "#This is the url for the shop with the highest number of favorers\n",
    "\n",
    "data[data['num_favorers_listing'] == max(values)]['url']"
   ]
  },
  {
   "cell_type": "markdown",
   "id": "a246bf90",
   "metadata": {},
   "source": [
    "### Clean up the data"
   ]
  },
  {
   "cell_type": "code",
   "execution_count": 78,
   "id": "9f7addc1",
   "metadata": {},
   "outputs": [],
   "source": [
    "#drop irrelevant columns\n",
    "data = data.drop(columns = ['Unnamed: 0','is_vacation', 'vacation_message', 'sale_message',])"
   ]
  },
  {
   "cell_type": "code",
   "execution_count": 79,
   "id": "ce4b4715",
   "metadata": {},
   "outputs": [],
   "source": [
    "#remove duplicate listings, keep the most recent\n",
    "data = data[data.duplicated(subset='listing_id', keep='first')==False]"
   ]
  },
  {
   "cell_type": "code",
   "execution_count": 80,
   "id": "1bc65837",
   "metadata": {},
   "outputs": [
    {
     "data": {
      "text/plain": [
       "['title_shop',\n",
       " 'announcement',\n",
       " 'shipping_from_country_iso',\n",
       " 'shop_location_country_iso',\n",
       " 'review_average',\n",
       " 'review_count']"
      ]
     },
     "execution_count": 80,
     "metadata": {},
     "output_type": "execute_result"
    }
   ],
   "source": [
    "#identify columns that contain missing data\n",
    "columns = data.columns\n",
    "\n",
    "missing = []\n",
    "for column in columns:\n",
    "    null = data[data[column].isnull()]\n",
    "    if len(null)!=0:\n",
    "        missing.append(column)\n",
    "        \n",
    "missing"
   ]
  },
  {
   "cell_type": "code",
   "execution_count": 81,
   "id": "6ffa8fd4",
   "metadata": {},
   "outputs": [
    {
     "data": {
      "text/plain": [
       "['title_shop',\n",
       " 'announcement',\n",
       " 'shipping_from_country_iso',\n",
       " 'shop_location_country_iso',\n",
       " 'review_average',\n",
       " 'review_count']"
      ]
     },
     "execution_count": 81,
     "metadata": {},
     "output_type": "execute_result"
    }
   ],
   "source": [
    "\"\"\"the first four columns having missing data shouldn't affect the analysis, \n",
    "but I want to filter out the shops that have zero reviews (and therefore no review average)\"\"\"\n",
    "missing"
   ]
  },
  {
   "cell_type": "code",
   "execution_count": 82,
   "id": "cd67aaf3",
   "metadata": {},
   "outputs": [],
   "source": [
    "# remove listings from shops with no reviews\n",
    "data = data[data['review_average'].notnull()]"
   ]
  },
  {
   "cell_type": "code",
   "execution_count": 84,
   "id": "e5a8dab2",
   "metadata": {},
   "outputs": [],
   "source": [
    "# Save the cleaned data\n",
    "data.to_csv('data/' + name + 'clean.csv')"
   ]
  },
  {
   "cell_type": "markdown",
   "id": "f1376d7a",
   "metadata": {},
   "source": [
    "## Visualize and Explore"
   ]
  },
  {
   "cell_type": "markdown",
   "id": "466c55b1",
   "metadata": {},
   "source": [
    "### Explore attributes of the shops"
   ]
  },
  {
   "cell_type": "code",
   "execution_count": 92,
   "id": "1e55c529",
   "metadata": {},
   "outputs": [
    {
     "data": {
      "image/png": "[encoded data removed]",
      "text/plain": [
       "<Figure size 864x576 with 4 Axes>"
      ]
     },
     "metadata": {
      "needs_background": "light"
     },
     "output_type": "display_data"
    }
   ],
   "source": [
    "#Plot info about shops\n",
    "#The plots were highly skewed so I adjusted the axes to display 99% of the data which helped them be more meaningful visually\n",
    "fig = plt.figure(figsize=(12,8))\n",
    "ax1 = fig.add_subplot(221)\n",
    "ax2 = fig.add_subplot(222)\n",
    "ax3 = fig.add_subplot(223)\n",
    "ax4 = fig.add_subplot(224)\n",
    "ax1.hist(np.clip(data['review_average'],data['review_average'].quantile(.01),5.0), bins = 30)\n",
    "ax2.hist(np.clip(data['review_count'],0,data['review_count'].quantile(.99)), bins = 30)\n",
    "ax3.hist(np.clip(data['num_favorers_shop'],0,data['num_favorers_shop'].quantile(.99)), bins = 30)\n",
    "ax4.hist(np.clip(data['transaction_sold_count'],0,data['transaction_sold_count'].quantile(.99)), bins = 30)\n",
    "ax1.title.set_text('Review Average')\n",
    "ax2.title.set_text('Review Count')\n",
    "ax3.title.set_text('Number of Favorers')\n",
    "ax4.title.set_text('Transactions Sold Count')\n",
    "plt.show()"
   ]
  },
  {
   "cell_type": "code",
   "execution_count": 64,
   "id": "2a5b9c52",
   "metadata": {},
   "outputs": [
    {
     "name": "stdout",
     "output_type": "stream",
     "text": [
      "4.0 0.9954626334519573\n",
      "4.1 0.995373665480427\n",
      "4.2 0.9949288256227758\n",
      "4.3 0.994661921708185\n",
      "4.4 0.9915480427046264\n",
      "4.5 0.9882562277580071\n",
      "4.6 0.9836298932384342\n",
      "4.7 0.9781138790035587\n",
      "4.8 0.954982206405694\n",
      "4.9 0.8916370106761566\n"
     ]
    }
   ],
   "source": [
    "#percentage of shops with review average above a value\n",
    "averages = [4.0, 4.1, 4.2, 4.3, 4.4, 4.5, 4.6, 4.7, 4.8, 4.9]\n",
    "\n",
    "for avg in averages:\n",
    "    percent = len([i for i in data['review_average'] if i > avg])/len(data)\n",
    "    print(avg,percent)"
   ]
  },
  {
   "cell_type": "code",
   "execution_count": 90,
   "id": "187baf0f",
   "metadata": {},
   "outputs": [
    {
     "data": {
      "image/png": "[encoded data removed]",
      "text/plain": [
       "<Figure size 864x504 with 1 Axes>"
      ]
     },
     "metadata": {
      "needs_background": "light"
     },
     "output_type": "display_data"
    }
   ],
   "source": [
    "# Plot Review Averages vs Number of Reviews\n",
    "plt.figure(figsize=(12, 7))\n",
    "\n",
    "plt.title(\"Shop Review Averages vs Number of Reviews\", fontdict={\"fontsize\":18})\n",
    "\n",
    "plt.xlabel(\"Review Average\", fontdict={\"fontsize\":16})\n",
    "plt.ylabel(\"Review Count\", fontdict={\"fontsize\":16})\n",
    "\n",
    "sns.scatterplot(data=data, x='review_average', y='review_count')\n",
    "\n",
    "plt.show()"
   ]
  },
  {
   "cell_type": "markdown",
   "id": "b9e3000c",
   "metadata": {},
   "source": [
    "### Explore attributes of the listings"
   ]
  },
  {
   "cell_type": "code",
   "execution_count": 65,
   "id": "5e7d25eb",
   "metadata": {},
   "outputs": [
    {
     "data": {
      "image/png": "[encoded data removed]",
      "text/plain": [
       "<Figure size 864x576 with 2 Axes>"
      ]
     },
     "metadata": {
      "needs_background": "light"
     },
     "output_type": "display_data"
    }
   ],
   "source": [
    "#Plot info about listings\n",
    "fig = plt.figure(figsize=(12,8))\n",
    "ax1 = fig.add_subplot(221)\n",
    "ax2 = fig.add_subplot(222)\n",
    "ax1.hist(np.clip(data['price.amount'],0,data['price.amount'].quantile(.99)), bins = 30)\n",
    "ax2.hist(np.clip(data['num_favorers_listing'],0,data['num_favorers_listing'].quantile(.98)), bins = 30)\n",
    "ax1.title.set_text('Price')\n",
    "ax2.title.set_text('Number of Favorers')\n",
    "plt.show()"
   ]
  },
  {
   "cell_type": "markdown",
   "id": "1257abb6",
   "metadata": {},
   "source": [
    "## Filter by US data\n",
    "In case I want to compare US vs. International Listings Later"
   ]
  },
  {
   "cell_type": "code",
   "execution_count": 66,
   "id": "1a9c616b",
   "metadata": {},
   "outputs": [],
   "source": [
    "#create dataframe with listings from shops based in the US\n",
    "us_data = data[data[\"is_shop_us_based\"]]"
   ]
  },
  {
   "cell_type": "code",
   "execution_count": 67,
   "id": "f73deef3",
   "metadata": {},
   "outputs": [
    {
     "data": {
      "text/html": [
       "<div>\n",
       "<style scoped>\n",
       "    .dataframe tbody tr th:only-of-type {\n",
       "        vertical-align: middle;\n",
       "    }\n",
       "\n",
       "    .dataframe tbody tr th {\n",
       "        vertical-align: top;\n",
       "    }\n",
       "\n",
       "    .dataframe thead th {\n",
       "        text-align: right;\n",
       "    }\n",
       "</style>\n",
       "<table border=\"1\" class=\"dataframe\">\n",
       "  <thead>\n",
       "    <tr style=\"text-align: right;\">\n",
       "      <th></th>\n",
       "      <th>listing_id</th>\n",
       "      <th>shop_id</th>\n",
       "      <th>title_listing</th>\n",
       "      <th>description</th>\n",
       "      <th>num_favorers_listing</th>\n",
       "      <th>listing_type</th>\n",
       "      <th>tags</th>\n",
       "      <th>materials</th>\n",
       "      <th>style</th>\n",
       "      <th>taxonomy_id</th>\n",
       "      <th>...</th>\n",
       "      <th>accepts_custom_requests</th>\n",
       "      <th>url</th>\n",
       "      <th>num_favorers_shop</th>\n",
       "      <th>languages</th>\n",
       "      <th>is_shop_us_based</th>\n",
       "      <th>transaction_sold_count</th>\n",
       "      <th>shipping_from_country_iso</th>\n",
       "      <th>shop_location_country_iso</th>\n",
       "      <th>review_average</th>\n",
       "      <th>review_count</th>\n",
       "    </tr>\n",
       "  </thead>\n",
       "  <tbody>\n",
       "    <tr>\n",
       "      <th>12</th>\n",
       "      <td>741580082</td>\n",
       "      <td>12228258</td>\n",
       "      <td>The Grate Plate Ceramic Grater 3 Piece set: Ce...</td>\n",
       "      <td>Hexagon plates measure approximately 4.5 inche...</td>\n",
       "      <td>2512</td>\n",
       "      <td>physical</td>\n",
       "      <td>['garlic', 'grater', 'ceramic', 'ginger grater...</td>\n",
       "      <td>['Ceramic']</td>\n",
       "      <td>[]</td>\n",
       "      <td>6503</td>\n",
       "      <td>...</td>\n",
       "      <td>False</td>\n",
       "      <td>https://www.etsy.com/shop/TheGratePlate</td>\n",
       "      <td>541</td>\n",
       "      <td>['en-US']</td>\n",
       "      <td>True</td>\n",
       "      <td>3372</td>\n",
       "      <td>US</td>\n",
       "      <td>US</td>\n",
       "      <td>4.9569</td>\n",
       "      <td>209.0</td>\n",
       "    </tr>\n",
       "    <tr>\n",
       "      <th>25</th>\n",
       "      <td>1144544594</td>\n",
       "      <td>6095187</td>\n",
       "      <td>New Celtic Shamrock logo for Irish or Scottish...</td>\n",
       "      <td>New Celtic Shamrock logo available!   Beautifu...</td>\n",
       "      <td>8</td>\n",
       "      <td>physical</td>\n",
       "      <td>['personalized pottery', 'stoneware pottery', ...</td>\n",
       "      <td>['stoneware pottery', 'Celtic Cross']</td>\n",
       "      <td>['Rustic', 'Cottage Chic']</td>\n",
       "      <td>1667</td>\n",
       "      <td>...</td>\n",
       "      <td>True</td>\n",
       "      <td>https://www.etsy.com/shop/zotterthepotter</td>\n",
       "      <td>2522</td>\n",
       "      <td>['en-US']</td>\n",
       "      <td>True</td>\n",
       "      <td>8839</td>\n",
       "      <td>NaN</td>\n",
       "      <td>US</td>\n",
       "      <td>4.8688</td>\n",
       "      <td>320.0</td>\n",
       "    </tr>\n",
       "    <tr>\n",
       "      <th>26</th>\n",
       "      <td>213780309</td>\n",
       "      <td>6095187</td>\n",
       "      <td>Personalized 50th Wedding Anniversary Gift (Sh...</td>\n",
       "      <td>Our Personalized Pottery Stoneware makes a gre...</td>\n",
       "      <td>1386</td>\n",
       "      <td>physical</td>\n",
       "      <td>['personalized pottery', 'stoneware pottery', ...</td>\n",
       "      <td>['stoneware pottery']</td>\n",
       "      <td>['Rustic', 'Cottage Chic']</td>\n",
       "      <td>1667</td>\n",
       "      <td>...</td>\n",
       "      <td>True</td>\n",
       "      <td>https://www.etsy.com/shop/zotterthepotter</td>\n",
       "      <td>2522</td>\n",
       "      <td>['en-US']</td>\n",
       "      <td>True</td>\n",
       "      <td>8839</td>\n",
       "      <td>NaN</td>\n",
       "      <td>US</td>\n",
       "      <td>4.8688</td>\n",
       "      <td>320.0</td>\n",
       "    </tr>\n",
       "    <tr>\n",
       "      <th>27</th>\n",
       "      <td>682959753</td>\n",
       "      <td>6095187</td>\n",
       "      <td>Personalized Mug featuring Crow logo</td>\n",
       "      <td>Price: $34.95\\nSize: 5.5&amp;quot; x 3.5&amp;quot; \\n\\...</td>\n",
       "      <td>45</td>\n",
       "      <td>physical</td>\n",
       "      <td>['personalized pottery', 'stoneware pottery', ...</td>\n",
       "      <td>['Ceramic']</td>\n",
       "      <td>['Rustic', 'Cottage Chic']</td>\n",
       "      <td>1043</td>\n",
       "      <td>...</td>\n",
       "      <td>True</td>\n",
       "      <td>https://www.etsy.com/shop/zotterthepotter</td>\n",
       "      <td>2522</td>\n",
       "      <td>['en-US']</td>\n",
       "      <td>True</td>\n",
       "      <td>8839</td>\n",
       "      <td>NaN</td>\n",
       "      <td>US</td>\n",
       "      <td>4.8688</td>\n",
       "      <td>320.0</td>\n",
       "    </tr>\n",
       "    <tr>\n",
       "      <th>28</th>\n",
       "      <td>157043699</td>\n",
       "      <td>6095187</td>\n",
       "      <td>Personalized Stoneware Marriage Crock</td>\n",
       "      <td>Personalized Stoneware Marriage Crock makes a ...</td>\n",
       "      <td>101</td>\n",
       "      <td>physical</td>\n",
       "      <td>['personalized pottery', 'stoneware pottery', ...</td>\n",
       "      <td>['stoneware pottery']</td>\n",
       "      <td>['Rustic', 'Cottage Chic']</td>\n",
       "      <td>1667</td>\n",
       "      <td>...</td>\n",
       "      <td>True</td>\n",
       "      <td>https://www.etsy.com/shop/zotterthepotter</td>\n",
       "      <td>2522</td>\n",
       "      <td>['en-US']</td>\n",
       "      <td>True</td>\n",
       "      <td>8839</td>\n",
       "      <td>NaN</td>\n",
       "      <td>US</td>\n",
       "      <td>4.8688</td>\n",
       "      <td>320.0</td>\n",
       "    </tr>\n",
       "    <tr>\n",
       "      <th>...</th>\n",
       "      <td>...</td>\n",
       "      <td>...</td>\n",
       "      <td>...</td>\n",
       "      <td>...</td>\n",
       "      <td>...</td>\n",
       "      <td>...</td>\n",
       "      <td>...</td>\n",
       "      <td>...</td>\n",
       "      <td>...</td>\n",
       "      <td>...</td>\n",
       "      <td>...</td>\n",
       "      <td>...</td>\n",
       "      <td>...</td>\n",
       "      <td>...</td>\n",
       "      <td>...</td>\n",
       "      <td>...</td>\n",
       "      <td>...</td>\n",
       "      <td>...</td>\n",
       "      <td>...</td>\n",
       "      <td>...</td>\n",
       "      <td>...</td>\n",
       "    </tr>\n",
       "    <tr>\n",
       "      <th>11989</th>\n",
       "      <td>1107088022</td>\n",
       "      <td>10843241</td>\n",
       "      <td>1970s Tea Set // “Mikasa” California Poppies /...</td>\n",
       "      <td>Looove this tea set!\\n\\nIn great condition \\n\\...</td>\n",
       "      <td>9</td>\n",
       "      <td>physical</td>\n",
       "      <td>['Japanese', '80s', '50s', '60s', '70s', 'flow...</td>\n",
       "      <td>['Ceramic']</td>\n",
       "      <td>[]</td>\n",
       "      <td>1943</td>\n",
       "      <td>...</td>\n",
       "      <td>False</td>\n",
       "      <td>https://www.etsy.com/shop/Missblooeyes</td>\n",
       "      <td>484</td>\n",
       "      <td>['en-US']</td>\n",
       "      <td>True</td>\n",
       "      <td>619</td>\n",
       "      <td>US</td>\n",
       "      <td>US</td>\n",
       "      <td>4.9934</td>\n",
       "      <td>152.0</td>\n",
       "    </tr>\n",
       "    <tr>\n",
       "      <th>11990</th>\n",
       "      <td>1155660656</td>\n",
       "      <td>22762679</td>\n",
       "      <td>Handmade Dragon Scale Mug || 12 Ounce Ceramic ...</td>\n",
       "      <td>Handmade Ceramic Dragon Mug -\\n\\nHand-thrown o...</td>\n",
       "      <td>87</td>\n",
       "      <td>physical</td>\n",
       "      <td>['handmade mug', 'dragon mug', 'pottery mug', ...</td>\n",
       "      <td>['Ceramic']</td>\n",
       "      <td>[]</td>\n",
       "      <td>1062</td>\n",
       "      <td>...</td>\n",
       "      <td>False</td>\n",
       "      <td>https://www.etsy.com/shop/RowdyDragonStudio</td>\n",
       "      <td>365</td>\n",
       "      <td>['en-US']</td>\n",
       "      <td>True</td>\n",
       "      <td>745</td>\n",
       "      <td>US</td>\n",
       "      <td>US</td>\n",
       "      <td>4.9484</td>\n",
       "      <td>213.0</td>\n",
       "    </tr>\n",
       "    <tr>\n",
       "      <th>11992</th>\n",
       "      <td>773448370</td>\n",
       "      <td>18717969</td>\n",
       "      <td>Bowl</td>\n",
       "      <td>Botanical Ceramic Bowl\\n- Wheel thrown\\n- Hand...</td>\n",
       "      <td>0</td>\n",
       "      <td>physical</td>\n",
       "      <td>['Kitchen', 'Dish', 'Bowl', 'Stoneware', 'Hand...</td>\n",
       "      <td>['Stoneware']</td>\n",
       "      <td>[]</td>\n",
       "      <td>6096</td>\n",
       "      <td>...</td>\n",
       "      <td>False</td>\n",
       "      <td>https://www.etsy.com/shop/MadisonRoseCeramics</td>\n",
       "      <td>43</td>\n",
       "      <td>['en-US']</td>\n",
       "      <td>True</td>\n",
       "      <td>73</td>\n",
       "      <td>US</td>\n",
       "      <td>US</td>\n",
       "      <td>4.8000</td>\n",
       "      <td>5.0</td>\n",
       "    </tr>\n",
       "    <tr>\n",
       "      <th>11993</th>\n",
       "      <td>787331049</td>\n",
       "      <td>18717969</td>\n",
       "      <td>Cylindrical Pot</td>\n",
       "      <td>- Ceramic\\n- Wheel thrown\\n- Handmade \\n- Cyli...</td>\n",
       "      <td>1</td>\n",
       "      <td>physical</td>\n",
       "      <td>['Planter', 'Cylinder', 'Stoneware', 'Kitchen'...</td>\n",
       "      <td>['Stoneware']</td>\n",
       "      <td>[]</td>\n",
       "      <td>6096</td>\n",
       "      <td>...</td>\n",
       "      <td>False</td>\n",
       "      <td>https://www.etsy.com/shop/MadisonRoseCeramics</td>\n",
       "      <td>43</td>\n",
       "      <td>['en-US']</td>\n",
       "      <td>True</td>\n",
       "      <td>73</td>\n",
       "      <td>US</td>\n",
       "      <td>US</td>\n",
       "      <td>4.8000</td>\n",
       "      <td>5.0</td>\n",
       "    </tr>\n",
       "    <tr>\n",
       "      <th>11994</th>\n",
       "      <td>1077597262</td>\n",
       "      <td>15702055</td>\n",
       "      <td>Offshore blue spoon rest - ceramic spoon rest ...</td>\n",
       "      <td>We&amp;#39;re all cooking more for ourselves these...</td>\n",
       "      <td>13</td>\n",
       "      <td>physical</td>\n",
       "      <td>['spoon rest', 'pottery spoon rest', 'kitchen ...</td>\n",
       "      <td>['Ceramic']</td>\n",
       "      <td>[]</td>\n",
       "      <td>1049</td>\n",
       "      <td>...</td>\n",
       "      <td>False</td>\n",
       "      <td>https://www.etsy.com/shop/SaltoftheEarthNC</td>\n",
       "      <td>941</td>\n",
       "      <td>['en-US']</td>\n",
       "      <td>True</td>\n",
       "      <td>2111</td>\n",
       "      <td>US</td>\n",
       "      <td>US</td>\n",
       "      <td>4.9647</td>\n",
       "      <td>170.0</td>\n",
       "    </tr>\n",
       "  </tbody>\n",
       "</table>\n",
       "<p>6221 rows × 33 columns</p>\n",
       "</div>"
      ],
      "text/plain": [
       "       listing_id   shop_id  \\\n",
       "12      741580082  12228258   \n",
       "25     1144544594   6095187   \n",
       "26      213780309   6095187   \n",
       "27      682959753   6095187   \n",
       "28      157043699   6095187   \n",
       "...           ...       ...   \n",
       "11989  1107088022  10843241   \n",
       "11990  1155660656  22762679   \n",
       "11992   773448370  18717969   \n",
       "11993   787331049  18717969   \n",
       "11994  1077597262  15702055   \n",
       "\n",
       "                                           title_listing  \\\n",
       "12     The Grate Plate Ceramic Grater 3 Piece set: Ce...   \n",
       "25     New Celtic Shamrock logo for Irish or Scottish...   \n",
       "26     Personalized 50th Wedding Anniversary Gift (Sh...   \n",
       "27                  Personalized Mug featuring Crow logo   \n",
       "28                 Personalized Stoneware Marriage Crock   \n",
       "...                                                  ...   \n",
       "11989  1970s Tea Set // “Mikasa” California Poppies /...   \n",
       "11990  Handmade Dragon Scale Mug || 12 Ounce Ceramic ...   \n",
       "11992                                               Bowl   \n",
       "11993                                    Cylindrical Pot   \n",
       "11994  Offshore blue spoon rest - ceramic spoon rest ...   \n",
       "\n",
       "                                             description  \\\n",
       "12     Hexagon plates measure approximately 4.5 inche...   \n",
       "25     New Celtic Shamrock logo available!   Beautifu...   \n",
       "26     Our Personalized Pottery Stoneware makes a gre...   \n",
       "27     Price: $34.95\\nSize: 5.5&quot; x 3.5&quot; \\n\\...   \n",
       "28     Personalized Stoneware Marriage Crock makes a ...   \n",
       "...                                                  ...   \n",
       "11989  Looove this tea set!\\n\\nIn great condition \\n\\...   \n",
       "11990  Handmade Ceramic Dragon Mug -\\n\\nHand-thrown o...   \n",
       "11992  Botanical Ceramic Bowl\\n- Wheel thrown\\n- Hand...   \n",
       "11993  - Ceramic\\n- Wheel thrown\\n- Handmade \\n- Cyli...   \n",
       "11994  We&#39;re all cooking more for ourselves these...   \n",
       "\n",
       "       num_favorers_listing listing_type  \\\n",
       "12                     2512     physical   \n",
       "25                        8     physical   \n",
       "26                     1386     physical   \n",
       "27                       45     physical   \n",
       "28                      101     physical   \n",
       "...                     ...          ...   \n",
       "11989                     9     physical   \n",
       "11990                    87     physical   \n",
       "11992                     0     physical   \n",
       "11993                     1     physical   \n",
       "11994                    13     physical   \n",
       "\n",
       "                                                    tags  \\\n",
       "12     ['garlic', 'grater', 'ceramic', 'ginger grater...   \n",
       "25     ['personalized pottery', 'stoneware pottery', ...   \n",
       "26     ['personalized pottery', 'stoneware pottery', ...   \n",
       "27     ['personalized pottery', 'stoneware pottery', ...   \n",
       "28     ['personalized pottery', 'stoneware pottery', ...   \n",
       "...                                                  ...   \n",
       "11989  ['Japanese', '80s', '50s', '60s', '70s', 'flow...   \n",
       "11990  ['handmade mug', 'dragon mug', 'pottery mug', ...   \n",
       "11992  ['Kitchen', 'Dish', 'Bowl', 'Stoneware', 'Hand...   \n",
       "11993  ['Planter', 'Cylinder', 'Stoneware', 'Kitchen'...   \n",
       "11994  ['spoon rest', 'pottery spoon rest', 'kitchen ...   \n",
       "\n",
       "                                   materials                       style  \\\n",
       "12                               ['Ceramic']                          []   \n",
       "25     ['stoneware pottery', 'Celtic Cross']  ['Rustic', 'Cottage Chic']   \n",
       "26                     ['stoneware pottery']  ['Rustic', 'Cottage Chic']   \n",
       "27                               ['Ceramic']  ['Rustic', 'Cottage Chic']   \n",
       "28                     ['stoneware pottery']  ['Rustic', 'Cottage Chic']   \n",
       "...                                      ...                         ...   \n",
       "11989                            ['Ceramic']                          []   \n",
       "11990                            ['Ceramic']                          []   \n",
       "11992                          ['Stoneware']                          []   \n",
       "11993                          ['Stoneware']                          []   \n",
       "11994                            ['Ceramic']                          []   \n",
       "\n",
       "       taxonomy_id  ...  accepts_custom_requests  \\\n",
       "12            6503  ...                    False   \n",
       "25            1667  ...                     True   \n",
       "26            1667  ...                     True   \n",
       "27            1043  ...                     True   \n",
       "28            1667  ...                     True   \n",
       "...            ...  ...                      ...   \n",
       "11989         1943  ...                    False   \n",
       "11990         1062  ...                    False   \n",
       "11992         6096  ...                    False   \n",
       "11993         6096  ...                    False   \n",
       "11994         1049  ...                    False   \n",
       "\n",
       "                                                 url num_favorers_shop  \\\n",
       "12           https://www.etsy.com/shop/TheGratePlate               541   \n",
       "25         https://www.etsy.com/shop/zotterthepotter              2522   \n",
       "26         https://www.etsy.com/shop/zotterthepotter              2522   \n",
       "27         https://www.etsy.com/shop/zotterthepotter              2522   \n",
       "28         https://www.etsy.com/shop/zotterthepotter              2522   \n",
       "...                                              ...               ...   \n",
       "11989         https://www.etsy.com/shop/Missblooeyes               484   \n",
       "11990    https://www.etsy.com/shop/RowdyDragonStudio               365   \n",
       "11992  https://www.etsy.com/shop/MadisonRoseCeramics                43   \n",
       "11993  https://www.etsy.com/shop/MadisonRoseCeramics                43   \n",
       "11994     https://www.etsy.com/shop/SaltoftheEarthNC               941   \n",
       "\n",
       "       languages  is_shop_us_based  transaction_sold_count  \\\n",
       "12     ['en-US']              True                    3372   \n",
       "25     ['en-US']              True                    8839   \n",
       "26     ['en-US']              True                    8839   \n",
       "27     ['en-US']              True                    8839   \n",
       "28     ['en-US']              True                    8839   \n",
       "...          ...               ...                     ...   \n",
       "11989  ['en-US']              True                     619   \n",
       "11990  ['en-US']              True                     745   \n",
       "11992  ['en-US']              True                      73   \n",
       "11993  ['en-US']              True                      73   \n",
       "11994  ['en-US']              True                    2111   \n",
       "\n",
       "       shipping_from_country_iso shop_location_country_iso  review_average  \\\n",
       "12                            US                        US          4.9569   \n",
       "25                           NaN                        US          4.8688   \n",
       "26                           NaN                        US          4.8688   \n",
       "27                           NaN                        US          4.8688   \n",
       "28                           NaN                        US          4.8688   \n",
       "...                          ...                       ...             ...   \n",
       "11989                         US                        US          4.9934   \n",
       "11990                         US                        US          4.9484   \n",
       "11992                         US                        US          4.8000   \n",
       "11993                         US                        US          4.8000   \n",
       "11994                         US                        US          4.9647   \n",
       "\n",
       "      review_count  \n",
       "12           209.0  \n",
       "25           320.0  \n",
       "26           320.0  \n",
       "27           320.0  \n",
       "28           320.0  \n",
       "...            ...  \n",
       "11989        152.0  \n",
       "11990        213.0  \n",
       "11992          5.0  \n",
       "11993          5.0  \n",
       "11994        170.0  \n",
       "\n",
       "[6221 rows x 33 columns]"
      ]
     },
     "execution_count": 67,
     "metadata": {},
     "output_type": "execute_result"
    }
   ],
   "source": [
    "us_data"
   ]
  },
  {
   "cell_type": "markdown",
   "id": "d2d148f4",
   "metadata": {},
   "source": [
    "## Facts"
   ]
  },
  {
   "cell_type": "code",
   "execution_count": 68,
   "id": "4f412de4",
   "metadata": {},
   "outputs": [
    {
     "name": "stdout",
     "output_type": "stream",
     "text": [
      "There are 11240 listings created by 2592 shops.\n"
     ]
    }
   ],
   "source": [
    "shop_ids = list(set(data[\"shop_id\"]))\n",
    "print(\"There are \" + str(len(data)) + \" listings created by \" + str(len(shop_ids)) + \" shops.\")"
   ]
  },
  {
   "cell_type": "code",
   "execution_count": 69,
   "id": "3792d79d",
   "metadata": {},
   "outputs": [
    {
     "data": {
      "text/plain": [
       "8079723     142\n",
       "18567051    110\n",
       "15156502     84\n",
       "23452608     79\n",
       "7644078      69\n",
       "           ... \n",
       "33465511      1\n",
       "12819608      1\n",
       "28844148      1\n",
       "6118536       1\n",
       "32683917      1\n",
       "Name: shop_id, Length: 2592, dtype: int64"
      ]
     },
     "execution_count": 69,
     "metadata": {},
     "output_type": "execute_result"
    }
   ],
   "source": [
    "# Look at the range of numbers for listings that individual shops made\n",
    "\n",
    "data['shop_id'].value_counts()"
   ]
  },
  {
   "cell_type": "code",
   "execution_count": null,
   "id": "b968bfd4",
   "metadata": {},
   "outputs": [],
   "source": []
  }
 ],
 "metadata": {
  "kernelspec": {
   "display_name": "Python 3",
   "language": "python",
   "name": "python3"
  },
  "language_info": {
   "codemirror_mode": {
    "name": "ipython",
    "version": 3
   },
   "file_extension": ".py",
   "mimetype": "text/x-python",
   "name": "python",
   "nbconvert_exporter": "python",
   "pygments_lexer": "ipython3",
   "version": "3.8.8"
  }
 },
 "nbformat": 4,
 "nbformat_minor": 5
}
