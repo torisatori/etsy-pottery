{
 "cells": [
  {
   "cell_type": "markdown",
   "id": "ff64b22b",
   "metadata": {},
   "source": [
    "# Text Analysis of Titles Descriptions and Tags"
   ]
  },
  {
   "cell_type": "code",
   "execution_count": 1,
   "id": "d61d915d",
   "metadata": {},
   "outputs": [],
   "source": [
    "import pandas as pd\n",
    "import numpy as np\n",
    "import re\n",
    "import datetime  \n",
    "import matplotlib.pyplot as plt\n",
    "\n",
    "#natural language toolkit for list of stop words\n",
    "import nltk \n",
    "#nltk.download('stopwords')\n",
    "from nltk.corpus import stopwords"
   ]
  },
  {
   "cell_type": "code",
   "execution_count": 2,
   "id": "74217d1f",
   "metadata": {},
   "outputs": [],
   "source": [
    "data = pd.read_csv('data/mergedData041022.csv')"
   ]
  },
  {
   "cell_type": "markdown",
   "id": "f6456f16",
   "metadata": {},
   "source": [
    "## Titles and Descriptions"
   ]
  },
  {
   "cell_type": "code",
   "execution_count": 3,
   "id": "e155a998",
   "metadata": {},
   "outputs": [],
   "source": [
    "#make all title and descriptions lowercase\n",
    "title = data['title_x'].str.lower()\n",
    "desc = data['description'].str.lower()"
   ]
  },
  {
   "cell_type": "code",
   "execution_count": 4,
   "id": "df875d97",
   "metadata": {},
   "outputs": [
    {
     "data": {
      "text/plain": [
       "0                                      matte black mug\n",
       "1    sample / second sale - 11 oz handmade ceramic ...\n",
       "2    8 oz / 11 oz / 14 oz handmade ceramic mug, sto...\n",
       "3    3 oz handmade ceramic espresso cup, sake cup, ...\n",
       "4    13 oz / 15 oz handmade ceramic mug, stoneware ...\n",
       "Name: title_x, dtype: object"
      ]
     },
     "execution_count": 4,
     "metadata": {},
     "output_type": "execute_result"
    }
   ],
   "source": [
    "#look at some titles\n",
    "title.head(5)"
   ]
  },
  {
   "cell_type": "code",
   "execution_count": 5,
   "id": "19d5ad90",
   "metadata": {},
   "outputs": [
    {
     "data": {
      "text/plain": [
       "0    matte black mug, perfect for your morning coff...\n",
       "1    --sample / second sale for handmade stoneware ...\n",
       "2    handmade stoneware mugs for coffee or tea or s...\n",
       "3    a handmade stoneware tumbler for espresso, sak...\n",
       "4    handmade stoneware cups for coffee or tea.\\n\\n...\n",
       "Name: description, dtype: object"
      ]
     },
     "execution_count": 5,
     "metadata": {},
     "output_type": "execute_result"
    }
   ],
   "source": [
    "#look at some descriptions\n",
    "desc.head(5)"
   ]
  },
  {
   "cell_type": "markdown",
   "id": "697cb742",
   "metadata": {},
   "source": [
    "### Looking at listings that contain specific products of interest"
   ]
  },
  {
   "cell_type": "code",
   "execution_count": 6,
   "id": "ca9b27fc",
   "metadata": {},
   "outputs": [],
   "source": [
    "# function that returns percentage of listings that contain a specific word\n",
    "\n",
    "def percentage_item(text, word):\n",
    "    true = text[text.str.contains(' ' + word + ' ')==True]\n",
    "    percent = len(true)/len(text)\n",
    "    return percent"
   ]
  },
  {
   "cell_type": "code",
   "execution_count": 7,
   "id": "7ab46093",
   "metadata": {},
   "outputs": [
    {
     "data": {
      "text/plain": [
       "0.12983333333333333"
      ]
     },
     "execution_count": 7,
     "metadata": {},
     "output_type": "execute_result"
    }
   ],
   "source": [
    "#percentage of listings that contain the word \"mug\" in the TITLE\n",
    "percentage_item(title, \"mug\")"
   ]
  },
  {
   "cell_type": "code",
   "execution_count": 8,
   "id": "3f18e494",
   "metadata": {},
   "outputs": [
    {
     "data": {
      "text/plain": [
       "0.18941666666666668"
      ]
     },
     "execution_count": 8,
     "metadata": {},
     "output_type": "execute_result"
    }
   ],
   "source": [
    "#percentage of listings that contain the word \"mug\" in the DESCRIPTION\n",
    "percentage_item(desc, \"mug\")"
   ]
  },
  {
   "cell_type": "code",
   "execution_count": 9,
   "id": "aea935b7",
   "metadata": {},
   "outputs": [
    {
     "name": "stdout",
     "output_type": "stream",
     "text": [
      "mug 0.12983333333333333 0.18941666666666668\n",
      "plate 0.023083333333333334 0.04841666666666666\n",
      "bowl 0.07775 0.1315\n",
      "jar 0.013416666666666667 0.018\n",
      "planter 0.01425 0.017083333333333332\n",
      "berry bowl 0.001 0.001\n",
      "butter dish 0.00225 0.0025\n",
      "cup 0.06833333333333333 0.10633333333333334\n",
      "tumbler 0.008416666666666666 0.016083333333333335\n",
      "bacon cooker 0.0 0.00025\n",
      "spoon rest 0.005833333333333334 0.012583333333333334\n"
     ]
    }
   ],
   "source": [
    "#percentage of listings that contain a specific product in their title and description\n",
    "\n",
    "items = ['mug', 'plate', 'bowl', 'jar', 'planter', 'berry bowl', 'butter dish', 'cup', 'tumbler', 'bacon cooker', 'spoon rest']\n",
    "\n",
    "for i in items:\n",
    "    print(i, percentage_item(title, i), percentage_item(desc, i))\n"
   ]
  },
  {
   "cell_type": "markdown",
   "id": "1eaff512",
   "metadata": {},
   "source": [
    "### Remove punctuation, special characters and stop words from the titles and descriptons"
   ]
  },
  {
   "cell_type": "code",
   "execution_count": 10,
   "id": "796a233d",
   "metadata": {},
   "outputs": [],
   "source": [
    "# function that removes \"\\n\", links, as well as special characters and numbers fromt text\n",
    "def clean_text(text):\n",
    "    for i in range (0, len(text)):\n",
    "        n = '\\n'\n",
    "        string = text[i]\n",
    "        if n in string:\n",
    "            string = string.replace(n, \" \")\n",
    "            text[i] = string\n",
    "        text[i] = re.sub(\"[^A-za-z]+\",\" \", text[i])\n",
    "        text[i] = re.sub(r\"http\\S+\",\"\",text[i])\n",
    "        text[i] = re.sub(r\"www\\S+\",\"\",text[i])"
   ]
  },
  {
   "cell_type": "code",
   "execution_count": 11,
   "id": "e970c30e",
   "metadata": {},
   "outputs": [],
   "source": [
    "# Clean descriptions and titles\n",
    "clean_text(desc)\n",
    "clean_text(title)"
   ]
  },
  {
   "cell_type": "code",
   "execution_count": 12,
   "id": "6aaafbad",
   "metadata": {},
   "outputs": [],
   "source": [
    "#split the title strings on the spaces\n",
    "title = title.str.split(\" \")\n",
    "desc = desc.str.split(\" \")"
   ]
  },
  {
   "cell_type": "code",
   "execution_count": 13,
   "id": "e80c5aef",
   "metadata": {},
   "outputs": [],
   "source": [
    "## define the stopwords\n",
    "stop = stopwords.words('english')"
   ]
  },
  {
   "cell_type": "code",
   "execution_count": 14,
   "id": "2c5b8a1e",
   "metadata": {},
   "outputs": [],
   "source": [
    "#add pottery-related keywords, and other irrelevant words to stopwords\n",
    "stop.extend(['handmade','stoneware','pottery','ceramic','clay','x', '|','cm', 'oz', 'ml', ' ', '', 'www', 'com',\n",
    "'shipping','item','items','hand','made','piece','pieces','make','please','one','use','may','inches','also',\n",
    "'high','etsy', 'quot'])"
   ]
  },
  {
   "cell_type": "code",
   "execution_count": 15,
   "id": "15f20326",
   "metadata": {},
   "outputs": [
    {
     "data": {
      "text/plain": [
       "['i',\n",
       " 'me',\n",
       " 'my',\n",
       " 'myself',\n",
       " 'we',\n",
       " 'our',\n",
       " 'ours',\n",
       " 'ourselves',\n",
       " 'you',\n",
       " \"you're\",\n",
       " \"you've\",\n",
       " \"you'll\",\n",
       " \"you'd\",\n",
       " 'your',\n",
       " 'yours',\n",
       " 'yourself',\n",
       " 'yourselves',\n",
       " 'he',\n",
       " 'him',\n",
       " 'his',\n",
       " 'himself',\n",
       " 'she',\n",
       " \"she's\",\n",
       " 'her',\n",
       " 'hers',\n",
       " 'herself',\n",
       " 'it',\n",
       " \"it's\",\n",
       " 'its',\n",
       " 'itself',\n",
       " 'they',\n",
       " 'them',\n",
       " 'their',\n",
       " 'theirs',\n",
       " 'themselves',\n",
       " 'what',\n",
       " 'which',\n",
       " 'who',\n",
       " 'whom',\n",
       " 'this',\n",
       " 'that',\n",
       " \"that'll\",\n",
       " 'these',\n",
       " 'those',\n",
       " 'am',\n",
       " 'is',\n",
       " 'are',\n",
       " 'was',\n",
       " 'were',\n",
       " 'be',\n",
       " 'been',\n",
       " 'being',\n",
       " 'have',\n",
       " 'has',\n",
       " 'had',\n",
       " 'having',\n",
       " 'do',\n",
       " 'does',\n",
       " 'did',\n",
       " 'doing',\n",
       " 'a',\n",
       " 'an',\n",
       " 'the',\n",
       " 'and',\n",
       " 'but',\n",
       " 'if',\n",
       " 'or',\n",
       " 'because',\n",
       " 'as',\n",
       " 'until',\n",
       " 'while',\n",
       " 'of',\n",
       " 'at',\n",
       " 'by',\n",
       " 'for',\n",
       " 'with',\n",
       " 'about',\n",
       " 'against',\n",
       " 'between',\n",
       " 'into',\n",
       " 'through',\n",
       " 'during',\n",
       " 'before',\n",
       " 'after',\n",
       " 'above',\n",
       " 'below',\n",
       " 'to',\n",
       " 'from',\n",
       " 'up',\n",
       " 'down',\n",
       " 'in',\n",
       " 'out',\n",
       " 'on',\n",
       " 'off',\n",
       " 'over',\n",
       " 'under',\n",
       " 'again',\n",
       " 'further',\n",
       " 'then',\n",
       " 'once',\n",
       " 'here',\n",
       " 'there',\n",
       " 'when',\n",
       " 'where',\n",
       " 'why',\n",
       " 'how',\n",
       " 'all',\n",
       " 'any',\n",
       " 'both',\n",
       " 'each',\n",
       " 'few',\n",
       " 'more',\n",
       " 'most',\n",
       " 'other',\n",
       " 'some',\n",
       " 'such',\n",
       " 'no',\n",
       " 'nor',\n",
       " 'not',\n",
       " 'only',\n",
       " 'own',\n",
       " 'same',\n",
       " 'so',\n",
       " 'than',\n",
       " 'too',\n",
       " 'very',\n",
       " 's',\n",
       " 't',\n",
       " 'can',\n",
       " 'will',\n",
       " 'just',\n",
       " 'don',\n",
       " \"don't\",\n",
       " 'should',\n",
       " \"should've\",\n",
       " 'now',\n",
       " 'd',\n",
       " 'll',\n",
       " 'm',\n",
       " 'o',\n",
       " 're',\n",
       " 've',\n",
       " 'y',\n",
       " 'ain',\n",
       " 'aren',\n",
       " \"aren't\",\n",
       " 'couldn',\n",
       " \"couldn't\",\n",
       " 'didn',\n",
       " \"didn't\",\n",
       " 'doesn',\n",
       " \"doesn't\",\n",
       " 'hadn',\n",
       " \"hadn't\",\n",
       " 'hasn',\n",
       " \"hasn't\",\n",
       " 'haven',\n",
       " \"haven't\",\n",
       " 'isn',\n",
       " \"isn't\",\n",
       " 'ma',\n",
       " 'mightn',\n",
       " \"mightn't\",\n",
       " 'mustn',\n",
       " \"mustn't\",\n",
       " 'needn',\n",
       " \"needn't\",\n",
       " 'shan',\n",
       " \"shan't\",\n",
       " 'shouldn',\n",
       " \"shouldn't\",\n",
       " 'wasn',\n",
       " \"wasn't\",\n",
       " 'weren',\n",
       " \"weren't\",\n",
       " 'won',\n",
       " \"won't\",\n",
       " 'wouldn',\n",
       " \"wouldn't\",\n",
       " 'handmade',\n",
       " 'stoneware',\n",
       " 'pottery',\n",
       " 'ceramic',\n",
       " 'clay',\n",
       " 'x',\n",
       " '|',\n",
       " 'cm',\n",
       " 'oz',\n",
       " 'ml',\n",
       " ' ',\n",
       " '',\n",
       " 'www',\n",
       " 'com',\n",
       " 'shipping',\n",
       " 'item',\n",
       " 'items',\n",
       " 'hand',\n",
       " 'made',\n",
       " 'piece',\n",
       " 'pieces',\n",
       " 'make',\n",
       " 'please',\n",
       " 'one',\n",
       " 'use',\n",
       " 'may',\n",
       " 'inches',\n",
       " 'also',\n",
       " 'high',\n",
       " 'etsy',\n",
       " 'quot']"
      ]
     },
     "execution_count": 15,
     "metadata": {},
     "output_type": "execute_result"
    }
   ],
   "source": [
    "stop"
   ]
  },
  {
   "cell_type": "markdown",
   "id": "ee533752",
   "metadata": {},
   "source": [
    "### TO DO: GET THIS FUNCTION TO WORK \n",
    "I dont know if this is worth the time to fix, maybe just keep the for loops for now"
   ]
  },
  {
   "cell_type": "code",
   "execution_count": 16,
   "id": "5a49eb29",
   "metadata": {},
   "outputs": [],
   "source": [
    "#### TO DO: Turn this into a function (This function isn't working, fix later)\n",
    "\"\"\" \n",
    "Args:\n",
    "txt (series): the text as a series of lists\n",
    "wrds (list): the stopwords to be removed from the list\n",
    "\n",
    "\n",
    "\"\"\"\n",
    "def remove_stopwords(txt, wrds):\n",
    "    txt = txt.reset_index(drop=True) #reset the index\n",
    "    for i in range (0, len(txt)):\n",
    "        for s in wrds:\n",
    "            list = txt[i]\n",
    "            list = [w for w in list if w != s]\n",
    "            txt[i] = list"
   ]
  },
  {
   "cell_type": "code",
   "execution_count": 17,
   "id": "73334d43",
   "metadata": {},
   "outputs": [],
   "source": [
    "#test = desc.iloc[11995:]\n",
    "#test = test.reset_index(drop=True)"
   ]
  },
  {
   "cell_type": "markdown",
   "id": "f1e629fa",
   "metadata": {},
   "source": [
    "### Keeping these here for now but I really want the function to work with everything"
   ]
  },
  {
   "cell_type": "code",
   "execution_count": 18,
   "id": "9b72122b",
   "metadata": {},
   "outputs": [],
   "source": [
    "# remove all instances of the stop words from the descriptions\n",
    "for i in range (0, len(desc)):\n",
    "    for s in stop:\n",
    "        list = desc[i]\n",
    "        list = [w for w in list if w != s]\n",
    "        desc[i] = list"
   ]
  },
  {
   "cell_type": "code",
   "execution_count": 19,
   "id": "4aae7b68",
   "metadata": {},
   "outputs": [],
   "source": [
    "# remove all instances of the stop words from the titles\n",
    "for i in range (0, len(title)):\n",
    "    for s in stop:\n",
    "        list = title[i]\n",
    "        list = [w for w in list if w != s]\n",
    "        title[i] = list"
   ]
  },
  {
   "cell_type": "code",
   "execution_count": 20,
   "id": "08668067",
   "metadata": {},
   "outputs": [
    {
     "data": {
      "text/plain": [
       "0        [matte, black, mug, perfect, morning, coffee, ...\n",
       "1        [sample, second, sale, mugs, coffee, tea, soup...\n",
       "2        [mugs, coffee, tea, soup, glazed, inside, outs...\n",
       "3        [tumbler, espresso, sake, moccha, special, eff...\n",
       "4        [cups, coffee, tea, glazed, inside, outside, k...\n",
       "                               ...                        \n",
       "11995    [bowl, used, keeping, fruits, bread, serve, br...\n",
       "11996    [consideration, presenting, sale, nice, vintag...\n",
       "11997    [thrown, jug, incised, design, dip, glazed, tr...\n",
       "11998    [using, lava, fleck, carved, part, glazed, lea...\n",
       "11999    [thrown, soap, dish, delightful, creations, wo...\n",
       "Name: description, Length: 12000, dtype: object"
      ]
     },
     "execution_count": 20,
     "metadata": {},
     "output_type": "execute_result"
    }
   ],
   "source": [
    "desc"
   ]
  },
  {
   "cell_type": "code",
   "execution_count": 21,
   "id": "bfa6b057",
   "metadata": {},
   "outputs": [
    {
     "data": {
      "text/plain": [
       "0                                      [matte, black, mug]\n",
       "1        [sample, second, sale, mug, coffee, mug, tea, ...\n",
       "2                             [mug, coffee, mug, tea, mug]\n",
       "3                      [espresso, cup, sake, cup, tumbler]\n",
       "4                             [mug, coffee, mug, tea, mug]\n",
       "                               ...                        \n",
       "11995    [plate, legs, organiser, small, fruit, keeper,...\n",
       "11996    [vintage, art, object, letter, holder, paperwe...\n",
       "11997    [jug, incised, design, thrown, milk, jug, glaz...\n",
       "11998                                  [lava, fleck, vase]\n",
       "11999    [soap, dish, buff, white, gloss, vandranite, g...\n",
       "Name: title_x, Length: 12000, dtype: object"
      ]
     },
     "execution_count": 21,
     "metadata": {},
     "output_type": "execute_result"
    }
   ],
   "source": [
    "title"
   ]
  },
  {
   "cell_type": "markdown",
   "id": "4fae8d86",
   "metadata": {},
   "source": [
    "### Save the cleaned descriptions and titles to csv to use for clustering algorithm"
   ]
  },
  {
   "cell_type": "code",
   "execution_count": 22,
   "id": "d6ee2f31",
   "metadata": {},
   "outputs": [],
   "source": [
    "title.to_csv('data/titles-cleaned041022.csv')\n",
    "desc.to_csv('data/descriptions-cleaned041022.csv')"
   ]
  },
  {
   "cell_type": "markdown",
   "id": "f025c8e2",
   "metadata": {},
   "source": [
    "### Word Counts"
   ]
  },
  {
   "cell_type": "code",
   "execution_count": 23,
   "id": "eb32df58",
   "metadata": {},
   "outputs": [],
   "source": [
    "#define a function that reduces a column to a 1-dimensional series (to get word counts)\n",
    "def oneD(column):\n",
    " return pd.Series([x for list in column for x in list])"
   ]
  },
  {
   "cell_type": "code",
   "execution_count": 24,
   "id": "29db5cbf",
   "metadata": {},
   "outputs": [],
   "source": [
    "#get the value counts for each of the words in the description\n",
    "descWordCounts = oneD(desc).value_counts()"
   ]
  },
  {
   "cell_type": "code",
   "execution_count": 25,
   "id": "64ac6e02",
   "metadata": {},
   "outputs": [
    {
     "data": {
      "text/plain": [
       "safe          10382\n",
       "glaze          9066\n",
       "mug            8128\n",
       "dishwasher     6442\n",
       "fired          5519\n",
       "unique         5398\n",
       "microwave      5262\n",
       "glazed         5243\n",
       "food           5111\n",
       "bowl           5006\n",
       "shop           4898\n",
       "wheel          4349\n",
       "white          3994\n",
       "free           3985\n",
       "glazes         3825\n",
       "thrown         3732\n",
       "diameter       3700\n",
       "gift           3497\n",
       "blue           3418\n",
       "size           3362\n",
       "cup            3151\n",
       "coffee         3097\n",
       "height         3036\n",
       "beautiful      3008\n",
       "small          2994\n",
       "order          2855\n",
       "color          2831\n",
       "perfect        2830\n",
       "like           2661\n",
       "contact        2605\n",
       "tea            2538\n",
       "see            2529\n",
       "set            2470\n",
       "time           2455\n",
       "tall           2404\n",
       "kiln           2391\n",
       "used           2360\n",
       "mugs           2311\n",
       "days           2288\n",
       "oven           2281\n",
       "green          2267\n",
       "using          2265\n",
       "studio         2263\n",
       "wide           2252\n",
       "home           2237\n",
       "note           2186\n",
       "lead           2127\n",
       "questions      2077\n",
       "us             2075\n",
       "great          2072\n",
       "dtype: int64"
      ]
     },
     "execution_count": 25,
     "metadata": {},
     "output_type": "execute_result"
    }
   ],
   "source": [
    "#look at top 50 words in the descriptions\n",
    "top50desc = descWordCounts.head(50).sort_values(ascending=False)\n",
    "top50desc"
   ]
  },
  {
   "cell_type": "code",
   "execution_count": 26,
   "id": "66ed48a7",
   "metadata": {},
   "outputs": [],
   "source": [
    "#get the value counts for each of the words in the titles\n",
    "titleWordCounts = oneD(title).value_counts()"
   ]
  },
  {
   "cell_type": "code",
   "execution_count": 27,
   "id": "84e0b877",
   "metadata": {},
   "outputs": [
    {
     "data": {
      "text/plain": [
       "mug         6361\n",
       "bowl        3258\n",
       "coffee      2720\n",
       "cup         2317\n",
       "blue        1582\n",
       "vase        1513\n",
       "tea         1499\n",
       "gift        1483\n",
       "thrown      1397\n",
       "set         1338\n",
       "white       1234\n",
       "dish        1132\n",
       "plate        955\n",
       "green        924\n",
       "wheel        914\n",
       "large        879\n",
       "glaze        805\n",
       "small        769\n",
       "unique       728\n",
       "vintage      687\n",
       "pot          682\n",
       "holder       649\n",
       "black        647\n",
       "serving      609\n",
       "rustic       600\n",
       "glazed       565\n",
       "decor        513\n",
       "ceramics     505\n",
       "brown        499\n",
       "spoon        492\n",
       "art          490\n",
       "jar          485\n",
       "bowls        469\n",
       "flower       429\n",
       "planter      417\n",
       "mugs         415\n",
       "design       411\n",
       "modern       410\n",
       "soap         402\n",
       "home         402\n",
       "speckled     375\n",
       "jug          375\n",
       "kitchen      366\n",
       "studio       356\n",
       "red          348\n",
       "cups         347\n",
       "tumbler      345\n",
       "rest         323\n",
       "kind         322\n",
       "painted      321\n",
       "dtype: int64"
      ]
     },
     "execution_count": 27,
     "metadata": {},
     "output_type": "execute_result"
    }
   ],
   "source": [
    "#look at top 50 words in the titles\n",
    "top50title = titleWordCounts.head(50).sort_values(ascending=False)\n",
    "top50title"
   ]
  },
  {
   "cell_type": "markdown",
   "id": "10a06c68",
   "metadata": {},
   "source": [
    "## Tags"
   ]
  },
  {
   "cell_type": "code",
   "execution_count": 28,
   "id": "ed6df5c3",
   "metadata": {},
   "outputs": [],
   "source": [
    "#make all tags lowercase\n",
    "data['tags'] = data['tags'].str.lower()"
   ]
  },
  {
   "cell_type": "code",
   "execution_count": 29,
   "id": "ecbbf483",
   "metadata": {},
   "outputs": [],
   "source": [
    "#transform tags column from strings to lists\n",
    "data['tags'] = data['tags'].apply(eval)"
   ]
  },
  {
   "cell_type": "code",
   "execution_count": 30,
   "id": "8851777b",
   "metadata": {},
   "outputs": [
    {
     "data": {
      "text/plain": [
       "0        [coffee, mug, ceramic, handmade, stoneware, sc...\n",
       "1        [ceramic mug, coffee mug, tea mug, ceramic cof...\n",
       "2        [handmade ceramic mug, handmade mug, ceramic m...\n",
       "3        [handmade cup, espresso cup, ceramic espresso ...\n",
       "4        [handmade mug, ceramic mug, handmade ceramic m...\n",
       "                               ...                        \n",
       "11995    [light blue crackle, lithuanian art, rustic an...\n",
       "11996    [vintage, handmade, glazed, 60s, 70s, green, b...\n",
       "11997    [pottery jug, ceramic jug, small handmade jug,...\n",
       "11998    [vase, contemporary, handmade, ceramic, stonew...\n",
       "11999    [anniversary present, mum mother gift, circle ...\n",
       "Name: tags, Length: 12000, dtype: object"
      ]
     },
     "execution_count": 30,
     "metadata": {},
     "output_type": "execute_result"
    }
   ],
   "source": [
    "#look at the tags\n",
    "data['tags']"
   ]
  },
  {
   "cell_type": "code",
   "execution_count": 31,
   "id": "a3c6ad60",
   "metadata": {},
   "outputs": [],
   "source": [
    "#get just the tags\n",
    "tags = data['tags']"
   ]
  },
  {
   "cell_type": "markdown",
   "id": "04b49ca0",
   "metadata": {},
   "source": [
    "### Remove pottery-related stopwords from the tags"
   ]
  },
  {
   "cell_type": "code",
   "execution_count": 32,
   "id": "596185f2",
   "metadata": {},
   "outputs": [],
   "source": [
    "#define common stopwords\n",
    "stopTags = ['handmade','stoneware','pottery','ceramic','clay','handmade pottery','stoneware pottery','ceramics','handmade ceramics']"
   ]
  },
  {
   "cell_type": "code",
   "execution_count": 33,
   "id": "7866e0c2",
   "metadata": {},
   "outputs": [],
   "source": [
    "#remove stop words from tags\n",
    "for i in range (0, len(tags)):\n",
    "    for s in stopTags:\n",
    "        tags_list = tags[i]\n",
    "        if s in tags_list:\n",
    "            tags_list.remove(s)"
   ]
  },
  {
   "cell_type": "code",
   "execution_count": 34,
   "id": "17cae43e",
   "metadata": {},
   "outputs": [
    {
     "data": {
      "text/plain": [
       "0        [coffee, mug, scandinavian, craft, black, hand...\n",
       "1        [ceramic mug, coffee mug, tea mug, ceramic cof...\n",
       "2        [handmade ceramic mug, handmade mug, ceramic m...\n",
       "3        [handmade cup, espresso cup, ceramic espresso ...\n",
       "4        [handmade mug, ceramic mug, handmade ceramic m...\n",
       "                               ...                        \n",
       "11995    [light blue crackle, lithuanian art, rustic an...\n",
       "11996    [vintage, glazed, 60s, 70s, green, brown, lett...\n",
       "11997    [pottery jug, ceramic jug, small handmade jug,...\n",
       "11998    [vase, contemporary, home decor, anniversary, ...\n",
       "11999    [anniversary present, mum mother gift, circle ...\n",
       "Name: clean_tags, Length: 12000, dtype: object"
      ]
     },
     "execution_count": 34,
     "metadata": {},
     "output_type": "execute_result"
    }
   ],
   "source": [
    "#add clean tags to original df\n",
    "data['clean_tags'] = tags\n",
    "data['clean_tags']"
   ]
  },
  {
   "cell_type": "code",
   "execution_count": 35,
   "id": "99fd001a",
   "metadata": {},
   "outputs": [],
   "source": [
    "#get the value counts for each of the tags\n",
    "tagCounts = oneD(tags).value_counts()"
   ]
  },
  {
   "cell_type": "code",
   "execution_count": 36,
   "id": "c473fb96",
   "metadata": {},
   "outputs": [
    {
     "data": {
      "text/plain": [
       "coffee mug              1051\n",
       "stoneware mug           1006\n",
       "mug                      978\n",
       "gift                     876\n",
       "pottery mug              828\n",
       "handmade mug             796\n",
       "ceramic mug              795\n",
       "coffee cup               649\n",
       "wheel thrown             642\n",
       "cup                      639\n",
       "blue                     567\n",
       "bowl                     546\n",
       "coffee                   545\n",
       "kitchen                  508\n",
       "unique                   504\n",
       "tea mug                  495\n",
       "home decor               487\n",
       "one of a kind            486\n",
       "tea cup                  474\n",
       "vase                     442\n",
       "housewarming gift        419\n",
       "tea                      395\n",
       "ceramic bowl             386\n",
       "handmade ceramic         372\n",
       "tableware                360\n",
       "white                    351\n",
       "rustic                   348\n",
       "green                    346\n",
       "stoneware bowl           343\n",
       "handmade bowl            325\n",
       "studio pottery           296\n",
       "handmade pottery mug     275\n",
       "vintage                  274\n",
       "gift for her             269\n",
       "ceramic cup              255\n",
       "wedding gift             253\n",
       "pottery bowl             250\n",
       "art                      247\n",
       "stoneware vase           244\n",
       "wheel thrown pottery     240\n",
       "handmade vase            237\n",
       "dinnerware               236\n",
       "plate                    234\n",
       "ceramic vase             233\n",
       "handmade stoneware       231\n",
       "handmade ceramic mug     224\n",
       "serving bowl             222\n",
       "glazed                   221\n",
       "glaze                    208\n",
       "brown                    204\n",
       "dtype: int64"
      ]
     },
     "execution_count": 36,
     "metadata": {},
     "output_type": "execute_result"
    }
   ],
   "source": [
    "#look at top 50 tags\n",
    "top50 = tagCounts.head(50).sort_values(ascending=False)\n",
    "top50"
   ]
  },
  {
   "cell_type": "code",
   "execution_count": 37,
   "id": "3cf1d3a3",
   "metadata": {},
   "outputs": [
    {
     "data": {
      "text/plain": [
       "tumbler                 160\n",
       "ceramic tumbler         109\n",
       "handmade tumbler         67\n",
       "coffee tumbler           53\n",
       "pottery tumbler          32\n",
       "                       ... \n",
       "bird tumbler              1\n",
       "artistic tumbler          1\n",
       "white coffee tumbler      1\n",
       "viking tumbler            1\n",
       "espresso tumbler set      1\n",
       "Length: 114, dtype: int64"
      ]
     },
     "execution_count": 37,
     "metadata": {},
     "output_type": "execute_result"
    }
   ],
   "source": [
    "# the word \"spoon\" is appearing in the top words in the titles so I wanted to see what the related product is:\n",
    "tagCounts[tagCounts.index.str.contains(pat = 'tumbler')]"
   ]
  },
  {
   "cell_type": "markdown",
   "id": "dd4bd4df",
   "metadata": {},
   "source": [
    "I repeated the above for all the top words in the titles that were products so I could see if they were normally used in a phrase like"
   ]
  },
  {
   "cell_type": "code",
   "execution_count": 38,
   "id": "67497319",
   "metadata": {},
   "outputs": [
    {
     "data": {
      "text/plain": [
       "Text(0.5, 1.0, 'Frequency of Top 50 Tags')"
      ]
     },
     "execution_count": 38,
     "metadata": {},
     "output_type": "execute_result"
    },
    {
     "data": {
      "image/png": "[encoded data removed]",
      "text/plain": [
       "<Figure size 1008x432 with 1 Axes>"
      ]
     },
     "metadata": {
      "needs_background": "light"
     },
     "output_type": "display_data"
    }
   ],
   "source": [
    "#Plot the top tags\n",
    "fig, ax = plt.subplots(figsize = (14,6))\n",
    "ax.barh(top50.index,top50.values)\n",
    "ax.set_ylabel(\"Tag\", size = 12)\n",
    "ax.set_xlabel(\"Frequency\", size = 12)\n",
    "ax.set_title(\"Frequency of Top 50 Tags\", size = 14)"
   ]
  },
  {
   "cell_type": "markdown",
   "id": "14b7507b",
   "metadata": {},
   "source": [
    "### Get top 20 tags for top-favorited and top number-sold listings"
   ]
  },
  {
   "cell_type": "code",
   "execution_count": 39,
   "id": "708272c1",
   "metadata": {},
   "outputs": [],
   "source": [
    "#dataframe with tags, num of favorites\n",
    "itemData = data[['listing_id','clean_tags','num_favorers_x']]"
   ]
  },
  {
   "cell_type": "code",
   "execution_count": 40,
   "id": "157a9aed",
   "metadata": {},
   "outputs": [
    {
     "data": {
      "text/html": [
       "<div>\n",
       "<style scoped>\n",
       "    .dataframe tbody tr th:only-of-type {\n",
       "        vertical-align: middle;\n",
       "    }\n",
       "\n",
       "    .dataframe tbody tr th {\n",
       "        vertical-align: top;\n",
       "    }\n",
       "\n",
       "    .dataframe thead th {\n",
       "        text-align: right;\n",
       "    }\n",
       "</style>\n",
       "<table border=\"1\" class=\"dataframe\">\n",
       "  <thead>\n",
       "    <tr style=\"text-align: right;\">\n",
       "      <th></th>\n",
       "      <th>listing_id</th>\n",
       "      <th>clean_tags</th>\n",
       "      <th>num_favorers_x</th>\n",
       "    </tr>\n",
       "  </thead>\n",
       "  <tbody>\n",
       "    <tr>\n",
       "      <th>3619</th>\n",
       "      <td>175789619</td>\n",
       "      <td>[best selling mug, gift under 50, gift for dad...</td>\n",
       "      <td>26530</td>\n",
       "    </tr>\n",
       "    <tr>\n",
       "      <th>1891</th>\n",
       "      <td>792180615</td>\n",
       "      <td>[ceramic mug, handpainted mug, nature mug, flo...</td>\n",
       "      <td>13605</td>\n",
       "    </tr>\n",
       "    <tr>\n",
       "      <th>946</th>\n",
       "      <td>900330801</td>\n",
       "      <td>[wheel thrown pottery, fine art ceramics, dini...</td>\n",
       "      <td>13324</td>\n",
       "    </tr>\n",
       "    <tr>\n",
       "      <th>2300</th>\n",
       "      <td>1086863643</td>\n",
       "      <td>[caffeine addict, coffee lover, gift for mom, ...</td>\n",
       "      <td>10564</td>\n",
       "    </tr>\n",
       "    <tr>\n",
       "      <th>10767</th>\n",
       "      <td>535025569</td>\n",
       "      <td>[coffee cup, parceline, tea cup, coffee mug, c...</td>\n",
       "      <td>9678</td>\n",
       "    </tr>\n",
       "    <tr>\n",
       "      <th>2</th>\n",
       "      <td>741218574</td>\n",
       "      <td>[handmade ceramic mug, handmade mug, ceramic m...</td>\n",
       "      <td>8344</td>\n",
       "    </tr>\n",
       "    <tr>\n",
       "      <th>40</th>\n",
       "      <td>677424431</td>\n",
       "      <td>[handmade coffee mug, birthday gift mug, coffe...</td>\n",
       "      <td>7948</td>\n",
       "    </tr>\n",
       "    <tr>\n",
       "      <th>451</th>\n",
       "      <td>128982522</td>\n",
       "      <td>[etsymudteam, claylicious, stoneware berry bow...</td>\n",
       "      <td>7939</td>\n",
       "    </tr>\n",
       "    <tr>\n",
       "      <th>4253</th>\n",
       "      <td>1112309379</td>\n",
       "      <td>[handmade mug, stoneware mug, home decor, cera...</td>\n",
       "      <td>7910</td>\n",
       "    </tr>\n",
       "    <tr>\n",
       "      <th>5647</th>\n",
       "      <td>151354984</td>\n",
       "      <td>[cup, teacup, roses, dots, pink, light blue, m...</td>\n",
       "      <td>7476</td>\n",
       "    </tr>\n",
       "    <tr>\n",
       "      <th>1465</th>\n",
       "      <td>614766345</td>\n",
       "      <td>[pottery mug, black and white, turquoise, coff...</td>\n",
       "      <td>7392</td>\n",
       "    </tr>\n",
       "    <tr>\n",
       "      <th>245</th>\n",
       "      <td>621980272</td>\n",
       "      <td>[coffee, mug, rustic, cup, farmhouse, white, f...</td>\n",
       "      <td>7305</td>\n",
       "    </tr>\n",
       "    <tr>\n",
       "      <th>3580</th>\n",
       "      <td>1058376008</td>\n",
       "      <td>[hand built, kitchen, dining, table setting, m...</td>\n",
       "      <td>7157</td>\n",
       "    </tr>\n",
       "    <tr>\n",
       "      <th>5248</th>\n",
       "      <td>889589581</td>\n",
       "      <td>[ceramic mug, ceramic cup, vintage cup, vintag...</td>\n",
       "      <td>7155</td>\n",
       "    </tr>\n",
       "    <tr>\n",
       "      <th>3445</th>\n",
       "      <td>792274678</td>\n",
       "      <td>[gift, kitchen, stove, coffee maker, hand thro...</td>\n",
       "      <td>7082</td>\n",
       "    </tr>\n",
       "    <tr>\n",
       "      <th>1577</th>\n",
       "      <td>941852785</td>\n",
       "      <td>[pasta bowl, handmade pasta bowl, ceramic past...</td>\n",
       "      <td>7033</td>\n",
       "    </tr>\n",
       "    <tr>\n",
       "      <th>3644</th>\n",
       "      <td>682986141</td>\n",
       "      <td>[cup, mug, scandinavian, texture, shabby, blac...</td>\n",
       "      <td>6845</td>\n",
       "    </tr>\n",
       "    <tr>\n",
       "      <th>2458</th>\n",
       "      <td>213362548</td>\n",
       "      <td>[mug, tea mug, ceramics and pottery, ceramic m...</td>\n",
       "      <td>6366</td>\n",
       "    </tr>\n",
       "    <tr>\n",
       "      <th>4027</th>\n",
       "      <td>989791865</td>\n",
       "      <td>[champagne bowl, kitchen countertop, big rusti...</td>\n",
       "      <td>6025</td>\n",
       "    </tr>\n",
       "    <tr>\n",
       "      <th>933</th>\n",
       "      <td>895865304</td>\n",
       "      <td>[gift for her, personalised mug, custom mug, c...</td>\n",
       "      <td>5872</td>\n",
       "    </tr>\n",
       "  </tbody>\n",
       "</table>\n",
       "</div>"
      ],
      "text/plain": [
       "       listing_id                                         clean_tags  \\\n",
       "3619    175789619  [best selling mug, gift under 50, gift for dad...   \n",
       "1891    792180615  [ceramic mug, handpainted mug, nature mug, flo...   \n",
       "946     900330801  [wheel thrown pottery, fine art ceramics, dini...   \n",
       "2300   1086863643  [caffeine addict, coffee lover, gift for mom, ...   \n",
       "10767   535025569  [coffee cup, parceline, tea cup, coffee mug, c...   \n",
       "2       741218574  [handmade ceramic mug, handmade mug, ceramic m...   \n",
       "40      677424431  [handmade coffee mug, birthday gift mug, coffe...   \n",
       "451     128982522  [etsymudteam, claylicious, stoneware berry bow...   \n",
       "4253   1112309379  [handmade mug, stoneware mug, home decor, cera...   \n",
       "5647    151354984  [cup, teacup, roses, dots, pink, light blue, m...   \n",
       "1465    614766345  [pottery mug, black and white, turquoise, coff...   \n",
       "245     621980272  [coffee, mug, rustic, cup, farmhouse, white, f...   \n",
       "3580   1058376008  [hand built, kitchen, dining, table setting, m...   \n",
       "5248    889589581  [ceramic mug, ceramic cup, vintage cup, vintag...   \n",
       "3445    792274678  [gift, kitchen, stove, coffee maker, hand thro...   \n",
       "1577    941852785  [pasta bowl, handmade pasta bowl, ceramic past...   \n",
       "3644    682986141  [cup, mug, scandinavian, texture, shabby, blac...   \n",
       "2458    213362548  [mug, tea mug, ceramics and pottery, ceramic m...   \n",
       "4027    989791865  [champagne bowl, kitchen countertop, big rusti...   \n",
       "933     895865304  [gift for her, personalised mug, custom mug, c...   \n",
       "\n",
       "       num_favorers_x  \n",
       "3619            26530  \n",
       "1891            13605  \n",
       "946             13324  \n",
       "2300            10564  \n",
       "10767            9678  \n",
       "2                8344  \n",
       "40               7948  \n",
       "451              7939  \n",
       "4253             7910  \n",
       "5647             7476  \n",
       "1465             7392  \n",
       "245              7305  \n",
       "3580             7157  \n",
       "5248             7155  \n",
       "3445             7082  \n",
       "1577             7033  \n",
       "3644             6845  \n",
       "2458             6366  \n",
       "4027             6025  \n",
       "933              5872  "
      ]
     },
     "execution_count": 40,
     "metadata": {},
     "output_type": "execute_result"
    }
   ],
   "source": [
    "#look at top 20 listings according to number of favorers\n",
    "itemData.sort_values(by = ['num_favorers_x'], ascending = False).head(20)"
   ]
  },
  {
   "cell_type": "code",
   "execution_count": 41,
   "id": "bf689c36",
   "metadata": {},
   "outputs": [],
   "source": [
    "#this is the 3,873 listings with at least 10 favorers\n",
    "TenOrMore = itemData[itemData['num_favorers_x']>=10]\n",
    "#TenOrMore.shape"
   ]
  },
  {
   "cell_type": "code",
   "execution_count": 42,
   "id": "f2010fb3",
   "metadata": {},
   "outputs": [],
   "source": [
    "#get the value counts for each of the tags in TenOrMore\n",
    "tagCountsFavs = oneD(TenOrMore[\"clean_tags\"]).value_counts()\n",
    "top20Favs = tagCountsFavs.head(20).sort_values(ascending=True)"
   ]
  },
  {
   "cell_type": "code",
   "execution_count": 43,
   "id": "74440cfc",
   "metadata": {},
   "outputs": [
    {
     "data": {
      "text/plain": [
       "Text(0.5, 1.0, 'Top 20 Tags for Listings With at Least 10 Favorites')"
      ]
     },
     "execution_count": 43,
     "metadata": {},
     "output_type": "execute_result"
    },
    {
     "data": {
      "image/png": "[encoded data removed]",
      "text/plain": [
       "<Figure size 1008x432 with 1 Axes>"
      ]
     },
     "metadata": {
      "needs_background": "light"
     },
     "output_type": "display_data"
    }
   ],
   "source": [
    "#create the bar chart\n",
    "fig, ax = plt.subplots(figsize = (14,6))\n",
    "ax.barh(top20Favs.index,top20Favs.values)\n",
    "ax.set_ylabel(\"Tag\", size = 12)\n",
    "ax.set_xlabel(\"Frequency\", size = 12)\n",
    "ax.set_title(\"Top 20 Tags for Listings With at Least 10 Favorites\", size = 14)"
   ]
  },
  {
   "cell_type": "markdown",
   "id": "81b830b0",
   "metadata": {},
   "source": [
    "### Get top 20 tags for top-rated shops"
   ]
  },
  {
   "cell_type": "code",
   "execution_count": 44,
   "id": "4f8bee80",
   "metadata": {},
   "outputs": [],
   "source": [
    "#dataframe with tags, shop review count, and review average\n",
    "shopData = data[['listing_id','clean_tags','num_favorers_x','review_average', 'review_count']]"
   ]
  },
  {
   "cell_type": "code",
   "execution_count": 45,
   "id": "c06b99b3",
   "metadata": {},
   "outputs": [
    {
     "data": {
      "text/html": [
       "<div>\n",
       "<style scoped>\n",
       "    .dataframe tbody tr th:only-of-type {\n",
       "        vertical-align: middle;\n",
       "    }\n",
       "\n",
       "    .dataframe tbody tr th {\n",
       "        vertical-align: top;\n",
       "    }\n",
       "\n",
       "    .dataframe thead th {\n",
       "        text-align: right;\n",
       "    }\n",
       "</style>\n",
       "<table border=\"1\" class=\"dataframe\">\n",
       "  <thead>\n",
       "    <tr style=\"text-align: right;\">\n",
       "      <th></th>\n",
       "      <th>listing_id</th>\n",
       "      <th>clean_tags</th>\n",
       "      <th>num_favorers_x</th>\n",
       "      <th>review_average</th>\n",
       "      <th>review_count</th>\n",
       "    </tr>\n",
       "  </thead>\n",
       "  <tbody>\n",
       "    <tr>\n",
       "      <th>5863</th>\n",
       "      <td>976869103</td>\n",
       "      <td>[welsh studio pottery, green collie, unique ce...</td>\n",
       "      <td>5</td>\n",
       "      <td>5.0</td>\n",
       "      <td>91.0</td>\n",
       "    </tr>\n",
       "    <tr>\n",
       "      <th>7051</th>\n",
       "      <td>1195333898</td>\n",
       "      <td>[handmade for home, home gifts, gifts for him,...</td>\n",
       "      <td>1</td>\n",
       "      <td>5.0</td>\n",
       "      <td>21.0</td>\n",
       "    </tr>\n",
       "    <tr>\n",
       "      <th>7096</th>\n",
       "      <td>1048777712</td>\n",
       "      <td>[vase, nature, mid-century inspired, hand-made...</td>\n",
       "      <td>2</td>\n",
       "      <td>5.0</td>\n",
       "      <td>6.0</td>\n",
       "    </tr>\n",
       "    <tr>\n",
       "      <th>7085</th>\n",
       "      <td>1118385976</td>\n",
       "      <td>[interior design, porcelain, sculpture, contem...</td>\n",
       "      <td>6</td>\n",
       "      <td>5.0</td>\n",
       "      <td>2.0</td>\n",
       "    </tr>\n",
       "    <tr>\n",
       "      <th>7084</th>\n",
       "      <td>1118396450</td>\n",
       "      <td>[interior design, porcelain, sculpture, contem...</td>\n",
       "      <td>2</td>\n",
       "      <td>5.0</td>\n",
       "      <td>2.0</td>\n",
       "    </tr>\n",
       "    <tr>\n",
       "      <th>7083</th>\n",
       "      <td>1132353905</td>\n",
       "      <td>[interior design, porcelain, sculpture, contem...</td>\n",
       "      <td>3</td>\n",
       "      <td>5.0</td>\n",
       "      <td>2.0</td>\n",
       "    </tr>\n",
       "    <tr>\n",
       "      <th>7082</th>\n",
       "      <td>1132341845</td>\n",
       "      <td>[interior design, porcelain, sculpture, contem...</td>\n",
       "      <td>5</td>\n",
       "      <td>5.0</td>\n",
       "      <td>2.0</td>\n",
       "    </tr>\n",
       "    <tr>\n",
       "      <th>7081</th>\n",
       "      <td>1121238950</td>\n",
       "      <td>[interior design, porcelain, sculpture, contem...</td>\n",
       "      <td>4</td>\n",
       "      <td>5.0</td>\n",
       "      <td>2.0</td>\n",
       "    </tr>\n",
       "    <tr>\n",
       "      <th>7080</th>\n",
       "      <td>1121218894</td>\n",
       "      <td>[interior design, porcelain, sculpture, contem...</td>\n",
       "      <td>3</td>\n",
       "      <td>5.0</td>\n",
       "      <td>2.0</td>\n",
       "    </tr>\n",
       "    <tr>\n",
       "      <th>7079</th>\n",
       "      <td>1135148501</td>\n",
       "      <td>[interior design, porcelain, sculpture, tablew...</td>\n",
       "      <td>2</td>\n",
       "      <td>5.0</td>\n",
       "      <td>2.0</td>\n",
       "    </tr>\n",
       "    <tr>\n",
       "      <th>7078</th>\n",
       "      <td>1135144181</td>\n",
       "      <td>[interior design, porcelain, sculpture, contem...</td>\n",
       "      <td>13</td>\n",
       "      <td>5.0</td>\n",
       "      <td>2.0</td>\n",
       "    </tr>\n",
       "    <tr>\n",
       "      <th>7077</th>\n",
       "      <td>1121224218</td>\n",
       "      <td>[interior design, porcelain, sculpture, contem...</td>\n",
       "      <td>2</td>\n",
       "      <td>5.0</td>\n",
       "      <td>2.0</td>\n",
       "    </tr>\n",
       "    <tr>\n",
       "      <th>7075</th>\n",
       "      <td>1134536971</td>\n",
       "      <td>[rounded  oil bottle, ceramic oil bottle, clay...</td>\n",
       "      <td>3</td>\n",
       "      <td>5.0</td>\n",
       "      <td>9.0</td>\n",
       "    </tr>\n",
       "    <tr>\n",
       "      <th>7074</th>\n",
       "      <td>1135033753</td>\n",
       "      <td>[clay lemon juicer, stoneware kitchenwar, cera...</td>\n",
       "      <td>5</td>\n",
       "      <td>5.0</td>\n",
       "      <td>9.0</td>\n",
       "    </tr>\n",
       "    <tr>\n",
       "      <th>7068</th>\n",
       "      <td>841698604</td>\n",
       "      <td>[kitchen decor, flower ornament, dinnerware po...</td>\n",
       "      <td>5</td>\n",
       "      <td>5.0</td>\n",
       "      <td>21.0</td>\n",
       "    </tr>\n",
       "    <tr>\n",
       "      <th>7067</th>\n",
       "      <td>1126499563</td>\n",
       "      <td>[cereal blow, soup blow, porcelain, gift, chri...</td>\n",
       "      <td>4</td>\n",
       "      <td>5.0</td>\n",
       "      <td>3.0</td>\n",
       "    </tr>\n",
       "    <tr>\n",
       "      <th>7066</th>\n",
       "      <td>1046123258</td>\n",
       "      <td>[small bowl, ramen bowl, porcelain, china, han...</td>\n",
       "      <td>7</td>\n",
       "      <td>5.0</td>\n",
       "      <td>3.0</td>\n",
       "    </tr>\n",
       "    <tr>\n",
       "      <th>7065</th>\n",
       "      <td>1064327725</td>\n",
       "      <td>[art glaze, espresso cup, tea set, art ceramic...</td>\n",
       "      <td>6</td>\n",
       "      <td>5.0</td>\n",
       "      <td>3.0</td>\n",
       "    </tr>\n",
       "    <tr>\n",
       "      <th>7064</th>\n",
       "      <td>1050795086</td>\n",
       "      <td>[ramen bowl, porcelain, melbourne, design, han...</td>\n",
       "      <td>14</td>\n",
       "      <td>5.0</td>\n",
       "      <td>3.0</td>\n",
       "    </tr>\n",
       "    <tr>\n",
       "      <th>7063</th>\n",
       "      <td>1050793452</td>\n",
       "      <td>[big bowl, art glaze, art ceramics, china, han...</td>\n",
       "      <td>1</td>\n",
       "      <td>5.0</td>\n",
       "      <td>3.0</td>\n",
       "    </tr>\n",
       "  </tbody>\n",
       "</table>\n",
       "</div>"
      ],
      "text/plain": [
       "      listing_id                                         clean_tags  \\\n",
       "5863   976869103  [welsh studio pottery, green collie, unique ce...   \n",
       "7051  1195333898  [handmade for home, home gifts, gifts for him,...   \n",
       "7096  1048777712  [vase, nature, mid-century inspired, hand-made...   \n",
       "7085  1118385976  [interior design, porcelain, sculpture, contem...   \n",
       "7084  1118396450  [interior design, porcelain, sculpture, contem...   \n",
       "7083  1132353905  [interior design, porcelain, sculpture, contem...   \n",
       "7082  1132341845  [interior design, porcelain, sculpture, contem...   \n",
       "7081  1121238950  [interior design, porcelain, sculpture, contem...   \n",
       "7080  1121218894  [interior design, porcelain, sculpture, contem...   \n",
       "7079  1135148501  [interior design, porcelain, sculpture, tablew...   \n",
       "7078  1135144181  [interior design, porcelain, sculpture, contem...   \n",
       "7077  1121224218  [interior design, porcelain, sculpture, contem...   \n",
       "7075  1134536971  [rounded  oil bottle, ceramic oil bottle, clay...   \n",
       "7074  1135033753  [clay lemon juicer, stoneware kitchenwar, cera...   \n",
       "7068   841698604  [kitchen decor, flower ornament, dinnerware po...   \n",
       "7067  1126499563  [cereal blow, soup blow, porcelain, gift, chri...   \n",
       "7066  1046123258  [small bowl, ramen bowl, porcelain, china, han...   \n",
       "7065  1064327725  [art glaze, espresso cup, tea set, art ceramic...   \n",
       "7064  1050795086  [ramen bowl, porcelain, melbourne, design, han...   \n",
       "7063  1050793452  [big bowl, art glaze, art ceramics, china, han...   \n",
       "\n",
       "      num_favorers_x  review_average  review_count  \n",
       "5863               5             5.0          91.0  \n",
       "7051               1             5.0          21.0  \n",
       "7096               2             5.0           6.0  \n",
       "7085               6             5.0           2.0  \n",
       "7084               2             5.0           2.0  \n",
       "7083               3             5.0           2.0  \n",
       "7082               5             5.0           2.0  \n",
       "7081               4             5.0           2.0  \n",
       "7080               3             5.0           2.0  \n",
       "7079               2             5.0           2.0  \n",
       "7078              13             5.0           2.0  \n",
       "7077               2             5.0           2.0  \n",
       "7075               3             5.0           9.0  \n",
       "7074               5             5.0           9.0  \n",
       "7068               5             5.0          21.0  \n",
       "7067               4             5.0           3.0  \n",
       "7066               7             5.0           3.0  \n",
       "7065               6             5.0           3.0  \n",
       "7064              14             5.0           3.0  \n",
       "7063               1             5.0           3.0  "
      ]
     },
     "execution_count": 45,
     "metadata": {},
     "output_type": "execute_result"
    }
   ],
   "source": [
    "shopData.sort_values(by = ['review_average'], ascending = False).head(20)"
   ]
  },
  {
   "cell_type": "code",
   "execution_count": 46,
   "id": "81e32f74",
   "metadata": {},
   "outputs": [],
   "source": [
    "#this is the 9036 listings from shops with at least 10 reviews\n",
    "TenReviews =  shopData[shopData['review_count']>=10]\n",
    "#TenReviews"
   ]
  },
  {
   "cell_type": "code",
   "execution_count": 47,
   "id": "d5467be1",
   "metadata": {},
   "outputs": [],
   "source": [
    "#get the value counts for each of the tags in TenReviews\n",
    "tagCountsShops = oneD(TenReviews[\"clean_tags\"]).value_counts()\n",
    "top20Shops = tagCountsShops.head(20).sort_values(ascending=True)"
   ]
  },
  {
   "cell_type": "code",
   "execution_count": 48,
   "id": "8d5a3bb1",
   "metadata": {},
   "outputs": [
    {
     "data": {
      "text/plain": [
       "Text(0.5, 1.0, 'Top 20 Tags for Listings from Shops with at Least 10 Reviews')"
      ]
     },
     "execution_count": 48,
     "metadata": {},
     "output_type": "execute_result"
    },
    {
     "data": {
      "image/png": "[encoded data removed]",
      "text/plain": [
       "<Figure size 1008x432 with 1 Axes>"
      ]
     },
     "metadata": {
      "needs_background": "light"
     },
     "output_type": "display_data"
    }
   ],
   "source": [
    "#create the bar chart\n",
    "fig, ax = plt.subplots(figsize = (14,6))\n",
    "ax.barh(top20Shops.index,top20Shops.values)\n",
    "ax.set_ylabel(\"Tag\", size = 12)\n",
    "ax.set_xlabel(\"Frequency\", size = 12)\n",
    "ax.set_title(\"Top 20 Tags for Listings from Shops with at Least 10 Reviews\", size = 14)"
   ]
  }
 ],
 "metadata": {
  "kernelspec": {
   "display_name": "Python 3",
   "language": "python",
   "name": "python3"
  },
  "language_info": {
   "codemirror_mode": {
    "name": "ipython",
    "version": 3
   },
   "file_extension": ".py",
   "mimetype": "text/x-python",
   "name": "python",
   "nbconvert_exporter": "python",
   "pygments_lexer": "ipython3",
   "version": "3.8.8"
  }
 },
 "nbformat": 4,
 "nbformat_minor": 5
}
