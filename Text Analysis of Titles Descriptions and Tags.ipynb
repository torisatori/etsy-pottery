{
 "cells": [
  {
   "cell_type": "markdown",
   "id": "ff64b22b",
   "metadata": {},
   "source": [
    "# Text Analysis of Titles Descriptions and Tags"
   ]
  },
  {
   "cell_type": "code",
   "execution_count": 52,
   "id": "d61d915d",
   "metadata": {},
   "outputs": [],
   "source": [
    "import pandas as pd\n",
    "import numpy as np\n",
    "import re\n",
    "import datetime  \n",
    "import matplotlib.pyplot as plt\n",
    "import seaborn as sns\n",
    "\n",
    "#natural language toolkit for list of stop words\n",
    "import nltk \n",
    "#nltk.download('stopwords')\n",
    "from nltk.corpus import stopwords"
   ]
  },
  {
   "cell_type": "code",
   "execution_count": 2,
   "id": "74217d1f",
   "metadata": {},
   "outputs": [],
   "source": [
    "data = pd.read_csv('data/mergedData033122.csv')"
   ]
  },
  {
   "cell_type": "markdown",
   "id": "f6456f16",
   "metadata": {},
   "source": [
    "## Titles and Descriptions"
   ]
  },
  {
   "cell_type": "code",
   "execution_count": 3,
   "id": "e155a998",
   "metadata": {},
   "outputs": [],
   "source": [
    "#make all title and descriptions lowercase\n",
    "title = data['title_x'].str.lower()\n",
    "desc = data['description'].str.lower()"
   ]
  },
  {
   "cell_type": "code",
   "execution_count": 4,
   "id": "df875d97",
   "metadata": {},
   "outputs": [
    {
     "data": {
      "text/plain": [
       "0    handmade pottery vessel sinks mashima stamped ...\n",
       "1    handmade pottery vessel sinks mishima stamped ...\n",
       "2    custom small white oval handmade pottery vesse...\n",
       "3    custom handmade blue pottery vessel sink, desi...\n",
       "4    carved stoneware cup, wheel thrown mug, coffee...\n",
       "Name: title_x, dtype: object"
      ]
     },
     "execution_count": 4,
     "metadata": {},
     "output_type": "execute_result"
    }
   ],
   "source": [
    "#look at some titles\n",
    "title.head(5)"
   ]
  },
  {
   "cell_type": "code",
   "execution_count": 5,
   "id": "19d5ad90",
   "metadata": {},
   "outputs": [
    {
     "data": {
      "text/plain": [
       "0    vessel bathroom sink &quot;with no overflow&qu...\n",
       "1    vessel bathroom sink &quot;with no overflow&qu...\n",
       "2    oval vessel bathroom sink &quot;with no overfl...\n",
       "3    this sink&#39;s got the blues\\nyou get to choo...\n",
       "4    carved red stoneware mug has full round shape ...\n",
       "Name: description, dtype: object"
      ]
     },
     "execution_count": 5,
     "metadata": {},
     "output_type": "execute_result"
    }
   ],
   "source": [
    "#look at some descriptions\n",
    "desc.head(5)"
   ]
  },
  {
   "cell_type": "markdown",
   "id": "697cb742",
   "metadata": {},
   "source": [
    "### Looking at listings that contain specific products of interest"
   ]
  },
  {
   "cell_type": "code",
   "execution_count": 6,
   "id": "ca9b27fc",
   "metadata": {},
   "outputs": [],
   "source": [
    "# function that returns percentage of listings that contain a specific word\n",
    "\n",
    "def percentage_item(text, word):\n",
    "    true = text[text.str.contains(' ' + word + ' ')==True]\n",
    "    percent = len(true)/len(text)\n",
    "    return percent"
   ]
  },
  {
   "cell_type": "code",
   "execution_count": 7,
   "id": "7ab46093",
   "metadata": {},
   "outputs": [
    {
     "data": {
      "text/plain": [
       "0.11891666666666667"
      ]
     },
     "execution_count": 7,
     "metadata": {},
     "output_type": "execute_result"
    }
   ],
   "source": [
    "#percentage of listings that contain the word \"mug\" in the TITLE\n",
    "percentage_item(title, \"mug\")"
   ]
  },
  {
   "cell_type": "code",
   "execution_count": 8,
   "id": "3f18e494",
   "metadata": {},
   "outputs": [
    {
     "data": {
      "text/plain": [
       "0.19291666666666665"
      ]
     },
     "execution_count": 8,
     "metadata": {},
     "output_type": "execute_result"
    }
   ],
   "source": [
    "#percentage of listings that contain the word \"mug\" in the DESCRIPTION\n",
    "percentage_item(desc, \"mug\")"
   ]
  },
  {
   "cell_type": "code",
   "execution_count": 9,
   "id": "aea935b7",
   "metadata": {},
   "outputs": [
    {
     "name": "stdout",
     "output_type": "stream",
     "text": [
      "mug 0.11891666666666667 0.19291666666666665\n",
      "plate 0.024833333333333332 0.05383333333333333\n",
      "bowl 0.07675 0.13108333333333333\n",
      "jar 0.017083333333333332 0.019333333333333334\n",
      "planter 0.01425 0.018166666666666668\n",
      "berry bowl 0.0009166666666666666 0.0010833333333333333\n",
      "butter dish 0.00225 0.0025833333333333333\n",
      "cup 0.06691666666666667 0.11041666666666666\n",
      "tumbler 0.00975 0.012666666666666666\n",
      "bacon cooker 8.333333333333333e-05 0.0003333333333333333\n",
      "spoon rest 0.00625 0.012083333333333333\n"
     ]
    }
   ],
   "source": [
    "#percentage of listings that contain a specific product in their title and description\n",
    "\n",
    "items = ['mug', 'plate', 'bowl', 'jar', 'planter', 'berry bowl', 'butter dish', 'cup', 'tumbler', 'bacon cooker', 'spoon rest']\n",
    "\n",
    "for i in items:\n",
    "    print(i, percentage_item(title, i), percentage_item(desc, i))\n"
   ]
  },
  {
   "cell_type": "markdown",
   "id": "1eaff512",
   "metadata": {},
   "source": [
    "### Remove punctuation, special characters and stop words from the titles and descriptons"
   ]
  },
  {
   "cell_type": "code",
   "execution_count": 10,
   "id": "796a233d",
   "metadata": {},
   "outputs": [],
   "source": [
    "# function that removes \"\\n\", links, as well as special characters and numbers fromt text\n",
    "def clean_text(text):\n",
    "    for i in range (0, len(text)):\n",
    "        n = '\\n'\n",
    "        string = text[i]\n",
    "        if n in string:\n",
    "            string = string.replace(n, \" \")\n",
    "            text[i] = string\n",
    "        text[i] = re.sub(\"[^A-za-z]+\",\" \", text[i])\n",
    "        text[i] = re.sub(r\"http\\S+\",\"\",text[i])\n",
    "        text[i] = re.sub(r\"www\\S+\",\"\",text[i])"
   ]
  },
  {
   "cell_type": "code",
   "execution_count": 11,
   "id": "e970c30e",
   "metadata": {},
   "outputs": [],
   "source": [
    "# Clean descriptions and titles\n",
    "clean_text(desc)\n",
    "clean_text(title)"
   ]
  },
  {
   "cell_type": "code",
   "execution_count": 12,
   "id": "6aaafbad",
   "metadata": {},
   "outputs": [],
   "source": [
    "#split the title strings on the spaces\n",
    "title = title.str.split(\" \")\n",
    "desc = desc.str.split(\" \")"
   ]
  },
  {
   "cell_type": "code",
   "execution_count": 13,
   "id": "e80c5aef",
   "metadata": {},
   "outputs": [],
   "source": [
    "## define the stopwords\n",
    "stop = stopwords.words('english')"
   ]
  },
  {
   "cell_type": "code",
   "execution_count": 14,
   "id": "2c5b8a1e",
   "metadata": {},
   "outputs": [],
   "source": [
    "#add pottery-related keywords, and other irrelevant words to stopwords\n",
    "stop.extend(['handmade','stoneware','pottery','ceramic','clay','x', '|','cm', 'oz', 'ml', ' ', '', 'www', 'com',\n",
    "'shipping','item','items','hand','made','piece','pieces','make','please','one','use','may','inches','also',\n",
    "'high','etsy', 'quot', 'wheel', 'thrown', 'wheelthrown'])"
   ]
  },
  {
   "cell_type": "markdown",
   "id": "ee533752",
   "metadata": {},
   "source": [
    "### TO DO: GET THIS FUNCTION TO WORK \n",
    "I dont know if this is worth the time to fix, maybe just keep the for loops for now"
   ]
  },
  {
   "cell_type": "code",
   "execution_count": 16,
   "id": "5a49eb29",
   "metadata": {},
   "outputs": [],
   "source": [
    "#### TO DO: Turn this into a function (This function isn't working, fix later)\n",
    "\"\"\" \n",
    "Args:\n",
    "txt (series): the text as a series of lists\n",
    "wrds (list): the stopwords to be removed from the list\n",
    "\n",
    "\n",
    "\"\"\"\n",
    "def remove_stopwords(txt, wrds):\n",
    "    txt = txt.reset_index(drop=True) #reset the index\n",
    "    for i in range (0, len(txt)):\n",
    "        for s in wrds:\n",
    "            list = txt[i]\n",
    "            list = [w for w in list if w != s]\n",
    "            txt[i] = list"
   ]
  },
  {
   "cell_type": "code",
   "execution_count": 17,
   "id": "73334d43",
   "metadata": {},
   "outputs": [],
   "source": [
    "#test = desc.iloc[11995:]\n",
    "#test = test.reset_index(drop=True)"
   ]
  },
  {
   "cell_type": "markdown",
   "id": "f1e629fa",
   "metadata": {},
   "source": [
    "### Keeping these here for now but I really want the function to work with everything"
   ]
  },
  {
   "cell_type": "code",
   "execution_count": 18,
   "id": "9b72122b",
   "metadata": {},
   "outputs": [],
   "source": [
    "# remove all instances of the stop words from the descriptions\n",
    "for i in range (0, len(desc)):\n",
    "    for s in stop:\n",
    "        list = desc[i]\n",
    "        list = [w for w in list if w != s]\n",
    "        desc[i] = list"
   ]
  },
  {
   "cell_type": "code",
   "execution_count": 19,
   "id": "4aae7b68",
   "metadata": {},
   "outputs": [],
   "source": [
    "# remove all instances of the stop words from the titles\n",
    "for i in range (0, len(title)):\n",
    "    for s in stop:\n",
    "        list = title[i]\n",
    "        list = [w for w in list if w != s]\n",
    "        title[i] = list"
   ]
  },
  {
   "cell_type": "code",
   "execution_count": 20,
   "id": "08668067",
   "metadata": {},
   "outputs": [
    {
     "data": {
      "text/plain": [
       "0        [vessel, bathroom, sink, overflow, color, show...\n",
       "1        [vessel, bathroom, sink, overflow, sizes, wide...\n",
       "2        [oval, vessel, bathroom, sink, overflow, white...\n",
       "3        [sink, got, blues, get, choose, shade, blue, s...\n",
       "4        [carved, red, mug, full, round, shape, handle,...\n",
       "                               ...                        \n",
       "11995    [second, choice, product, handthrown, bowl, be...\n",
       "11996    [hi, dear, friends, vintage, ashtray, traditio...\n",
       "11997    [super, quality, vintage, french, pitcher, jug...\n",
       "11998    [adorable, cat, cups, perfect, favorite, drink...\n",
       "11999    [beautiful, grey, vase, unique, tones, white, ...\n",
       "Name: description, Length: 12000, dtype: object"
      ]
     },
     "execution_count": 20,
     "metadata": {},
     "output_type": "execute_result"
    }
   ],
   "source": [
    "desc"
   ]
  },
  {
   "cell_type": "code",
   "execution_count": 21,
   "id": "bfa6b057",
   "metadata": {},
   "outputs": [
    {
     "data": {
      "text/plain": [
       "0        [vessel, sinks, mashima, stamped, design, wide...\n",
       "1        [vessel, sinks, mishima, stamped, design, whit...\n",
       "2        [custom, small, white, oval, vessel, sinks, de...\n",
       "3        [custom, blue, vessel, sink, designed, bathroo...\n",
       "4        [carved, cup, mug, coffee, mug, mug, cup, hand...\n",
       "                               ...                        \n",
       "11995              [rustic, bowl, second, choice, product]\n",
       "11996    [vintage, ashtray, bulgarian, painted, vintage...\n",
       "11997    [french, pitcher, beautiful, studio, wine, car...\n",
       "11998                 [cat, cup, mug, white, glaze, light]\n",
       "11999    [vase, flowers, home, decor, bedroom, country,...\n",
       "Name: title_x, Length: 12000, dtype: object"
      ]
     },
     "execution_count": 21,
     "metadata": {},
     "output_type": "execute_result"
    }
   ],
   "source": [
    "title"
   ]
  },
  {
   "cell_type": "markdown",
   "id": "4fae8d86",
   "metadata": {},
   "source": [
    "### Save the cleaned descriptions and titles to csv to use for clustering algorithm"
   ]
  },
  {
   "cell_type": "code",
   "execution_count": 22,
   "id": "d6ee2f31",
   "metadata": {},
   "outputs": [],
   "source": [
    "title.to_csv('data/titles-cleaned033122.csv')\n",
    "desc.to_csv('data/descriptions-cleaned033122.csv')"
   ]
  },
  {
   "cell_type": "markdown",
   "id": "f025c8e2",
   "metadata": {},
   "source": [
    "### Word Counts"
   ]
  },
  {
   "cell_type": "code",
   "execution_count": 23,
   "id": "eb32df58",
   "metadata": {},
   "outputs": [],
   "source": [
    "#define a function that reduces a column to a 1-dimensional series (to get word counts)\n",
    "def oneD(column):\n",
    " return pd.Series([x for list in column for x in list])"
   ]
  },
  {
   "cell_type": "code",
   "execution_count": 24,
   "id": "29db5cbf",
   "metadata": {},
   "outputs": [],
   "source": [
    "#get the value counts for each of the words in the description\n",
    "descWordCounts = oneD(desc).value_counts()"
   ]
  },
  {
   "cell_type": "code",
   "execution_count": 138,
   "id": "5b65fd35",
   "metadata": {},
   "outputs": [
    {
     "data": {
      "image/png": "[encoded data removed]",
      "text/plain": [
       "<Figure size 1080x576 with 1 Axes>"
      ]
     },
     "metadata": {
      "needs_background": "light"
     },
     "output_type": "display_data"
    }
   ],
   "source": [
    "# Sort top words in the descriptions\n",
    "top25desc = descWordCounts.head(25).sort_values(ascending=False)\n",
    "\n",
    "plt.figure(figsize = (15,8))\n",
    "\n",
    "p = sns.barplot(x=top25desc.values, y=top25desc.index, palette='light:#639c6f_r').set(title='Top 25 Words in the Descriptions')"
   ]
  },
  {
   "cell_type": "code",
   "execution_count": 26,
   "id": "66ed48a7",
   "metadata": {},
   "outputs": [],
   "source": [
    "#get the value counts for each of the words in the titles\n",
    "titleWordCounts = oneD(title).value_counts()"
   ]
  },
  {
   "cell_type": "code",
   "execution_count": 109,
   "id": "84e0b877",
   "metadata": {},
   "outputs": [
    {
     "data": {
      "image/png": "[encoded data removed]",
      "text/plain": [
       "<Figure size 1080x576 with 1 Axes>"
      ]
     },
     "metadata": {
      "needs_background": "light"
     },
     "output_type": "display_data"
    }
   ],
   "source": [
    "#look at top 25 words in the titles\n",
    "top25title = titleWordCounts.head(25).sort_values(ascending=False)\n",
    "\n",
    "plt.figure(figsize = (15,8))\n",
    "\n",
    "p = sns.barplot(x=top25title.values, y=top25title.index, palette='light:#6255aa_r').set(title='Top 25 Words in the Titles')"
   ]
  },
  {
   "cell_type": "markdown",
   "id": "10a06c68",
   "metadata": {},
   "source": [
    "## Tags"
   ]
  },
  {
   "cell_type": "code",
   "execution_count": 28,
   "id": "ed6df5c3",
   "metadata": {},
   "outputs": [],
   "source": [
    "#make all tags lowercase\n",
    "data['tags'] = data['tags'].str.lower()"
   ]
  },
  {
   "cell_type": "code",
   "execution_count": 29,
   "id": "ecbbf483",
   "metadata": {},
   "outputs": [],
   "source": [
    "#transform tags column from strings to lists\n",
    "data['tags'] = data['tags'].apply(eval)"
   ]
  },
  {
   "cell_type": "code",
   "execution_count": 31,
   "id": "a3c6ad60",
   "metadata": {},
   "outputs": [],
   "source": [
    "#get just the tags\n",
    "tags = data['tags']"
   ]
  },
  {
   "cell_type": "markdown",
   "id": "04b49ca0",
   "metadata": {},
   "source": [
    "### Remove pottery-related stopwords from the tags"
   ]
  },
  {
   "cell_type": "code",
   "execution_count": 32,
   "id": "596185f2",
   "metadata": {},
   "outputs": [],
   "source": [
    "#define common stopwords\n",
    "stopTags = ['handmade','stoneware','pottery','ceramic','clay','handmade pottery','stoneware pottery','ceramics','handmade ceramics']"
   ]
  },
  {
   "cell_type": "code",
   "execution_count": 33,
   "id": "7866e0c2",
   "metadata": {},
   "outputs": [],
   "source": [
    "#remove stop words from tags\n",
    "for i in range (0, len(tags)):\n",
    "    for s in stopTags:\n",
    "        tags_list = tags[i]\n",
    "        if s in tags_list:\n",
    "            tags_list.remove(s)"
   ]
  },
  {
   "cell_type": "code",
   "execution_count": 68,
   "id": "17cae43e",
   "metadata": {},
   "outputs": [],
   "source": [
    "#add clean tags to original df\n",
    "data['clean_tags'] = tags"
   ]
  },
  {
   "cell_type": "code",
   "execution_count": 35,
   "id": "99fd001a",
   "metadata": {},
   "outputs": [],
   "source": [
    "#get the value counts for each of the tags\n",
    "tagCounts = oneD(tags).value_counts()"
   ]
  },
  {
   "cell_type": "code",
   "execution_count": 139,
   "id": "c473fb96",
   "metadata": {},
   "outputs": [],
   "source": [
    "# Sort the top tags overall\n",
    "top25 = tagCounts.head(25).sort_values(ascending=False)"
   ]
  },
  {
   "cell_type": "code",
   "execution_count": 50,
   "id": "3cf1d3a3",
   "metadata": {},
   "outputs": [
    {
     "data": {
      "text/plain": [
       "spoon rest                     164\n",
       "ceramic spoon rest              53\n",
       "spoon holder                    40\n",
       "spoonrest                       38\n",
       "pottery spoon rest              38\n",
       "                              ... \n",
       "spoon rest handmade              1\n",
       "functional spoon                 1\n",
       "owl spoon rest                   1\n",
       "porcelain small spoon table      1\n",
       "scooper spoon                    1\n",
       "Length: 260, dtype: int64"
      ]
     },
     "execution_count": 50,
     "metadata": {},
     "output_type": "execute_result"
    }
   ],
   "source": [
    "# the word \"spoon\" is appearing in the top words in the titles so I wanted to see what the related tags are:\n",
    "tagCounts[tagCounts.index.str.contains(pat = 'spoon')]"
   ]
  },
  {
   "cell_type": "markdown",
   "id": "dd4bd4df",
   "metadata": {},
   "source": [
    "#### I repeated the above for all the top words in the titles that were products so I could see if they were normally used in a phrase like \"spoon rest\" rather than individually and used this later on in the \"Business Information\" notebook"
   ]
  },
  {
   "cell_type": "markdown",
   "id": "14b7507b",
   "metadata": {},
   "source": [
    "### Get top 20 tags for top-favorited and top rated shops"
   ]
  },
  {
   "cell_type": "code",
   "execution_count": 39,
   "id": "708272c1",
   "metadata": {},
   "outputs": [],
   "source": [
    "#dataframe with tags, num of favorites\n",
    "itemData = data[['listing_id','clean_tags','num_favorers_x']]"
   ]
  },
  {
   "cell_type": "code",
   "execution_count": 40,
   "id": "157a9aed",
   "metadata": {},
   "outputs": [
    {
     "data": {
      "text/html": [
       "<div>\n",
       "<style scoped>\n",
       "    .dataframe tbody tr th:only-of-type {\n",
       "        vertical-align: middle;\n",
       "    }\n",
       "\n",
       "    .dataframe tbody tr th {\n",
       "        vertical-align: top;\n",
       "    }\n",
       "\n",
       "    .dataframe thead th {\n",
       "        text-align: right;\n",
       "    }\n",
       "</style>\n",
       "<table border=\"1\" class=\"dataframe\">\n",
       "  <thead>\n",
       "    <tr style=\"text-align: right;\">\n",
       "      <th></th>\n",
       "      <th>listing_id</th>\n",
       "      <th>clean_tags</th>\n",
       "      <th>num_favorers_x</th>\n",
       "    </tr>\n",
       "  </thead>\n",
       "  <tbody>\n",
       "    <tr>\n",
       "      <th>2679</th>\n",
       "      <td>175789619</td>\n",
       "      <td>[best selling mug, gift under 50, gift for dad...</td>\n",
       "      <td>26374</td>\n",
       "    </tr>\n",
       "    <tr>\n",
       "      <th>551</th>\n",
       "      <td>792180615</td>\n",
       "      <td>[ceramic mug, handpainted mug, nature mug, flo...</td>\n",
       "      <td>13334</td>\n",
       "    </tr>\n",
       "    <tr>\n",
       "      <th>1611</th>\n",
       "      <td>900330801</td>\n",
       "      <td>[wheel thrown pottery, fine art ceramics, dini...</td>\n",
       "      <td>12995</td>\n",
       "    </tr>\n",
       "    <tr>\n",
       "      <th>759</th>\n",
       "      <td>1086863643</td>\n",
       "      <td>[caffeine addict, coffee lover, gift for mom, ...</td>\n",
       "      <td>10207</td>\n",
       "    </tr>\n",
       "    <tr>\n",
       "      <th>3692</th>\n",
       "      <td>535025569</td>\n",
       "      <td>[coffee cup, parceline, tea cup, coffee mug, c...</td>\n",
       "      <td>9671</td>\n",
       "    </tr>\n",
       "    <tr>\n",
       "      <th>6160</th>\n",
       "      <td>741218574</td>\n",
       "      <td>[handmade ceramic mug, handmade mug, ceramic m...</td>\n",
       "      <td>8259</td>\n",
       "    </tr>\n",
       "    <tr>\n",
       "      <th>2317</th>\n",
       "      <td>128982522</td>\n",
       "      <td>[etsymudteam, claylicious, stoneware berry bow...</td>\n",
       "      <td>7926</td>\n",
       "    </tr>\n",
       "    <tr>\n",
       "      <th>2114</th>\n",
       "      <td>677424431</td>\n",
       "      <td>[handmade coffee mug, birthday gift mug, coffe...</td>\n",
       "      <td>7820</td>\n",
       "    </tr>\n",
       "    <tr>\n",
       "      <th>1835</th>\n",
       "      <td>635135322</td>\n",
       "      <td>[platter, serving platter, gray, wabi sabi, mo...</td>\n",
       "      <td>7412</td>\n",
       "    </tr>\n",
       "    <tr>\n",
       "      <th>3099</th>\n",
       "      <td>614766345</td>\n",
       "      <td>[pottery mug, black and white, turquoise, coff...</td>\n",
       "      <td>7317</td>\n",
       "    </tr>\n",
       "    <tr>\n",
       "      <th>34</th>\n",
       "      <td>621980272</td>\n",
       "      <td>[coffee, mug, rustic, cup, farmhouse, white, f...</td>\n",
       "      <td>7149</td>\n",
       "    </tr>\n",
       "    <tr>\n",
       "      <th>8314</th>\n",
       "      <td>889589581</td>\n",
       "      <td>[ceramic mug, ceramic cup, vintage cup, vintag...</td>\n",
       "      <td>7147</td>\n",
       "    </tr>\n",
       "    <tr>\n",
       "      <th>2414</th>\n",
       "      <td>792274678</td>\n",
       "      <td>[gift, kitchen, stove, coffee maker, hand thro...</td>\n",
       "      <td>7049</td>\n",
       "    </tr>\n",
       "    <tr>\n",
       "      <th>1226</th>\n",
       "      <td>682986141</td>\n",
       "      <td>[cup, mug, scandinavian, texture, shabby, blac...</td>\n",
       "      <td>6815</td>\n",
       "    </tr>\n",
       "    <tr>\n",
       "      <th>681</th>\n",
       "      <td>213362548</td>\n",
       "      <td>[mug, tea mug, ceramics and pottery, ceramic m...</td>\n",
       "      <td>6368</td>\n",
       "    </tr>\n",
       "    <tr>\n",
       "      <th>67</th>\n",
       "      <td>941852785</td>\n",
       "      <td>[pasta bowl, handmade pasta bowl, ceramic past...</td>\n",
       "      <td>5935</td>\n",
       "    </tr>\n",
       "    <tr>\n",
       "      <th>1613</th>\n",
       "      <td>895865304</td>\n",
       "      <td>[gift for her, personalised mug, custom mug, c...</td>\n",
       "      <td>5875</td>\n",
       "    </tr>\n",
       "    <tr>\n",
       "      <th>4505</th>\n",
       "      <td>1058376008</td>\n",
       "      <td>[hand built, kitchen, dining, table setting, m...</td>\n",
       "      <td>5808</td>\n",
       "    </tr>\n",
       "    <tr>\n",
       "      <th>552</th>\n",
       "      <td>656184828</td>\n",
       "      <td>[incense holder, handmade incense, incense bur...</td>\n",
       "      <td>5676</td>\n",
       "    </tr>\n",
       "    <tr>\n",
       "      <th>4464</th>\n",
       "      <td>783742223</td>\n",
       "      <td>[dinnerware set, stoneware set, dinner set, ru...</td>\n",
       "      <td>5526</td>\n",
       "    </tr>\n",
       "    <tr>\n",
       "      <th>5268</th>\n",
       "      <td>796138788</td>\n",
       "      <td>[ceramic mug, dinnerware, pottery mug, kitchen...</td>\n",
       "      <td>5430</td>\n",
       "    </tr>\n",
       "    <tr>\n",
       "      <th>1437</th>\n",
       "      <td>1017377412</td>\n",
       "      <td>[brown mug, coffee mug, tea mug, handmade mug,...</td>\n",
       "      <td>5345</td>\n",
       "    </tr>\n",
       "    <tr>\n",
       "      <th>555</th>\n",
       "      <td>665351578</td>\n",
       "      <td>[blue stoneware, brown stoneware, green stonew...</td>\n",
       "      <td>5266</td>\n",
       "    </tr>\n",
       "    <tr>\n",
       "      <th>10500</th>\n",
       "      <td>630564983</td>\n",
       "      <td>[saguaro, earring, ring dish, dish, ring tree,...</td>\n",
       "      <td>5128</td>\n",
       "    </tr>\n",
       "    <tr>\n",
       "      <th>3847</th>\n",
       "      <td>989791865</td>\n",
       "      <td>[champagne bowl, kitchen countertop, big rusti...</td>\n",
       "      <td>5019</td>\n",
       "    </tr>\n",
       "  </tbody>\n",
       "</table>\n",
       "</div>"
      ],
      "text/plain": [
       "       listing_id                                         clean_tags  \\\n",
       "2679    175789619  [best selling mug, gift under 50, gift for dad...   \n",
       "551     792180615  [ceramic mug, handpainted mug, nature mug, flo...   \n",
       "1611    900330801  [wheel thrown pottery, fine art ceramics, dini...   \n",
       "759    1086863643  [caffeine addict, coffee lover, gift for mom, ...   \n",
       "3692    535025569  [coffee cup, parceline, tea cup, coffee mug, c...   \n",
       "6160    741218574  [handmade ceramic mug, handmade mug, ceramic m...   \n",
       "2317    128982522  [etsymudteam, claylicious, stoneware berry bow...   \n",
       "2114    677424431  [handmade coffee mug, birthday gift mug, coffe...   \n",
       "1835    635135322  [platter, serving platter, gray, wabi sabi, mo...   \n",
       "3099    614766345  [pottery mug, black and white, turquoise, coff...   \n",
       "34      621980272  [coffee, mug, rustic, cup, farmhouse, white, f...   \n",
       "8314    889589581  [ceramic mug, ceramic cup, vintage cup, vintag...   \n",
       "2414    792274678  [gift, kitchen, stove, coffee maker, hand thro...   \n",
       "1226    682986141  [cup, mug, scandinavian, texture, shabby, blac...   \n",
       "681     213362548  [mug, tea mug, ceramics and pottery, ceramic m...   \n",
       "67      941852785  [pasta bowl, handmade pasta bowl, ceramic past...   \n",
       "1613    895865304  [gift for her, personalised mug, custom mug, c...   \n",
       "4505   1058376008  [hand built, kitchen, dining, table setting, m...   \n",
       "552     656184828  [incense holder, handmade incense, incense bur...   \n",
       "4464    783742223  [dinnerware set, stoneware set, dinner set, ru...   \n",
       "5268    796138788  [ceramic mug, dinnerware, pottery mug, kitchen...   \n",
       "1437   1017377412  [brown mug, coffee mug, tea mug, handmade mug,...   \n",
       "555     665351578  [blue stoneware, brown stoneware, green stonew...   \n",
       "10500   630564983  [saguaro, earring, ring dish, dish, ring tree,...   \n",
       "3847    989791865  [champagne bowl, kitchen countertop, big rusti...   \n",
       "\n",
       "       num_favorers_x  \n",
       "2679            26374  \n",
       "551             13334  \n",
       "1611            12995  \n",
       "759             10207  \n",
       "3692             9671  \n",
       "6160             8259  \n",
       "2317             7926  \n",
       "2114             7820  \n",
       "1835             7412  \n",
       "3099             7317  \n",
       "34               7149  \n",
       "8314             7147  \n",
       "2414             7049  \n",
       "1226             6815  \n",
       "681              6368  \n",
       "67               5935  \n",
       "1613             5875  \n",
       "4505             5808  \n",
       "552              5676  \n",
       "4464             5526  \n",
       "5268             5430  \n",
       "1437             5345  \n",
       "555              5266  \n",
       "10500            5128  \n",
       "3847             5019  "
      ]
     },
     "execution_count": 40,
     "metadata": {},
     "output_type": "execute_result"
    }
   ],
   "source": [
    "#look at top 25 listings according to number of favorers\n",
    "itemData.sort_values(by = ['num_favorers_x'], ascending = False).head(25)"
   ]
  },
  {
   "cell_type": "code",
   "execution_count": 41,
   "id": "bf689c36",
   "metadata": {},
   "outputs": [],
   "source": [
    "#this is the 3,873 listings with at least 10 favorers\n",
    "TenOrMore = itemData[itemData['num_favorers_x']>=10]\n",
    "#TenOrMore.shape"
   ]
  },
  {
   "cell_type": "code",
   "execution_count": 42,
   "id": "f2010fb3",
   "metadata": {},
   "outputs": [],
   "source": [
    "#get the value counts for each of the tags in TenOrMore\n",
    "tagCountsFavs = oneD(TenOrMore[\"clean_tags\"]).value_counts()"
   ]
  },
  {
   "cell_type": "code",
   "execution_count": 140,
   "id": "2b93beff",
   "metadata": {},
   "outputs": [],
   "source": [
    "# Sort the top 25 tags from the listings with ten or more favorers\n",
    "top25Favs = tagCountsFavs.head(25).sort_values(ascending=False)"
   ]
  },
  {
   "cell_type": "markdown",
   "id": "81b830b0",
   "metadata": {},
   "source": [
    "### Get top 25 tags for top-rated shops (greater than 4.8) with at least 10 reviews"
   ]
  },
  {
   "cell_type": "code",
   "execution_count": 87,
   "id": "4f8bee80",
   "metadata": {},
   "outputs": [],
   "source": [
    "# dataframe with tags, shop review count, and review average\n",
    "shopData = data[['listing_id','clean_tags','num_favorers_x','review_average', 'review_count']]"
   ]
  },
  {
   "cell_type": "code",
   "execution_count": 84,
   "id": "e5c18612",
   "metadata": {},
   "outputs": [],
   "source": [
    "# get the shops that have at least 10 reviews\n",
    "shops10reviews = shopData[shopData['review_count']>=10]"
   ]
  },
  {
   "cell_type": "code",
   "execution_count": 136,
   "id": "81e32f74",
   "metadata": {},
   "outputs": [
    {
     "data": {
      "text/html": [
       "<div>\n",
       "<style scoped>\n",
       "    .dataframe tbody tr th:only-of-type {\n",
       "        vertical-align: middle;\n",
       "    }\n",
       "\n",
       "    .dataframe tbody tr th {\n",
       "        vertical-align: top;\n",
       "    }\n",
       "\n",
       "    .dataframe thead th {\n",
       "        text-align: right;\n",
       "    }\n",
       "</style>\n",
       "<table border=\"1\" class=\"dataframe\">\n",
       "  <thead>\n",
       "    <tr style=\"text-align: right;\">\n",
       "      <th></th>\n",
       "      <th>listing_id</th>\n",
       "      <th>clean_tags</th>\n",
       "      <th>num_favorers_x</th>\n",
       "      <th>review_average</th>\n",
       "      <th>review_count</th>\n",
       "    </tr>\n",
       "  </thead>\n",
       "  <tbody>\n",
       "    <tr>\n",
       "      <th>0</th>\n",
       "      <td>714343468</td>\n",
       "      <td>[home decor, decoration, jeff brown pottery, s...</td>\n",
       "      <td>70</td>\n",
       "      <td>4.9244</td>\n",
       "      <td>119.0</td>\n",
       "    </tr>\n",
       "    <tr>\n",
       "      <th>1</th>\n",
       "      <td>894517412</td>\n",
       "      <td>[home decor, decoration, jeff brown pottery, s...</td>\n",
       "      <td>13</td>\n",
       "      <td>4.9244</td>\n",
       "      <td>119.0</td>\n",
       "    </tr>\n",
       "    <tr>\n",
       "      <th>2</th>\n",
       "      <td>1123047691</td>\n",
       "      <td>[home decor, decoration, jeff brown pottery, s...</td>\n",
       "      <td>2</td>\n",
       "      <td>4.9244</td>\n",
       "      <td>119.0</td>\n",
       "    </tr>\n",
       "    <tr>\n",
       "      <th>3</th>\n",
       "      <td>965181802</td>\n",
       "      <td>[home decor, decoration, jeff brown pottery, s...</td>\n",
       "      <td>26</td>\n",
       "      <td>4.9244</td>\n",
       "      <td>119.0</td>\n",
       "    </tr>\n",
       "    <tr>\n",
       "      <th>4</th>\n",
       "      <td>819231044</td>\n",
       "      <td>[little pig pottery, coffee cup, tea cup, ston...</td>\n",
       "      <td>3</td>\n",
       "      <td>4.9375</td>\n",
       "      <td>16.0</td>\n",
       "    </tr>\n",
       "    <tr>\n",
       "      <th>...</th>\n",
       "      <td>...</td>\n",
       "      <td>...</td>\n",
       "      <td>...</td>\n",
       "      <td>...</td>\n",
       "      <td>...</td>\n",
       "    </tr>\n",
       "    <tr>\n",
       "      <th>11980</th>\n",
       "      <td>1050331125</td>\n",
       "      <td>[]</td>\n",
       "      <td>0</td>\n",
       "      <td>4.9487</td>\n",
       "      <td>39.0</td>\n",
       "    </tr>\n",
       "    <tr>\n",
       "      <th>11983</th>\n",
       "      <td>921220341</td>\n",
       "      <td>[studio pottery, pottery bowls, bowl set, pott...</td>\n",
       "      <td>2</td>\n",
       "      <td>5.0000</td>\n",
       "      <td>88.0</td>\n",
       "    </tr>\n",
       "    <tr>\n",
       "      <th>11997</th>\n",
       "      <td>1182460178</td>\n",
       "      <td>[french stoneware jug, stoneware pitcher, ston...</td>\n",
       "      <td>3</td>\n",
       "      <td>4.9556</td>\n",
       "      <td>225.0</td>\n",
       "    </tr>\n",
       "    <tr>\n",
       "      <th>11998</th>\n",
       "      <td>1046336443</td>\n",
       "      <td>[white, gloss, glossy, cereal, soup, salad, pl...</td>\n",
       "      <td>7</td>\n",
       "      <td>4.9722</td>\n",
       "      <td>36.0</td>\n",
       "    </tr>\n",
       "    <tr>\n",
       "      <th>11999</th>\n",
       "      <td>968322318</td>\n",
       "      <td>[birthday, flowers, vase, living room, bedroom...</td>\n",
       "      <td>94</td>\n",
       "      <td>4.9676</td>\n",
       "      <td>340.0</td>\n",
       "    </tr>\n",
       "  </tbody>\n",
       "</table>\n",
       "<p>9117 rows × 5 columns</p>\n",
       "</div>"
      ],
      "text/plain": [
       "       listing_id                                         clean_tags  \\\n",
       "0       714343468  [home decor, decoration, jeff brown pottery, s...   \n",
       "1       894517412  [home decor, decoration, jeff brown pottery, s...   \n",
       "2      1123047691  [home decor, decoration, jeff brown pottery, s...   \n",
       "3       965181802  [home decor, decoration, jeff brown pottery, s...   \n",
       "4       819231044  [little pig pottery, coffee cup, tea cup, ston...   \n",
       "...           ...                                                ...   \n",
       "11980  1050331125                                                 []   \n",
       "11983   921220341  [studio pottery, pottery bowls, bowl set, pott...   \n",
       "11997  1182460178  [french stoneware jug, stoneware pitcher, ston...   \n",
       "11998  1046336443  [white, gloss, glossy, cereal, soup, salad, pl...   \n",
       "11999   968322318  [birthday, flowers, vase, living room, bedroom...   \n",
       "\n",
       "       num_favorers_x  review_average  review_count  \n",
       "0                  70          4.9244         119.0  \n",
       "1                  13          4.9244         119.0  \n",
       "2                   2          4.9244         119.0  \n",
       "3                  26          4.9244         119.0  \n",
       "4                   3          4.9375          16.0  \n",
       "...               ...             ...           ...  \n",
       "11980               0          4.9487          39.0  \n",
       "11983               2          5.0000          88.0  \n",
       "11997               3          4.9556         225.0  \n",
       "11998               7          4.9722          36.0  \n",
       "11999              94          4.9676         340.0  \n",
       "\n",
       "[9117 rows x 5 columns]"
      ]
     },
     "execution_count": 136,
     "metadata": {},
     "output_type": "execute_result"
    }
   ],
   "source": [
    "#this is the 9036 listings from shops with at least 10 reviews\n",
    "TenReviews =  shopData[shopData['review_count']>=10]"
   ]
  },
  {
   "cell_type": "code",
   "execution_count": 155,
   "id": "b862be47",
   "metadata": {},
   "outputs": [],
   "source": [
    "# this is the 8106 listings from shops with at least 10 reviews AND a 4.8 star rating or higher\n",
    "topShops =  TenReviews[TenReviews['review_average']>=4.9]"
   ]
  },
  {
   "cell_type": "code",
   "execution_count": 157,
   "id": "d5467be1",
   "metadata": {},
   "outputs": [],
   "source": [
    "#get the value counts for each of the tags in the topShops listings\n",
    "tagCountsTopShops = oneD(topShops[\"clean_tags\"]).value_counts()\n",
    "\n",
    "# Sort the top 25 tags from the listings with ten or more favorers\n",
    "top25TopShops = tagCountsTopShops.head(25).sort_values(ascending=False)"
   ]
  },
  {
   "cell_type": "code",
   "execution_count": 158,
   "id": "7963b7cc",
   "metadata": {},
   "outputs": [
    {
     "data": {
      "text/plain": [
       "Text(0.5, 1.0, 'Top 25 Tags for Listings w/10 or more Favorers')"
      ]
     },
     "execution_count": 158,
     "metadata": {},
     "output_type": "execute_result"
    },
    {
     "data": {
      "image/png": "[encoded data removed]",
      "text/plain": [
       "<Figure size 864x1296 with 3 Axes>"
      ]
     },
     "metadata": {
      "needs_background": "light"
     },
     "output_type": "display_data"
    }
   ],
   "source": [
    "# plot top tags in different subsets of the data\n",
    "fig, axes = plt.subplots(3, 1, figsize = (12, 18))\n",
    "fig.suptitle('Top Tags')\n",
    "\n",
    "# plot all the top tags overall\n",
    "sns.barplot(ax=axes[0], x=top25.values, y=top25.index, palette='light:#4079bf_r')\n",
    "axes[0].set_title('Top 25 Tags All Listings')\n",
    "\n",
    "# plot the top tags for listings with 10 or more favorers\n",
    "sns.barplot(ax=axes[1], x=top25Favs.values, y=top25Favs.index, palette='light:#b94f46_r')\n",
    "axes[1].set_title('Top 25 Tags for Listings w/10 or more Favorers')\n",
    "\n",
    "# plot the top tags for listings from shops with at least 10 reviews and a 4.9 star rating or higher\n",
    "sns.barplot(ax=axes[2], x=top25TopShops.values, y=top25TopShops.index, palette='light:#90aa55_r')\n",
    "axes[2].set_title('Top 25 Tags for Listings w/10 or more Favorers')"
   ]
  },
  {
   "cell_type": "code",
   "execution_count": null,
   "id": "42a3b3d7",
   "metadata": {},
   "outputs": [],
   "source": []
  }
 ],
 "metadata": {
  "kernelspec": {
   "display_name": "Python 3",
   "language": "python",
   "name": "python3"
  },
  "language_info": {
   "codemirror_mode": {
    "name": "ipython",
    "version": 3
   },
   "file_extension": ".py",
   "mimetype": "text/x-python",
   "name": "python",
   "nbconvert_exporter": "python",
   "pygments_lexer": "ipython3",
   "version": "3.8.8"
  }
 },
 "nbformat": 4,
 "nbformat_minor": 5
}
