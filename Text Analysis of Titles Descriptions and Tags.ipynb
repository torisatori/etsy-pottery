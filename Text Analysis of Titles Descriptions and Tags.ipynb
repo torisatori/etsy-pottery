{
 "cells": [
  {
   "cell_type": "markdown",
   "id": "ff64b22b",
   "metadata": {},
   "source": [
    "# Text Analysis of Titles Descriptions and Tags"
   ]
  },
  {
   "cell_type": "code",
   "execution_count": 1,
   "id": "d61d915d",
   "metadata": {},
   "outputs": [],
   "source": [
    "import pandas as pd\n",
    "import numpy as np\n",
    "import re\n",
    "import datetime  \n",
    "import matplotlib.pyplot as plt\n",
    "\n",
    "#natural language toolkit for list of stop words\n",
    "import nltk \n",
    "#nltk.download('stopwords')\n",
    "from nltk.corpus import stopwords"
   ]
  },
  {
   "cell_type": "code",
   "execution_count": 2,
   "id": "74217d1f",
   "metadata": {},
   "outputs": [],
   "source": [
    "data = pd.read_csv('data/mergedData.csv')"
   ]
  },
  {
   "cell_type": "markdown",
   "id": "f6456f16",
   "metadata": {},
   "source": [
    "## Titles and Descriptions"
   ]
  },
  {
   "cell_type": "code",
   "execution_count": 3,
   "id": "e155a998",
   "metadata": {},
   "outputs": [],
   "source": [
    "#make all title and descriptions lowercase\n",
    "title = data['title_x'].str.lower()\n",
    "desc = data['description'].str.lower()"
   ]
  },
  {
   "cell_type": "code",
   "execution_count": 4,
   "id": "df875d97",
   "metadata": {},
   "outputs": [
    {
     "data": {
      "text/plain": [
       "0    handmade stoneware ceramic blue & brown dish, ...\n",
       "1    handmade stoneware ceramic pot, perfect for sa...\n",
       "2    handmade organic ceramic bowl,  blue & brown p...\n",
       "3    handmade stoneware ceramic pinch pot, perfect ...\n",
       "4    handmade stoneware ceramic  dish. jewellery, t...\n",
       "Name: title_x, dtype: object"
      ]
     },
     "execution_count": 4,
     "metadata": {},
     "output_type": "execute_result"
    }
   ],
   "source": [
    "#look at some titles\n",
    "title.head(5)"
   ]
  },
  {
   "cell_type": "code",
   "execution_count": 5,
   "id": "19d5ad90",
   "metadata": {},
   "outputs": [
    {
     "data": {
      "text/plain": [
       "0    unique handmade ceramic dish hand-moulded from...\n",
       "1    unique handmade ceramic  pinch pot, bisque fir...\n",
       "2    unique handmade ceramic bowl, bisque fired and...\n",
       "3    unique handmade ceramic  pinch pot, bisque fir...\n",
       "4    unique handmade ceramic hand-moulded from slab...\n",
       "Name: description, dtype: object"
      ]
     },
     "execution_count": 5,
     "metadata": {},
     "output_type": "execute_result"
    }
   ],
   "source": [
    "#look at some descriptions\n",
    "desc.head(5)"
   ]
  },
  {
   "cell_type": "code",
   "execution_count": 6,
   "id": "000c7302",
   "metadata": {},
   "outputs": [
    {
     "data": {
      "text/plain": [
       "172"
      ]
     },
     "execution_count": 6,
     "metadata": {},
     "output_type": "execute_result"
    }
   ],
   "source": [
    "#get the length of the longest title \n",
    "title.str.len().max()"
   ]
  },
  {
   "cell_type": "code",
   "execution_count": 7,
   "id": "703b5e75",
   "metadata": {},
   "outputs": [
    {
     "data": {
      "text/plain": [
       "9086"
      ]
     },
     "execution_count": 7,
     "metadata": {},
     "output_type": "execute_result"
    }
   ],
   "source": [
    "#get the length of the longest descriptons\n",
    "desc.str.len().max()"
   ]
  },
  {
   "cell_type": "markdown",
   "id": "697cb742",
   "metadata": {},
   "source": [
    "### Looking at listings that contain specific products of interest"
   ]
  },
  {
   "cell_type": "code",
   "execution_count": 8,
   "id": "8fbf8484",
   "metadata": {},
   "outputs": [],
   "source": [
    "#DELETE LATER\n",
    "#percentage of listings that contain the word \"mug\" in the description\n",
    "#mugs = desc[desc.str.contains(' mug ')==True]\n",
    "#len(mugs)/len(desc)"
   ]
  },
  {
   "cell_type": "code",
   "execution_count": 9,
   "id": "ca9b27fc",
   "metadata": {},
   "outputs": [],
   "source": [
    "#percentage of listings that contain a specific word\n",
    "\n",
    "def percentage_item(text, word):\n",
    "    true = text[text.str.contains(' ' + word + ' ')==True]\n",
    "    percent = len(true)/len(text)\n",
    "    return percent"
   ]
  },
  {
   "cell_type": "code",
   "execution_count": 10,
   "id": "7ab46093",
   "metadata": {},
   "outputs": [
    {
     "data": {
      "text/plain": [
       "0.115"
      ]
     },
     "execution_count": 10,
     "metadata": {},
     "output_type": "execute_result"
    }
   ],
   "source": [
    "#percentage of listings that contain the word \"mug\" in the TITLE\n",
    "percentage_item(title, \"mug\")"
   ]
  },
  {
   "cell_type": "code",
   "execution_count": 11,
   "id": "3f18e494",
   "metadata": {},
   "outputs": [
    {
     "data": {
      "text/plain": [
       "0.212"
      ]
     },
     "execution_count": 11,
     "metadata": {},
     "output_type": "execute_result"
    }
   ],
   "source": [
    "#percentage of listings that contain the word \"mug\" in the DESCRIPTION\n",
    "percentage_item(desc, \"mug\")"
   ]
  },
  {
   "cell_type": "code",
   "execution_count": 12,
   "id": "aea935b7",
   "metadata": {},
   "outputs": [
    {
     "name": "stdout",
     "output_type": "stream",
     "text": [
      "mug 0.115 0.212\n",
      "plate 0.033666666666666664 0.06225\n",
      "bowl 0.07908333333333334 0.13783333333333334\n",
      "jar 0.012666666666666666 0.01525\n",
      "planter 0.012333333333333333 0.01775\n",
      "berry bowl 0.001 0.0014166666666666668\n",
      "butter dish 0.0025 0.00225\n",
      "cup 0.060583333333333336 0.11091666666666666\n",
      "tumbler 0.010416666666666666 0.016666666666666666\n",
      "bacon cooker 0.0 0.00016666666666666666\n",
      "spoon rest 0.004 0.01\n"
     ]
    }
   ],
   "source": [
    "#percentage of listings that contain a specific product\n",
    "\n",
    "items = ['mug', 'plate', 'bowl', 'jar', 'planter', 'berry bowl', 'butter dish', 'cup', 'tumbler', 'bacon cooker', 'spoon rest']\n",
    "\n",
    "for i in items:\n",
    "    print(i, percentage_item(title, i), percentage_item(desc, i))\n"
   ]
  },
  {
   "cell_type": "markdown",
   "id": "1eaff512",
   "metadata": {},
   "source": [
    "### Remove punctuation, special characters and stop words from the titles and descriptons"
   ]
  },
  {
   "cell_type": "markdown",
   "id": "4b531717",
   "metadata": {},
   "source": [
    "Note that this loop isnt removing \"\\n\" so might need a different method to do that"
   ]
  },
  {
   "cell_type": "code",
   "execution_count": 13,
   "id": "796a233d",
   "metadata": {},
   "outputs": [],
   "source": [
    "# function that removes \"\\n\", links, as well as special characters and numbers fromt text\n",
    "def clean_text(text):\n",
    "    for i in range (0, len(text)):\n",
    "        n = '\\n'\n",
    "        string = text[i]\n",
    "        if n in string:\n",
    "            string = string.replace(n, \" \")\n",
    "            text[i] = string\n",
    "        text[i] = re.sub(\"[^A-za-z]+\",\" \", text[i])\n",
    "        text[i] = re.sub(r\"http\\S+\",\"\",text[i])\n",
    "        text[i] = re.sub(r\"www\\S+\",\"\",text[i])"
   ]
  },
  {
   "cell_type": "code",
   "execution_count": 14,
   "id": "e970c30e",
   "metadata": {},
   "outputs": [],
   "source": [
    "# Clean descriptions and titles\n",
    "clean_text(desc)\n",
    "clean_text(title)"
   ]
  },
  {
   "cell_type": "code",
   "execution_count": 15,
   "id": "6aaafbad",
   "metadata": {},
   "outputs": [],
   "source": [
    "#split the title strings on the spaces\n",
    "title = title.str.split(\" \")"
   ]
  },
  {
   "cell_type": "code",
   "execution_count": 16,
   "id": "a3cc910f",
   "metadata": {},
   "outputs": [],
   "source": [
    "#split the description strings\n",
    "desc = desc.str.split(\" \")"
   ]
  },
  {
   "cell_type": "code",
   "execution_count": 17,
   "id": "6d49b00e",
   "metadata": {},
   "outputs": [
    {
     "data": {
      "text/plain": [
       "0        [unique, handmade, ceramic, dish, hand, moulde...\n",
       "1        [unique, handmade, ceramic, pinch, pot, bisque...\n",
       "2        [unique, handmade, ceramic, bowl, bisque, fire...\n",
       "3        [unique, handmade, ceramic, pinch, pot, bisque...\n",
       "4        [unique, handmade, ceramic, hand, moulded, fro...\n",
       "                               ...                        \n",
       "11995    [a, stylish, studio, pottery, vase, in, a, bro...\n",
       "11996    [free, shipping, with, tracking, included, cra...\n",
       "11997    [vintage, handmade, hand, thrown, salt, glaze,...\n",
       "11998    [stunning, retro, style, mug, with, rich, brow...\n",
       "11999    [this, is, a, hand, built, ceramic, vase, meas...\n",
       "Name: description, Length: 12000, dtype: object"
      ]
     },
     "execution_count": 17,
     "metadata": {},
     "output_type": "execute_result"
    }
   ],
   "source": [
    "desc"
   ]
  },
  {
   "cell_type": "code",
   "execution_count": 19,
   "id": "e80c5aef",
   "metadata": {},
   "outputs": [],
   "source": [
    "## define the stopwords\n",
    "stop = stopwords.words('english')"
   ]
  },
  {
   "cell_type": "code",
   "execution_count": 27,
   "id": "2c5b8a1e",
   "metadata": {},
   "outputs": [],
   "source": [
    "#add pottery-related keywords, and other irrelevant words to stopwords\n",
    "potteryStop = ['handmade','stoneware','pottery','ceramic','clay','x', '|','cm', 'oz', ' ', '', 'www'\n",
    "'shipping','item','items','hand','made','piece','pieces','make','please','one','use','may','inches','also','high','etsy', 'quot']\n",
    "stop.extend(potteryStop)"
   ]
  },
  {
   "cell_type": "markdown",
   "id": "7269c2f9",
   "metadata": {},
   "source": [
    "Delete Later: list comprehension to remove all instances of the stop words, this seems to work better than .remove and filter()\n",
    "#list = [w for w in list if w != word]"
   ]
  },
  {
   "cell_type": "markdown",
   "id": "febb859b",
   "metadata": {},
   "source": [
    "TO DO: Turn this into a function"
   ]
  },
  {
   "cell_type": "code",
   "execution_count": 28,
   "id": "69a7f0b3",
   "metadata": {},
   "outputs": [],
   "source": [
    "# remove all instances of the stop words from the descriptions\n",
    "for i in range (0, len(desc)-1):\n",
    "    for s in stop:\n",
    "        list = desc[i]\n",
    "        list = [w for w in list if w != s]\n",
    "        desc[i] = list"
   ]
  },
  {
   "cell_type": "code",
   "execution_count": 22,
   "id": "3bc00b12",
   "metadata": {},
   "outputs": [],
   "source": [
    "# remove all instances of the stop words from the titles\n",
    "for i in range (0, len(title)-1):\n",
    "    for s in stop:\n",
    "        list = title[i]\n",
    "        list = [w for w in list if w != s]\n",
    "        title[i] = list"
   ]
  },
  {
   "cell_type": "markdown",
   "id": "4fae8d86",
   "metadata": {},
   "source": [
    "### Save the cleaned descriptions and titles to csv to use for clustering algorithm"
   ]
  },
  {
   "cell_type": "code",
   "execution_count": 32,
   "id": "d6ee2f31",
   "metadata": {},
   "outputs": [],
   "source": [
    "title.to_csv('titles-cleaned.csv')\n",
    "desc.to_csv('descriptions-cleaned.csv')"
   ]
  },
  {
   "cell_type": "markdown",
   "id": "f025c8e2",
   "metadata": {},
   "source": [
    "### Word Counts"
   ]
  },
  {
   "cell_type": "code",
   "execution_count": 24,
   "id": "eb32df58",
   "metadata": {},
   "outputs": [],
   "source": [
    "#define a function that reduces a column to a 1-dimensional series (to get word counts)\n",
    "def oneD(column):\n",
    " return pd.Series([x for list in column for x in list])"
   ]
  },
  {
   "cell_type": "code",
   "execution_count": 25,
   "id": "29db5cbf",
   "metadata": {},
   "outputs": [],
   "source": [
    "#get the value counts for each of the words in the description\n",
    "descWordCounts = oneD(desc).value_counts()"
   ]
  },
  {
   "cell_type": "code",
   "execution_count": 26,
   "id": "64ac6e02",
   "metadata": {},
   "outputs": [
    {
     "data": {
      "text/plain": [
       "              12532\n",
       "safe          10280\n",
       "glaze          9011\n",
       "mug            7741\n",
       "dishwasher     6464\n",
       "unique         5771\n",
       "fired          5521\n",
       "food           5363\n",
       "microwave      5308\n",
       "bowl           5208\n",
       "shop           5101\n",
       "glazed         5064\n",
       "com            4626\n",
       "wheel          4217\n",
       "www            4145\n",
       "free           4066\n",
       "gift           3869\n",
       "thrown         3813\n",
       "white          3750\n",
       "diameter       3660\n",
       "glazes         3583\n",
       "size           3406\n",
       "blue           3396\n",
       "cup            3365\n",
       "height         3193\n",
       "dtype: int64"
      ]
     },
     "execution_count": 26,
     "metadata": {},
     "output_type": "execute_result"
    }
   ],
   "source": [
    "#look at top 25 words in the descriptions\n",
    "top25desc = descWordCounts.head(25).sort_values(ascending=False)\n",
    "top25desc"
   ]
  },
  {
   "cell_type": "code",
   "execution_count": 29,
   "id": "66ed48a7",
   "metadata": {},
   "outputs": [],
   "source": [
    "#get the value counts for each of the words in the titles\n",
    "titleWordCounts = oneD(title).value_counts()"
   ]
  },
  {
   "cell_type": "markdown",
   "id": "7e90ca51",
   "metadata": {},
   "source": [
    "ARG WHY IS THERE STILL AN EMPTY STRING HERE!!!! Fix this next time"
   ]
  },
  {
   "cell_type": "code",
   "execution_count": 30,
   "id": "84e0b877",
   "metadata": {},
   "outputs": [
    {
     "data": {
      "text/plain": [
       "mug        6594\n",
       "bowl       3541\n",
       "coffee     2520\n",
       "cup        2346\n",
       "           2243\n",
       "blue       1707\n",
       "gift       1634\n",
       "vase       1620\n",
       "tea        1553\n",
       "set        1344\n",
       "plate      1249\n",
       "white      1206\n",
       "thrown     1143\n",
       "dish       1113\n",
       "large       932\n",
       "green       913\n",
       "small       846\n",
       "vintage     807\n",
       "glaze       789\n",
       "pot         784\n",
       "wheel       715\n",
       "unique      711\n",
       "rustic      686\n",
       "black       662\n",
       "serving     646\n",
       "dtype: int64"
      ]
     },
     "execution_count": 30,
     "metadata": {},
     "output_type": "execute_result"
    }
   ],
   "source": [
    "#look at top 25 words in the titles\n",
    "top25title = titleWordCounts.head(25).sort_values(ascending=False)\n",
    "top25title"
   ]
  },
  {
   "cell_type": "markdown",
   "id": "10a06c68",
   "metadata": {},
   "source": [
    "## Tags"
   ]
  },
  {
   "cell_type": "code",
   "execution_count": 33,
   "id": "ed6df5c3",
   "metadata": {},
   "outputs": [],
   "source": [
    "#make all tags lowercase\n",
    "data['tags'] = data['tags'].str.lower()"
   ]
  },
  {
   "cell_type": "code",
   "execution_count": 34,
   "id": "ecbbf483",
   "metadata": {},
   "outputs": [],
   "source": [
    "#transform tags column from strings to lists\n",
    "data['tags'] = data['tags'].apply(eval)"
   ]
  },
  {
   "cell_type": "code",
   "execution_count": 35,
   "id": "8851777b",
   "metadata": {},
   "outputs": [
    {
     "data": {
      "text/plain": [
       "0        [gift, ceramic, pottery, handmade, plate, jewe...\n",
       "1        [candle holder, blue, stoneware, spice, salt, ...\n",
       "2        [rustic bowl, rustic pottery, rustic, handmade...\n",
       "3        [blue, stoneware, spice, salt, pot, pinch pots...\n",
       "4        [ornament, soap, gift, ceramic, pottery, handm...\n",
       "                               ...                        \n",
       "11995    [vintage, studio, pottery, brown, stoneware, v...\n",
       "11996    [danish stoneware, söholm, søholm, denmark, ho...\n",
       "11997    [handmade ceramic pot, stoneware pot, drip gla...\n",
       "11998    [stoneware mug, vintage mug, retro mug, brown ...\n",
       "11999    [ceramic vase, pottery vase, stoneware vase, w...\n",
       "Name: tags, Length: 12000, dtype: object"
      ]
     },
     "execution_count": 35,
     "metadata": {},
     "output_type": "execute_result"
    }
   ],
   "source": [
    "#look at the tags\n",
    "data['tags']"
   ]
  },
  {
   "cell_type": "code",
   "execution_count": 36,
   "id": "a3c6ad60",
   "metadata": {},
   "outputs": [],
   "source": [
    "#get just the tags\n",
    "tags = data['tags']"
   ]
  },
  {
   "cell_type": "markdown",
   "id": "04b49ca0",
   "metadata": {},
   "source": [
    "### Remove pottery-related stopwords from the tags"
   ]
  },
  {
   "cell_type": "code",
   "execution_count": 37,
   "id": "596185f2",
   "metadata": {},
   "outputs": [],
   "source": [
    "#define common stopwords\n",
    "stop = ['handmade','stoneware','pottery','ceramic','clay','handmade pottery','stoneware pottery','ceramics','handmade ceramics']"
   ]
  },
  {
   "cell_type": "code",
   "execution_count": 38,
   "id": "7866e0c2",
   "metadata": {},
   "outputs": [],
   "source": [
    "#remove stop words from tags\n",
    "for i in range (0, len(tags)):\n",
    "    for s in stop:\n",
    "        tags_list = tags[i]\n",
    "        if s in tags_list:\n",
    "            tags_list.remove(s)"
   ]
  },
  {
   "cell_type": "code",
   "execution_count": 39,
   "id": "17cae43e",
   "metadata": {},
   "outputs": [
    {
     "data": {
      "text/plain": [
       "0        [gift, plate, jewellery, dish, kitchen, jewele...\n",
       "1        [candle holder, blue, spice, salt, pot, gift, ...\n",
       "2        [rustic bowl, rustic pottery, rustic, ceramic ...\n",
       "3        [blue, spice, salt, pot, pinch pots, gift, tab...\n",
       "4        [ornament, soap, gift, dish, kitchen, jewelery...\n",
       "                               ...                        \n",
       "11995    [vintage, studio, brown, vase, glazed, baluste...\n",
       "11996    [danish stoneware, söholm, søholm, denmark, ho...\n",
       "11997    [handmade ceramic pot, stoneware pot, drip gla...\n",
       "11998    [stoneware mug, vintage mug, retro mug, brown ...\n",
       "11999    [ceramic vase, pottery vase, stoneware vase, w...\n",
       "Name: clean_tags, Length: 12000, dtype: object"
      ]
     },
     "execution_count": 39,
     "metadata": {},
     "output_type": "execute_result"
    }
   ],
   "source": [
    "#add clean tags to original df\n",
    "data['clean_tags'] = tags\n",
    "data['clean_tags']"
   ]
  },
  {
   "cell_type": "code",
   "execution_count": 40,
   "id": "99fd001a",
   "metadata": {},
   "outputs": [],
   "source": [
    "#get the value counts for each of the tags\n",
    "tagCounts = oneD(tags).value_counts()"
   ]
  },
  {
   "cell_type": "code",
   "execution_count": 41,
   "id": "c473fb96",
   "metadata": {},
   "outputs": [
    {
     "data": {
      "text/plain": [
       "tea mug               422\n",
       "housewarming gift     435\n",
       "kitchen               438\n",
       "tea cup               443\n",
       "vase                  446\n",
       "unique                529\n",
       "bowl                  542\n",
       "coffee cup            570\n",
       "blue                  582\n",
       "home decor            603\n",
       "wheel thrown          604\n",
       "coffee                620\n",
       "cup                   743\n",
       "pottery mug           768\n",
       "handmade mug          780\n",
       "gift                  839\n",
       "ceramic mug           868\n",
       "stoneware mug         923\n",
       "coffee mug            933\n",
       "mug                  1104\n",
       "dtype: int64"
      ]
     },
     "execution_count": 41,
     "metadata": {},
     "output_type": "execute_result"
    }
   ],
   "source": [
    "#look at top 20 tags\n",
    "top20 = tagCounts.head(20).sort_values(ascending=True)\n",
    "top20"
   ]
  },
  {
   "cell_type": "code",
   "execution_count": 42,
   "id": "67497319",
   "metadata": {},
   "outputs": [
    {
     "data": {
      "text/plain": [
       "Text(0.5, 1.0, 'Frequency of Top 20 Tags')"
      ]
     },
     "execution_count": 42,
     "metadata": {},
     "output_type": "execute_result"
    },
    {
     "data": {
      "image/png": "[encoded data removed]",
      "text/plain": [
       "<Figure size 1008x432 with 1 Axes>"
      ]
     },
     "metadata": {
      "needs_background": "light"
     },
     "output_type": "display_data"
    }
   ],
   "source": [
    "fig, ax = plt.subplots(figsize = (14,6))\n",
    "ax.barh(top20.index,top20.values)\n",
    "ax.set_ylabel(\"Tag\", size = 12)\n",
    "ax.set_xlabel(\"Frequency\", size = 12)\n",
    "ax.set_title(\"Frequency of Top 20 Tags\", size = 14)"
   ]
  },
  {
   "cell_type": "markdown",
   "id": "14b7507b",
   "metadata": {},
   "source": [
    "### Get top 20 tags for top-favorited and top number-sold listings"
   ]
  },
  {
   "cell_type": "code",
   "execution_count": 43,
   "id": "708272c1",
   "metadata": {},
   "outputs": [],
   "source": [
    "#dataframe with tags, num of favorites\n",
    "itemData = data[['listing_id','clean_tags','num_favorers_x']]"
   ]
  },
  {
   "cell_type": "code",
   "execution_count": 44,
   "id": "157a9aed",
   "metadata": {},
   "outputs": [
    {
     "data": {
      "text/html": [
       "<div>\n",
       "<style scoped>\n",
       "    .dataframe tbody tr th:only-of-type {\n",
       "        vertical-align: middle;\n",
       "    }\n",
       "\n",
       "    .dataframe tbody tr th {\n",
       "        vertical-align: top;\n",
       "    }\n",
       "\n",
       "    .dataframe thead th {\n",
       "        text-align: right;\n",
       "    }\n",
       "</style>\n",
       "<table border=\"1\" class=\"dataframe\">\n",
       "  <thead>\n",
       "    <tr style=\"text-align: right;\">\n",
       "      <th></th>\n",
       "      <th>listing_id</th>\n",
       "      <th>clean_tags</th>\n",
       "      <th>num_favorers_x</th>\n",
       "    </tr>\n",
       "  </thead>\n",
       "  <tbody>\n",
       "    <tr>\n",
       "      <th>4519</th>\n",
       "      <td>802264661</td>\n",
       "      <td>[hand made pottery, hand painted ceramic, simp...</td>\n",
       "      <td>34939</td>\n",
       "    </tr>\n",
       "    <tr>\n",
       "      <th>4516</th>\n",
       "      <td>680440014</td>\n",
       "      <td>[handmade plate set, gold kintsugi plate, pott...</td>\n",
       "      <td>15393</td>\n",
       "    </tr>\n",
       "    <tr>\n",
       "      <th>1083</th>\n",
       "      <td>792180615</td>\n",
       "      <td>[ceramic mug, handpainted mug, nature mug, flo...</td>\n",
       "      <td>12463</td>\n",
       "    </tr>\n",
       "    <tr>\n",
       "      <th>1425</th>\n",
       "      <td>900330801</td>\n",
       "      <td>[wheel thrown pottery, fine art ceramics, dini...</td>\n",
       "      <td>11609</td>\n",
       "    </tr>\n",
       "    <tr>\n",
       "      <th>6407</th>\n",
       "      <td>535025569</td>\n",
       "      <td>[coffee cup, parceline, tea cup, coffee mug, c...</td>\n",
       "      <td>9700</td>\n",
       "    </tr>\n",
       "    <tr>\n",
       "      <th>508</th>\n",
       "      <td>741218574</td>\n",
       "      <td>[handmade ceramic mug, handmade mug, ceramic m...</td>\n",
       "      <td>7936</td>\n",
       "    </tr>\n",
       "    <tr>\n",
       "      <th>705</th>\n",
       "      <td>151354984</td>\n",
       "      <td>[cup, teacup, roses, dots, pink, light blue, m...</td>\n",
       "      <td>7476</td>\n",
       "    </tr>\n",
       "    <tr>\n",
       "      <th>1368</th>\n",
       "      <td>677424431</td>\n",
       "      <td>[handmade coffee mug, birthday gift mug, coffe...</td>\n",
       "      <td>7441</td>\n",
       "    </tr>\n",
       "    <tr>\n",
       "      <th>8</th>\n",
       "      <td>889589581</td>\n",
       "      <td>[ceramic mug, ceramic cup, vintage cup, vintag...</td>\n",
       "      <td>7032</td>\n",
       "    </tr>\n",
       "    <tr>\n",
       "      <th>1870</th>\n",
       "      <td>621980272</td>\n",
       "      <td>[coffee, mug, rustic, cup, farmhouse, white, f...</td>\n",
       "      <td>6876</td>\n",
       "    </tr>\n",
       "    <tr>\n",
       "      <th>1769</th>\n",
       "      <td>682986141</td>\n",
       "      <td>[cup, mug, scandinavian, texture, shabby, blac...</td>\n",
       "      <td>6680</td>\n",
       "    </tr>\n",
       "    <tr>\n",
       "      <th>1140</th>\n",
       "      <td>213362548</td>\n",
       "      <td>[mug, tea mug, ceramics and pottery, ceramic m...</td>\n",
       "      <td>6372</td>\n",
       "    </tr>\n",
       "    <tr>\n",
       "      <th>1428</th>\n",
       "      <td>895865304</td>\n",
       "      <td>[gift for her, personalised mug, custom mug, c...</td>\n",
       "      <td>5856</td>\n",
       "    </tr>\n",
       "    <tr>\n",
       "      <th>2716</th>\n",
       "      <td>267799076</td>\n",
       "      <td>[green teapot, teapot pottery, stoneware teapo...</td>\n",
       "      <td>5712</td>\n",
       "    </tr>\n",
       "    <tr>\n",
       "      <th>1079</th>\n",
       "      <td>656184828</td>\n",
       "      <td>[incense holder, handmade incense, incense bur...</td>\n",
       "      <td>5469</td>\n",
       "    </tr>\n",
       "    <tr>\n",
       "      <th>6146</th>\n",
       "      <td>796138788</td>\n",
       "      <td>[ceramic mug, dinnerware, pottery mug, kitchen...</td>\n",
       "      <td>5359</td>\n",
       "    </tr>\n",
       "    <tr>\n",
       "      <th>1113</th>\n",
       "      <td>783742223</td>\n",
       "      <td>[dinnerware set, stoneware set, dinner set, ru...</td>\n",
       "      <td>5356</td>\n",
       "    </tr>\n",
       "    <tr>\n",
       "      <th>599</th>\n",
       "      <td>784387971</td>\n",
       "      <td>[handmade plate, white ceramic plate, white pl...</td>\n",
       "      <td>5181</td>\n",
       "    </tr>\n",
       "    <tr>\n",
       "      <th>1081</th>\n",
       "      <td>665351578</td>\n",
       "      <td>[blue stoneware, brown stoneware, green stonew...</td>\n",
       "      <td>5149</td>\n",
       "    </tr>\n",
       "    <tr>\n",
       "      <th>8302</th>\n",
       "      <td>112885220</td>\n",
       "      <td>[pottery mug, stoneware mug, coffee cup, perso...</td>\n",
       "      <td>4995</td>\n",
       "    </tr>\n",
       "  </tbody>\n",
       "</table>\n",
       "</div>"
      ],
      "text/plain": [
       "      listing_id                                         clean_tags  \\\n",
       "4519   802264661  [hand made pottery, hand painted ceramic, simp...   \n",
       "4516   680440014  [handmade plate set, gold kintsugi plate, pott...   \n",
       "1083   792180615  [ceramic mug, handpainted mug, nature mug, flo...   \n",
       "1425   900330801  [wheel thrown pottery, fine art ceramics, dini...   \n",
       "6407   535025569  [coffee cup, parceline, tea cup, coffee mug, c...   \n",
       "508    741218574  [handmade ceramic mug, handmade mug, ceramic m...   \n",
       "705    151354984  [cup, teacup, roses, dots, pink, light blue, m...   \n",
       "1368   677424431  [handmade coffee mug, birthday gift mug, coffe...   \n",
       "8      889589581  [ceramic mug, ceramic cup, vintage cup, vintag...   \n",
       "1870   621980272  [coffee, mug, rustic, cup, farmhouse, white, f...   \n",
       "1769   682986141  [cup, mug, scandinavian, texture, shabby, blac...   \n",
       "1140   213362548  [mug, tea mug, ceramics and pottery, ceramic m...   \n",
       "1428   895865304  [gift for her, personalised mug, custom mug, c...   \n",
       "2716   267799076  [green teapot, teapot pottery, stoneware teapo...   \n",
       "1079   656184828  [incense holder, handmade incense, incense bur...   \n",
       "6146   796138788  [ceramic mug, dinnerware, pottery mug, kitchen...   \n",
       "1113   783742223  [dinnerware set, stoneware set, dinner set, ru...   \n",
       "599    784387971  [handmade plate, white ceramic plate, white pl...   \n",
       "1081   665351578  [blue stoneware, brown stoneware, green stonew...   \n",
       "8302   112885220  [pottery mug, stoneware mug, coffee cup, perso...   \n",
       "\n",
       "      num_favorers_x  \n",
       "4519           34939  \n",
       "4516           15393  \n",
       "1083           12463  \n",
       "1425           11609  \n",
       "6407            9700  \n",
       "508             7936  \n",
       "705             7476  \n",
       "1368            7441  \n",
       "8               7032  \n",
       "1870            6876  \n",
       "1769            6680  \n",
       "1140            6372  \n",
       "1428            5856  \n",
       "2716            5712  \n",
       "1079            5469  \n",
       "6146            5359  \n",
       "1113            5356  \n",
       "599             5181  \n",
       "1081            5149  \n",
       "8302            4995  "
      ]
     },
     "execution_count": 44,
     "metadata": {},
     "output_type": "execute_result"
    }
   ],
   "source": [
    "#look at top 20 listings according to number of favorers\n",
    "itemData.sort_values(by = ['num_favorers_x'], ascending = False).head(20)"
   ]
  },
  {
   "cell_type": "code",
   "execution_count": 45,
   "id": "bf689c36",
   "metadata": {},
   "outputs": [],
   "source": [
    "#this is the 3,873 listings with at least 10 favorers\n",
    "TenOrMore = itemData[itemData['num_favorers_x']>=10]\n",
    "#TenOrMore.shape"
   ]
  },
  {
   "cell_type": "code",
   "execution_count": 46,
   "id": "f2010fb3",
   "metadata": {},
   "outputs": [],
   "source": [
    "#get the value counts for each of the tags in TenOrMore\n",
    "tagCountsFavs = oneD(TenOrMore[\"clean_tags\"]).value_counts()\n",
    "top20Favs = tagCountsFavs.head(20).sort_values(ascending=True)"
   ]
  },
  {
   "cell_type": "code",
   "execution_count": 47,
   "id": "74440cfc",
   "metadata": {},
   "outputs": [
    {
     "data": {
      "text/plain": [
       "Text(0.5, 1.0, 'Top 20 Tags for Listings With at Least 10 Favorites')"
      ]
     },
     "execution_count": 47,
     "metadata": {},
     "output_type": "execute_result"
    },
    {
     "data": {
      "image/png": "[encoded data removed]",
      "text/plain": [
       "<Figure size 1008x432 with 1 Axes>"
      ]
     },
     "metadata": {
      "needs_background": "light"
     },
     "output_type": "display_data"
    }
   ],
   "source": [
    "#create the bar chart\n",
    "fig, ax = plt.subplots(figsize = (14,6))\n",
    "ax.barh(top20Favs.index,top20Favs.values)\n",
    "ax.set_ylabel(\"Tag\", size = 12)\n",
    "ax.set_xlabel(\"Frequency\", size = 12)\n",
    "ax.set_title(\"Top 20 Tags for Listings With at Least 10 Favorites\", size = 14)"
   ]
  },
  {
   "cell_type": "markdown",
   "id": "81b830b0",
   "metadata": {},
   "source": [
    "### Get top 20 tags for top-rated shops"
   ]
  },
  {
   "cell_type": "code",
   "execution_count": 48,
   "id": "4f8bee80",
   "metadata": {},
   "outputs": [],
   "source": [
    "#dataframe with tags, shop review count, and review average\n",
    "shopData = data[['listing_id','clean_tags','num_favorers_x','review_average', 'review_count']]"
   ]
  },
  {
   "cell_type": "code",
   "execution_count": 49,
   "id": "c06b99b3",
   "metadata": {},
   "outputs": [
    {
     "data": {
      "text/html": [
       "<div>\n",
       "<style scoped>\n",
       "    .dataframe tbody tr th:only-of-type {\n",
       "        vertical-align: middle;\n",
       "    }\n",
       "\n",
       "    .dataframe tbody tr th {\n",
       "        vertical-align: top;\n",
       "    }\n",
       "\n",
       "    .dataframe thead th {\n",
       "        text-align: right;\n",
       "    }\n",
       "</style>\n",
       "<table border=\"1\" class=\"dataframe\">\n",
       "  <thead>\n",
       "    <tr style=\"text-align: right;\">\n",
       "      <th></th>\n",
       "      <th>listing_id</th>\n",
       "      <th>clean_tags</th>\n",
       "      <th>num_favorers_x</th>\n",
       "      <th>review_average</th>\n",
       "      <th>review_count</th>\n",
       "    </tr>\n",
       "  </thead>\n",
       "  <tbody>\n",
       "    <tr>\n",
       "      <th>5760</th>\n",
       "      <td>1170280890</td>\n",
       "      <td>[coffee mug, handmade ceramic, black stoneware...</td>\n",
       "      <td>0</td>\n",
       "      <td>5.0</td>\n",
       "      <td>7.0</td>\n",
       "    </tr>\n",
       "    <tr>\n",
       "      <th>7260</th>\n",
       "      <td>960455221</td>\n",
       "      <td>[unique mug, tea cup, green mug, coffee mug, c...</td>\n",
       "      <td>1</td>\n",
       "      <td>5.0</td>\n",
       "      <td>3.0</td>\n",
       "    </tr>\n",
       "    <tr>\n",
       "      <th>7246</th>\n",
       "      <td>1028694923</td>\n",
       "      <td>[wood-fired, wood-fired mug, pottery mug, cera...</td>\n",
       "      <td>0</td>\n",
       "      <td>5.0</td>\n",
       "      <td>13.0</td>\n",
       "    </tr>\n",
       "    <tr>\n",
       "      <th>7247</th>\n",
       "      <td>1014733518</td>\n",
       "      <td>[wood-fired, wood-fired mug, pottery mug, cera...</td>\n",
       "      <td>1</td>\n",
       "      <td>5.0</td>\n",
       "      <td>13.0</td>\n",
       "    </tr>\n",
       "    <tr>\n",
       "      <th>7248</th>\n",
       "      <td>1028377115</td>\n",
       "      <td>[wheel-thrown, wood-fired, wood-fired pottery,...</td>\n",
       "      <td>0</td>\n",
       "      <td>5.0</td>\n",
       "      <td>13.0</td>\n",
       "    </tr>\n",
       "    <tr>\n",
       "      <th>3253</th>\n",
       "      <td>890022473</td>\n",
       "      <td>[mugs, coffee mugs, wheel-thrown, gift idea, t...</td>\n",
       "      <td>0</td>\n",
       "      <td>5.0</td>\n",
       "      <td>8.0</td>\n",
       "    </tr>\n",
       "    <tr>\n",
       "      <th>3252</th>\n",
       "      <td>1030992542</td>\n",
       "      <td>[unique, dark blue, woven bowl, lattice work, ...</td>\n",
       "      <td>5</td>\n",
       "      <td>5.0</td>\n",
       "      <td>14.0</td>\n",
       "    </tr>\n",
       "    <tr>\n",
       "      <th>7249</th>\n",
       "      <td>1014649508</td>\n",
       "      <td>[wheel-thrown, wood-fired, wood-fired pottery,...</td>\n",
       "      <td>1</td>\n",
       "      <td>5.0</td>\n",
       "      <td>13.0</td>\n",
       "    </tr>\n",
       "    <tr>\n",
       "      <th>7250</th>\n",
       "      <td>1014730216</td>\n",
       "      <td>[wood-fired, wood-fired mug, pottery mug, cera...</td>\n",
       "      <td>0</td>\n",
       "      <td>5.0</td>\n",
       "      <td>13.0</td>\n",
       "    </tr>\n",
       "    <tr>\n",
       "      <th>7251</th>\n",
       "      <td>1028616973</td>\n",
       "      <td>[wheel-thrown, wood-fired, wood-fired pottery,...</td>\n",
       "      <td>1</td>\n",
       "      <td>5.0</td>\n",
       "      <td>13.0</td>\n",
       "    </tr>\n",
       "    <tr>\n",
       "      <th>7252</th>\n",
       "      <td>1014655136</td>\n",
       "      <td>[wheel-thrown, wood-fired, wood-fired pottery,...</td>\n",
       "      <td>1</td>\n",
       "      <td>5.0</td>\n",
       "      <td>13.0</td>\n",
       "    </tr>\n",
       "    <tr>\n",
       "      <th>7253</th>\n",
       "      <td>1028621713</td>\n",
       "      <td>[wheel-thrown, wood-fired, wood-fired pottery,...</td>\n",
       "      <td>0</td>\n",
       "      <td>5.0</td>\n",
       "      <td>13.0</td>\n",
       "    </tr>\n",
       "    <tr>\n",
       "      <th>7254</th>\n",
       "      <td>1028699559</td>\n",
       "      <td>[wood-fired, wood-fired mug, pottery mug, cera...</td>\n",
       "      <td>3</td>\n",
       "      <td>5.0</td>\n",
       "      <td>13.0</td>\n",
       "    </tr>\n",
       "    <tr>\n",
       "      <th>7255</th>\n",
       "      <td>1028620715</td>\n",
       "      <td>[wheel-thrown, wood-fired, wood-fired pottery,...</td>\n",
       "      <td>1</td>\n",
       "      <td>5.0</td>\n",
       "      <td>13.0</td>\n",
       "    </tr>\n",
       "    <tr>\n",
       "      <th>7256</th>\n",
       "      <td>1028689297</td>\n",
       "      <td>[wood-fired, wood-fired mug, pottery mug, cera...</td>\n",
       "      <td>0</td>\n",
       "      <td>5.0</td>\n",
       "      <td>13.0</td>\n",
       "    </tr>\n",
       "    <tr>\n",
       "      <th>7257</th>\n",
       "      <td>1028692933</td>\n",
       "      <td>[wood-fired, wood-fired mug, pottery mug, cera...</td>\n",
       "      <td>0</td>\n",
       "      <td>5.0</td>\n",
       "      <td>13.0</td>\n",
       "    </tr>\n",
       "    <tr>\n",
       "      <th>7258</th>\n",
       "      <td>1028694211</td>\n",
       "      <td>[wood-fired, wood-fired mug, pottery mug, cera...</td>\n",
       "      <td>1</td>\n",
       "      <td>5.0</td>\n",
       "      <td>13.0</td>\n",
       "    </tr>\n",
       "    <tr>\n",
       "      <th>7245</th>\n",
       "      <td>1028377897</td>\n",
       "      <td>[wheel-thrown, wood-fired, wood-fired pottery,...</td>\n",
       "      <td>0</td>\n",
       "      <td>5.0</td>\n",
       "      <td>13.0</td>\n",
       "    </tr>\n",
       "    <tr>\n",
       "      <th>3258</th>\n",
       "      <td>871764796</td>\n",
       "      <td>[soup plate, food safe, hand thrown pottery, c...</td>\n",
       "      <td>51</td>\n",
       "      <td>5.0</td>\n",
       "      <td>62.0</td>\n",
       "    </tr>\n",
       "    <tr>\n",
       "      <th>3259</th>\n",
       "      <td>595443973</td>\n",
       "      <td>[tea mug, hand thrown, brown, grey, gray, coff...</td>\n",
       "      <td>149</td>\n",
       "      <td>5.0</td>\n",
       "      <td>62.0</td>\n",
       "    </tr>\n",
       "  </tbody>\n",
       "</table>\n",
       "</div>"
      ],
      "text/plain": [
       "      listing_id                                         clean_tags  \\\n",
       "5760  1170280890  [coffee mug, handmade ceramic, black stoneware...   \n",
       "7260   960455221  [unique mug, tea cup, green mug, coffee mug, c...   \n",
       "7246  1028694923  [wood-fired, wood-fired mug, pottery mug, cera...   \n",
       "7247  1014733518  [wood-fired, wood-fired mug, pottery mug, cera...   \n",
       "7248  1028377115  [wheel-thrown, wood-fired, wood-fired pottery,...   \n",
       "3253   890022473  [mugs, coffee mugs, wheel-thrown, gift idea, t...   \n",
       "3252  1030992542  [unique, dark blue, woven bowl, lattice work, ...   \n",
       "7249  1014649508  [wheel-thrown, wood-fired, wood-fired pottery,...   \n",
       "7250  1014730216  [wood-fired, wood-fired mug, pottery mug, cera...   \n",
       "7251  1028616973  [wheel-thrown, wood-fired, wood-fired pottery,...   \n",
       "7252  1014655136  [wheel-thrown, wood-fired, wood-fired pottery,...   \n",
       "7253  1028621713  [wheel-thrown, wood-fired, wood-fired pottery,...   \n",
       "7254  1028699559  [wood-fired, wood-fired mug, pottery mug, cera...   \n",
       "7255  1028620715  [wheel-thrown, wood-fired, wood-fired pottery,...   \n",
       "7256  1028689297  [wood-fired, wood-fired mug, pottery mug, cera...   \n",
       "7257  1028692933  [wood-fired, wood-fired mug, pottery mug, cera...   \n",
       "7258  1028694211  [wood-fired, wood-fired mug, pottery mug, cera...   \n",
       "7245  1028377897  [wheel-thrown, wood-fired, wood-fired pottery,...   \n",
       "3258   871764796  [soup plate, food safe, hand thrown pottery, c...   \n",
       "3259   595443973  [tea mug, hand thrown, brown, grey, gray, coff...   \n",
       "\n",
       "      num_favorers_x  review_average  review_count  \n",
       "5760               0             5.0           7.0  \n",
       "7260               1             5.0           3.0  \n",
       "7246               0             5.0          13.0  \n",
       "7247               1             5.0          13.0  \n",
       "7248               0             5.0          13.0  \n",
       "3253               0             5.0           8.0  \n",
       "3252               5             5.0          14.0  \n",
       "7249               1             5.0          13.0  \n",
       "7250               0             5.0          13.0  \n",
       "7251               1             5.0          13.0  \n",
       "7252               1             5.0          13.0  \n",
       "7253               0             5.0          13.0  \n",
       "7254               3             5.0          13.0  \n",
       "7255               1             5.0          13.0  \n",
       "7256               0             5.0          13.0  \n",
       "7257               0             5.0          13.0  \n",
       "7258               1             5.0          13.0  \n",
       "7245               0             5.0          13.0  \n",
       "3258              51             5.0          62.0  \n",
       "3259             149             5.0          62.0  "
      ]
     },
     "execution_count": 49,
     "metadata": {},
     "output_type": "execute_result"
    }
   ],
   "source": [
    "shopData.sort_values(by = ['review_average'], ascending = False).head(20)"
   ]
  },
  {
   "cell_type": "code",
   "execution_count": 50,
   "id": "81e32f74",
   "metadata": {},
   "outputs": [],
   "source": [
    "#this is the 9036 listings from shops with at least 10 reviews\n",
    "TenReviews =  shopData[shopData['review_count']>=10]\n",
    "#TenReviews"
   ]
  },
  {
   "cell_type": "code",
   "execution_count": 51,
   "id": "d5467be1",
   "metadata": {},
   "outputs": [],
   "source": [
    "#get the value counts for each of the tags in TenReviews\n",
    "tagCountsShops = oneD(TenReviews[\"clean_tags\"]).value_counts()\n",
    "top20Shops = tagCountsShops.head(20).sort_values(ascending=True)"
   ]
  },
  {
   "cell_type": "code",
   "execution_count": 52,
   "id": "8d5a3bb1",
   "metadata": {},
   "outputs": [
    {
     "data": {
      "text/plain": [
       "Text(0.5, 1.0, 'Top 20 Tags for Listings from Shops with at Least 10 Reviews')"
      ]
     },
     "execution_count": 52,
     "metadata": {},
     "output_type": "execute_result"
    },
    {
     "data": {
      "image/png": "[encoded data removed]",
      "text/plain": [
       "<Figure size 1008x432 with 1 Axes>"
      ]
     },
     "metadata": {
      "needs_background": "light"
     },
     "output_type": "display_data"
    }
   ],
   "source": [
    "#create the bar chart\n",
    "fig, ax = plt.subplots(figsize = (14,6))\n",
    "ax.barh(top20Shops.index,top20Shops.values)\n",
    "ax.set_ylabel(\"Tag\", size = 12)\n",
    "ax.set_xlabel(\"Frequency\", size = 12)\n",
    "ax.set_title(\"Top 20 Tags for Listings from Shops with at Least 10 Reviews\", size = 14)"
   ]
  },
  {
   "cell_type": "markdown",
   "id": "455156f7",
   "metadata": {},
   "source": [
    "### TO DO LIST\n",
    "\n",
    "#### Business Questions\n",
    "\n",
    "Characteristics of a successful shop?  (High Ratings and high number of reviews)\n",
    "\n",
    "Emerging trends/New Market Opportunites - compare to more recent set of listings\n",
    "\n",
    "Identify highest selling product categories\n",
    "\n",
    "Identify: Top companies, top products\n",
    "\n",
    "Pricing - average pricing for items?\n",
    "\n",
    "Model - Predict products based on text?  Hierarchical clustering?  TSNE w/dbscan\n",
    "\n",
    "If you can get product clusters - overlay pricing?\n",
    "\n",
    "\n",
    "\n",
    "\n",
    "#### TRy Kmeans with descriptions?   How many clusters? "
   ]
  },
  {
   "cell_type": "code",
   "execution_count": null,
   "id": "45276c82",
   "metadata": {},
   "outputs": [],
   "source": []
  }
 ],
 "metadata": {
  "kernelspec": {
   "display_name": "Python 3",
   "language": "python",
   "name": "python3"
  },
  "language_info": {
   "codemirror_mode": {
    "name": "ipython",
    "version": 3
   },
   "file_extension": ".py",
   "mimetype": "text/x-python",
   "name": "python",
   "nbconvert_exporter": "python",
   "pygments_lexer": "ipython3",
   "version": "3.8.8"
  }
 },
 "nbformat": 4,
 "nbformat_minor": 5
}
