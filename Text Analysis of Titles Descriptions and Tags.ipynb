{
 "cells": [
  {
   "cell_type": "markdown",
   "id": "ff64b22b",
   "metadata": {},
   "source": [
    "# Text Analysis of Titles Descriptions and Tags"
   ]
  },
  {
   "cell_type": "code",
   "execution_count": 1,
   "id": "d61d915d",
   "metadata": {},
   "outputs": [],
   "source": [
    "import pandas as pd\n",
    "import numpy as np\n",
    "import re\n",
    "import datetime  \n",
    "import matplotlib.pyplot as plt\n",
    "import seaborn as sns\n",
    "\n",
    "#natural language toolkit for list of stop words\n",
    "import nltk \n",
    "#nltk.download('stopwords')\n",
    "from nltk.corpus import stopwords"
   ]
  },
  {
   "cell_type": "code",
   "execution_count": 2,
   "id": "53ac7769",
   "metadata": {},
   "outputs": [],
   "source": [
    "# combine all three datasets together for text analysis\n",
    "# import the datasets\n",
    "df = pd.read_csv('data/mergedData022522clean.csv')\n",
    "df2 = pd.read_csv('data/mergedData033122clean.csv')\n",
    "df3 = pd.read_csv('data/mergedData041022clean.csv')"
   ]
  },
  {
   "cell_type": "code",
   "execution_count": 87,
   "id": "b54b7e4f",
   "metadata": {},
   "outputs": [],
   "source": [
    "# append the first dataframe with the other two sets of data\n",
    "data = df.append([df2, df3])"
   ]
  },
  {
   "cell_type": "code",
   "execution_count": 88,
   "id": "67dc088a",
   "metadata": {},
   "outputs": [],
   "source": [
    "# remove duplicate listings, keep the most recent\n",
    "data = data[data.duplicated(subset='listing_id', keep='first')==False]"
   ]
  },
  {
   "cell_type": "code",
   "execution_count": 89,
   "id": "5471942f",
   "metadata": {},
   "outputs": [],
   "source": [
    "# reset the index\n",
    "data = data.reset_index(drop=True)"
   ]
  },
  {
   "cell_type": "markdown",
   "id": "f6456f16",
   "metadata": {},
   "source": [
    "## Titles and Descriptions"
   ]
  },
  {
   "cell_type": "code",
   "execution_count": 72,
   "id": "e155a998",
   "metadata": {},
   "outputs": [],
   "source": [
    "#make all title and descriptions lowercase\n",
    "title = data['title_listing'].str.lower()\n",
    "desc = data['description'].str.lower()"
   ]
  },
  {
   "cell_type": "markdown",
   "id": "697cb742",
   "metadata": {},
   "source": [
    "### Listings that contain specific products of interest"
   ]
  },
  {
   "cell_type": "code",
   "execution_count": 55,
   "id": "ca9b27fc",
   "metadata": {},
   "outputs": [],
   "source": [
    "# function that returns percentage of listings that contain a specific word\n",
    "\n",
    "def percentage_item(text, word):\n",
    "    true = text[text.str.contains(' ' + word + ' ')==True]\n",
    "    percent = len(true)/len(text)\n",
    "    return percent"
   ]
  },
  {
   "cell_type": "code",
   "execution_count": 22,
   "id": "aea935b7",
   "metadata": {},
   "outputs": [
    {
     "name": "stdout",
     "output_type": "stream",
     "text": [
      "The word 'mug' is in 11.44% of titles and 19.69% of descriptions.\n",
      "The word 'plate' is in 2.87% of titles and 5.72% of descriptions.\n",
      "The word 'bowl' is in 8.06% of titles and 13.56% of descriptions.\n",
      "The word 'jar' is in 1.51% of titles and 1.77% of descriptions.\n",
      "The word 'planter' is in 1.47% of titles and 1.87% of descriptions.\n",
      "The word 'berry bowl' is in 0.10% of titles and 0.14% of descriptions.\n",
      "The word 'butter dish' is in 0.20% of titles and 0.21% of descriptions.\n",
      "The word 'cup' is in 6.18% of titles and 10.43% of descriptions.\n",
      "The word 'tumbler' is in 0.96% of titles and 1.53% of descriptions.\n",
      "The word 'bacon cooker' is in 0.00% of titles and 0.02% of descriptions.\n",
      "The word 'spoon rest' is in 0.51% of titles and 1.13% of descriptions.\n"
     ]
    }
   ],
   "source": [
    "# percentage of listings that contain a specific product in their title and description\n",
    "\n",
    "# I chose these items because I was interested in them\n",
    "items = ['mug', 'plate', 'bowl', 'jar', 'planter', 'berry bowl', 'butter dish', 'cup', 'tumbler', 'bacon cooker', 'spoon rest']\n",
    "\n",
    "for i in items:\n",
    "    print(\"The word '\" + i + \"' is in \" + \"{:.2%}\".format(percentage_item(title, i)) + \" of titles and \" + \"{:.2%}\".format(percentage_item(desc, i)) + \" of descriptions.\")\n"
   ]
  },
  {
   "cell_type": "markdown",
   "id": "1eaff512",
   "metadata": {},
   "source": [
    "### Remove punctuation, special characters and stop words from the titles and descriptons"
   ]
  },
  {
   "cell_type": "code",
   "execution_count": 73,
   "id": "796a233d",
   "metadata": {},
   "outputs": [],
   "source": [
    "# function that removes \"\\n\", links, as well as special characters and numbers from text\n",
    "def clean_text(text):\n",
    "    for i in range (0, len(text)-1):\n",
    "        n = '\\n'\n",
    "        string = text[i]\n",
    "        if n in string:\n",
    "            string = string.replace(n, \" \")\n",
    "            text[i] = string\n",
    "        text[i] = re.sub(\"[^A-za-z]+\",\" \", text[i])\n",
    "        text[i] = re.sub(r\"http\\S+\",\"\",text[i])\n",
    "        text[i] = re.sub(r\"www\\S+\",\"\",text[i])"
   ]
  },
  {
   "cell_type": "code",
   "execution_count": 77,
   "id": "e970c30e",
   "metadata": {},
   "outputs": [],
   "source": [
    "# Clean descriptions and titles\n",
    "clean_text(desc)\n",
    "clean_text(title)"
   ]
  },
  {
   "cell_type": "code",
   "execution_count": 78,
   "id": "6aaafbad",
   "metadata": {},
   "outputs": [],
   "source": [
    "#split the title strings on the spaces\n",
    "title = title.str.split(\" \")\n",
    "desc = desc.str.split(\" \")"
   ]
  },
  {
   "cell_type": "code",
   "execution_count": 79,
   "id": "e80c5aef",
   "metadata": {},
   "outputs": [],
   "source": [
    "## define the stopwords\n",
    "stop = stopwords.words('english')"
   ]
  },
  {
   "cell_type": "code",
   "execution_count": 80,
   "id": "2c5b8a1e",
   "metadata": {},
   "outputs": [],
   "source": [
    "# add pottery-related keywords, and other irrelevant words to stopwords\n",
    "stop.extend(['handmade','stoneware','pottery','ceramic','clay','x', '|','cm', 'oz', 'ml', ' ', '', 'www', 'com',\n",
    "'shipping','item','items','hand','made','piece','pieces','make','please','one','use','may','inches','also',\n",
    "'high','etsy', 'quot', 'wheel', 'thrown', 'wheelthrown', 'glaze', 'glazed','unique'])"
   ]
  },
  {
   "cell_type": "code",
   "execution_count": 81,
   "id": "e14c1b98",
   "metadata": {},
   "outputs": [],
   "source": [
    "# Define a function that removes the stopwords\n",
    "\"\"\" \n",
    "Args:\n",
    "txt (series): the text as a series of lists\n",
    "wrds (list): the stopwords to be removed from the list\n",
    "\"\"\"\n",
    "def remove_stopwords(txt, wrds):\n",
    "    for i in range (0, len(txt)):\n",
    "        for s in wrds:\n",
    "            lst = txt[i]\n",
    "            lst = [w for w in lst if w != s]\n",
    "            txt[i] = lst"
   ]
  },
  {
   "cell_type": "code",
   "execution_count": 82,
   "id": "998f5a58",
   "metadata": {},
   "outputs": [],
   "source": [
    "remove_stopwords(desc, stop)\n",
    "remove_stopwords(title, stop)"
   ]
  },
  {
   "cell_type": "markdown",
   "id": "4fae8d86",
   "metadata": {},
   "source": [
    "### Save the cleaned descriptions and titles to csv to use for clustering algorithm"
   ]
  },
  {
   "cell_type": "code",
   "execution_count": 84,
   "id": "d6ee2f31",
   "metadata": {},
   "outputs": [],
   "source": [
    "#title.to_csv('data/titles-combined-cleaned.csv')\n",
    "#desc.to_csv('data/descriptions-combined-cleanedA.csv')"
   ]
  },
  {
   "cell_type": "markdown",
   "id": "f025c8e2",
   "metadata": {},
   "source": [
    "### Word Counts"
   ]
  },
  {
   "cell_type": "code",
   "execution_count": null,
   "id": "eb32df58",
   "metadata": {},
   "outputs": [],
   "source": [
    "#define a function that reduces a column to a 1-dimensional series (to get word counts)\n",
    "def oneD(column):\n",
    " return pd.Series([x for list in column for x in list])"
   ]
  },
  {
   "cell_type": "code",
   "execution_count": null,
   "id": "29db5cbf",
   "metadata": {},
   "outputs": [],
   "source": [
    "#get the value counts for each of the words in the description\n",
    "descWordCounts = oneD(desc).value_counts()"
   ]
  },
  {
   "cell_type": "code",
   "execution_count": null,
   "id": "5b65fd35",
   "metadata": {},
   "outputs": [],
   "source": [
    "# Get the top words in the descriptions\n",
    "top25desc = descWordCounts.head(25).sort_values(ascending=False)"
   ]
  },
  {
   "cell_type": "code",
   "execution_count": null,
   "id": "66ed48a7",
   "metadata": {},
   "outputs": [],
   "source": [
    "# Get the value counts for each of the words in the titles\n",
    "titleWordCounts = oneD(title).value_counts()"
   ]
  },
  {
   "cell_type": "code",
   "execution_count": null,
   "id": "84e0b877",
   "metadata": {},
   "outputs": [],
   "source": [
    "# Get the top 25 words in the titles\n",
    "top25title = titleWordCounts.head(25).sort_values(ascending=False)"
   ]
  },
  {
   "cell_type": "code",
   "execution_count": null,
   "id": "408a4ca7",
   "metadata": {},
   "outputs": [],
   "source": [
    "# plot top tags in different subsets of the data\n",
    "fig, axes = plt.subplots(1,2, figsize = (14, 8))\n",
    "fig.suptitle('Top Words')\n",
    "\n",
    "# plot the top words in the descriptions\n",
    "sns.barplot(ax=axes[0], x=top25desc.values, y=top25desc.index, palette='light:#639c6f_r').set(title='Top 25 Words in the Descriptions')\n",
    "\n",
    "# plot the top wordsin the titles\n",
    "sns.barplot(ax=axes[1],x=top25title.values, y=top25title.index, palette='light:#6255aa_r').set(title='Top 25 Words in the Titles')"
   ]
  },
  {
   "cell_type": "markdown",
   "id": "10a06c68",
   "metadata": {},
   "source": [
    "## Tags"
   ]
  },
  {
   "cell_type": "code",
   "execution_count": null,
   "id": "ed6df5c3",
   "metadata": {},
   "outputs": [],
   "source": [
    "#make all tags lowercase\n",
    "data['tags'] = data['tags'].str.lower()"
   ]
  },
  {
   "cell_type": "code",
   "execution_count": null,
   "id": "ecbbf483",
   "metadata": {},
   "outputs": [],
   "source": [
    "#transform tags column from strings to lists\n",
    "data['tags'] = data['tags'].apply(eval)"
   ]
  },
  {
   "cell_type": "code",
   "execution_count": null,
   "id": "a3c6ad60",
   "metadata": {},
   "outputs": [],
   "source": [
    "#get just the tags\n",
    "tags = data['tags']"
   ]
  },
  {
   "cell_type": "markdown",
   "id": "04b49ca0",
   "metadata": {},
   "source": [
    "### Remove pottery-related stopwords from the tags"
   ]
  },
  {
   "cell_type": "code",
   "execution_count": null,
   "id": "596185f2",
   "metadata": {},
   "outputs": [],
   "source": [
    "#define common stopwords\n",
    "stopTags = ['handmade','stoneware','pottery','ceramic','clay','handmade pottery',\n",
    "            'stoneware pottery','ceramics','handmade ceramics','gift','wheel thrown','one of a kind']"
   ]
  },
  {
   "cell_type": "code",
   "execution_count": null,
   "id": "7866e0c2",
   "metadata": {},
   "outputs": [],
   "source": [
    "#remove stop words from tags\n",
    "for i in range (0, len(tags)):\n",
    "    for s in stopTags:\n",
    "        tags_list = tags[i]\n",
    "        if s in tags_list:\n",
    "            tags_list.remove(s)"
   ]
  },
  {
   "cell_type": "code",
   "execution_count": null,
   "id": "17cae43e",
   "metadata": {},
   "outputs": [],
   "source": [
    "#add clean tags to original df\n",
    "data['clean_tags'] = tags"
   ]
  },
  {
   "cell_type": "code",
   "execution_count": null,
   "id": "6969fa5d",
   "metadata": {},
   "outputs": [],
   "source": [
    "# save dataframe with clean tags \n",
    "#data.to_csv('data/tags-cleaned041022.csv')"
   ]
  },
  {
   "cell_type": "code",
   "execution_count": null,
   "id": "99fd001a",
   "metadata": {},
   "outputs": [],
   "source": [
    "#get the value counts for each of the tags\n",
    "tagCounts = oneD(tags).value_counts()"
   ]
  },
  {
   "cell_type": "code",
   "execution_count": null,
   "id": "c473fb96",
   "metadata": {},
   "outputs": [],
   "source": [
    "# Sort the top tags overall\n",
    "top25 = tagCounts.head(25).sort_values(ascending=False)"
   ]
  },
  {
   "cell_type": "code",
   "execution_count": null,
   "id": "3cf1d3a3",
   "metadata": {},
   "outputs": [],
   "source": [
    "# the word \"spoon\" is appearing in the top words in the titles so I wanted to see what the related tags are:\n",
    "tagCounts[tagCounts.index.str.contains(pat = 'spoon')]"
   ]
  },
  {
   "cell_type": "markdown",
   "id": "dd4bd4df",
   "metadata": {},
   "source": [
    "#### I repeated the above for all the top words in the titles that were products so I could see if they were normally used in a phrase like \"spoon rest\" rather than individually and used this later on in the \"Business Information\" notebook"
   ]
  },
  {
   "cell_type": "markdown",
   "id": "14b7507b",
   "metadata": {},
   "source": [
    "### Get top 20 tags for top-favorited and top rated shops"
   ]
  },
  {
   "cell_type": "code",
   "execution_count": null,
   "id": "708272c1",
   "metadata": {},
   "outputs": [],
   "source": [
    "#dataframe with tags, num of favorites\n",
    "itemData = data[['listing_id','clean_tags','num_favorers_listing']]"
   ]
  },
  {
   "cell_type": "code",
   "execution_count": null,
   "id": "157a9aed",
   "metadata": {},
   "outputs": [],
   "source": [
    "#look at top 10 listings according to number of favorers\n",
    "itemData.sort_values(by = ['num_favorers_listing'], ascending = False).head(10)"
   ]
  },
  {
   "cell_type": "code",
   "execution_count": null,
   "id": "bf689c36",
   "metadata": {},
   "outputs": [],
   "source": [
    "#this is the 3,873 listings with at least 10 favorers\n",
    "TenOrMore = itemData[itemData['num_favorers_listing']>=10]"
   ]
  },
  {
   "cell_type": "code",
   "execution_count": null,
   "id": "f2010fb3",
   "metadata": {},
   "outputs": [],
   "source": [
    "#get the value counts for each of the tags in TenOrMore\n",
    "tagCountsFavs = oneD(TenOrMore[\"clean_tags\"]).value_counts()"
   ]
  },
  {
   "cell_type": "code",
   "execution_count": null,
   "id": "2b93beff",
   "metadata": {},
   "outputs": [],
   "source": [
    "# Sort the top 25 tags from the listings with ten or more favorers\n",
    "top25Favs = tagCountsFavs.head(25).sort_values(ascending=False)"
   ]
  },
  {
   "cell_type": "markdown",
   "id": "81b830b0",
   "metadata": {},
   "source": [
    "### Get top 25 tags for shops with at least 10 review and review averages greater than 4.9"
   ]
  },
  {
   "cell_type": "code",
   "execution_count": null,
   "id": "4f8bee80",
   "metadata": {},
   "outputs": [],
   "source": [
    "# dataframe with tags, shop review count, and review average\n",
    "shopData = data[['listing_id','clean_tags','num_favorers_listing','review_average', 'review_count']]"
   ]
  },
  {
   "cell_type": "code",
   "execution_count": null,
   "id": "e5c18612",
   "metadata": {},
   "outputs": [],
   "source": [
    "# get the shops that have at least 10 reviews\n",
    "shops10reviews = shopData[shopData['review_count']>=10]"
   ]
  },
  {
   "cell_type": "code",
   "execution_count": null,
   "id": "81e32f74",
   "metadata": {},
   "outputs": [],
   "source": [
    "#this is the 9036 listings from shops with at least 10 reviews\n",
    "TenReviews =  shopData[shopData['review_count']>=10]"
   ]
  },
  {
   "cell_type": "code",
   "execution_count": null,
   "id": "b862be47",
   "metadata": {},
   "outputs": [],
   "source": [
    "# this is the 8106 listings from shops with at least 10 reviews AND a 4.8 star rating or higher\n",
    "topShops =  TenReviews[TenReviews['review_average']>=4.9]"
   ]
  },
  {
   "cell_type": "code",
   "execution_count": null,
   "id": "d5467be1",
   "metadata": {},
   "outputs": [],
   "source": [
    "#get the value counts for each of the tags in the topShops listings\n",
    "tagCountsTopShops = oneD(topShops[\"clean_tags\"]).value_counts()\n",
    "\n",
    "# Sort the top 25 tags from the listings with ten or more favorers\n",
    "top25TopShops = tagCountsTopShops.head(25).sort_values(ascending=False)"
   ]
  },
  {
   "cell_type": "code",
   "execution_count": null,
   "id": "7963b7cc",
   "metadata": {},
   "outputs": [],
   "source": [
    "# plot top tags in different subsets of the data\n",
    "fig, axes = plt.subplots(3, 1, figsize = (12, 18))\n",
    "fig.suptitle('Top Tags')\n",
    "\n",
    "# plot all the top tags overall\n",
    "sns.barplot(ax=axes[0], x=top25.values, y=top25.index, palette='light:#4079bf_r')\n",
    "axes[0].set_title('Top 25 Tags All Listings')\n",
    "\n",
    "# plot the top tags for listings with 10 or more favorers\n",
    "sns.barplot(ax=axes[1], x=top25Favs.values, y=top25Favs.index, palette='light:#b96cf0_r')\n",
    "axes[1].set_title('Top 25 Tags for Listings w/10 or more Favorers')\n",
    "\n",
    "# plot the top tags for listings from shops with at least 10 reviews and a 4.9 star rating or higher\n",
    "sns.barplot(ax=axes[2], x=top25TopShops.values, y=top25TopShops.index, palette='light:#90aa55_r')\n",
    "axes[2].set_title('Top 25 Tags for Listings from Shops w/4.9 or Higher Rating and At Least 10 Reviews')"
   ]
  }
 ],
 "metadata": {
  "kernelspec": {
   "display_name": "Python 3",
   "language": "python",
   "name": "python3"
  },
  "language_info": {
   "codemirror_mode": {
    "name": "ipython",
    "version": 3
   },
   "file_extension": ".py",
   "mimetype": "text/x-python",
   "name": "python",
   "nbconvert_exporter": "python",
   "pygments_lexer": "ipython3",
   "version": "3.8.8"
  }
 },
 "nbformat": 4,
 "nbformat_minor": 5
}
