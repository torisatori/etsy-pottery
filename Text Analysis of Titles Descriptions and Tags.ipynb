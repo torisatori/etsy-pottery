{
 "cells": [
  {
   "cell_type": "markdown",
   "id": "ff64b22b",
   "metadata": {},
   "source": [
    "# Text Analysis of Titles Descriptions and Tags"
   ]
  },
  {
   "cell_type": "code",
   "execution_count": 18,
   "id": "d61d915d",
   "metadata": {},
   "outputs": [],
   "source": [
    "import pandas as pd\n",
    "import numpy as np\n",
    "import re\n",
    "import datetime  \n",
    "import matplotlib.pyplot as plt\n",
    "import seaborn as sns\n",
    "\n",
    "#natural language toolkit for list of stop words\n",
    "import nltk \n",
    "#nltk.download('stopwords')\n",
    "from nltk.corpus import stopwords"
   ]
  },
  {
   "cell_type": "code",
   "execution_count": 19,
   "id": "74217d1f",
   "metadata": {},
   "outputs": [],
   "source": [
    "data = pd.read_csv('data/mergedData041022clean.csv')"
   ]
  },
  {
   "cell_type": "markdown",
   "id": "f6456f16",
   "metadata": {},
   "source": [
    "## Titles and Descriptions"
   ]
  },
  {
   "cell_type": "code",
   "execution_count": 20,
   "id": "e155a998",
   "metadata": {},
   "outputs": [],
   "source": [
    "#make all title and descriptions lowercase\n",
    "title = data['title_listing'].str.lower()\n",
    "desc = data['description'].str.lower()"
   ]
  },
  {
   "cell_type": "markdown",
   "id": "697cb742",
   "metadata": {},
   "source": [
    "### Listings that contain specific products of interest"
   ]
  },
  {
   "cell_type": "code",
   "execution_count": 25,
   "id": "ca9b27fc",
   "metadata": {},
   "outputs": [],
   "source": [
    "# function that returns percentage of listings that contain a specific word\n",
    "\n",
    "def percentage_item(text, word):\n",
    "    true = text[text.str.contains(' ' + word + ' ')==True]\n",
    "    percent = len(true)/len(text)\n",
    "    return percent"
   ]
  },
  {
   "cell_type": "code",
   "execution_count": 26,
   "id": "aea935b7",
   "metadata": {},
   "outputs": [
    {
     "name": "stdout",
     "output_type": "stream",
     "text": [
      "The word 'mug' is in 11.84% of titles and 18.97% of descriptions.\n",
      "The word 'plate' is in 2.41% of titles and 5.00% of descriptions.\n",
      "The word 'bowl' is in 7.94% of titles and 13.40% of descriptions.\n",
      "The word 'jar' is in 1.40% of titles and 1.88% of descriptions.\n",
      "The word 'planter' is in 1.47% of titles and 1.75% of descriptions.\n",
      "The word 'berry bowl' is in 0.11% of titles and 0.11% of descriptions.\n",
      "The word 'butter dish' is in 0.24% of titles and 0.27% of descriptions.\n",
      "The word 'cup' is in 6.19% of titles and 10.40% of descriptions.\n",
      "The word 'tumbler' is in 0.88% of titles and 1.67% of descriptions.\n",
      "The word 'bacon cooker' is in 0.00% of titles and 0.03% of descriptions.\n",
      "The word 'spoon rest' is in 0.62% of titles and 1.34% of descriptions.\n"
     ]
    }
   ],
   "source": [
    "# percentage of listings that contain a specific product in their title and description\n",
    "\n",
    "# I chose these items because I was interested in them\n",
    "items = ['mug', 'plate', 'bowl', 'jar', 'planter', 'berry bowl', 'butter dish', 'cup', 'tumbler', 'bacon cooker', 'spoon rest']\n",
    "\n",
    "for i in items:\n",
    "    print(\"The word '\" + i + \"' is in \" + \"{:.2%}\".format(percentage_item(title, i)) + \" of titles and \" + \"{:.2%}\".format(percentage_item(desc, i)) + \" of descriptions.\")\n"
   ]
  },
  {
   "cell_type": "markdown",
   "id": "1eaff512",
   "metadata": {},
   "source": [
    "### Remove punctuation, special characters and stop words from the titles and descriptons"
   ]
  },
  {
   "cell_type": "code",
   "execution_count": 28,
   "id": "796a233d",
   "metadata": {},
   "outputs": [],
   "source": [
    "# function that removes \"\\n\", links, as well as special characters and numbers fromt text\n",
    "def clean_text(text):\n",
    "    for i in range (0, len(text)):\n",
    "        n = '\\n'\n",
    "        string = text[i]\n",
    "        if n in string:\n",
    "            string = string.replace(n, \" \")\n",
    "            text[i] = string\n",
    "        text[i] = re.sub(\"[^A-za-z]+\",\" \", text[i])\n",
    "        text[i] = re.sub(r\"http\\S+\",\"\",text[i])\n",
    "        text[i] = re.sub(r\"www\\S+\",\"\",text[i])"
   ]
  },
  {
   "cell_type": "code",
   "execution_count": 29,
   "id": "e970c30e",
   "metadata": {},
   "outputs": [],
   "source": [
    "# Clean descriptions and titles\n",
    "clean_text(desc)\n",
    "clean_text(title)"
   ]
  },
  {
   "cell_type": "code",
   "execution_count": 30,
   "id": "6aaafbad",
   "metadata": {},
   "outputs": [],
   "source": [
    "#split the title strings on the spaces\n",
    "title = title.str.split(\" \")\n",
    "desc = desc.str.split(\" \")"
   ]
  },
  {
   "cell_type": "code",
   "execution_count": 31,
   "id": "e80c5aef",
   "metadata": {},
   "outputs": [],
   "source": [
    "## define the stopwords\n",
    "stop = stopwords.words('english')"
   ]
  },
  {
   "cell_type": "code",
   "execution_count": 38,
   "id": "2c5b8a1e",
   "metadata": {},
   "outputs": [],
   "source": [
    "# add pottery-related keywords, and other irrelevant words to stopwords\n",
    "stop.extend(['handmade','stoneware','pottery','ceramic','clay','x', '|','cm', 'oz', 'ml', ' ', '', 'www', 'com',\n",
    "'shipping','item','items','hand','made','piece','pieces','make','please','one','use','may','inches','also',\n",
    "'high','etsy', 'quot', 'wheel', 'thrown', 'wheelthrown', 'glaze', 'glazed'])"
   ]
  },
  {
   "cell_type": "code",
   "execution_count": 39,
   "id": "f7a0159f",
   "metadata": {},
   "outputs": [
    {
     "data": {
      "text/plain": [
       "['i',\n",
       " 'me',\n",
       " 'my',\n",
       " 'myself',\n",
       " 'we',\n",
       " 'our',\n",
       " 'ours',\n",
       " 'ourselves',\n",
       " 'you',\n",
       " \"you're\",\n",
       " \"you've\",\n",
       " \"you'll\",\n",
       " \"you'd\",\n",
       " 'your',\n",
       " 'yours',\n",
       " 'yourself',\n",
       " 'yourselves',\n",
       " 'he',\n",
       " 'him',\n",
       " 'his',\n",
       " 'himself',\n",
       " 'she',\n",
       " \"she's\",\n",
       " 'her',\n",
       " 'hers',\n",
       " 'herself',\n",
       " 'it',\n",
       " \"it's\",\n",
       " 'its',\n",
       " 'itself',\n",
       " 'they',\n",
       " 'them',\n",
       " 'their',\n",
       " 'theirs',\n",
       " 'themselves',\n",
       " 'what',\n",
       " 'which',\n",
       " 'who',\n",
       " 'whom',\n",
       " 'this',\n",
       " 'that',\n",
       " \"that'll\",\n",
       " 'these',\n",
       " 'those',\n",
       " 'am',\n",
       " 'is',\n",
       " 'are',\n",
       " 'was',\n",
       " 'were',\n",
       " 'be',\n",
       " 'been',\n",
       " 'being',\n",
       " 'have',\n",
       " 'has',\n",
       " 'had',\n",
       " 'having',\n",
       " 'do',\n",
       " 'does',\n",
       " 'did',\n",
       " 'doing',\n",
       " 'a',\n",
       " 'an',\n",
       " 'the',\n",
       " 'and',\n",
       " 'but',\n",
       " 'if',\n",
       " 'or',\n",
       " 'because',\n",
       " 'as',\n",
       " 'until',\n",
       " 'while',\n",
       " 'of',\n",
       " 'at',\n",
       " 'by',\n",
       " 'for',\n",
       " 'with',\n",
       " 'about',\n",
       " 'against',\n",
       " 'between',\n",
       " 'into',\n",
       " 'through',\n",
       " 'during',\n",
       " 'before',\n",
       " 'after',\n",
       " 'above',\n",
       " 'below',\n",
       " 'to',\n",
       " 'from',\n",
       " 'up',\n",
       " 'down',\n",
       " 'in',\n",
       " 'out',\n",
       " 'on',\n",
       " 'off',\n",
       " 'over',\n",
       " 'under',\n",
       " 'again',\n",
       " 'further',\n",
       " 'then',\n",
       " 'once',\n",
       " 'here',\n",
       " 'there',\n",
       " 'when',\n",
       " 'where',\n",
       " 'why',\n",
       " 'how',\n",
       " 'all',\n",
       " 'any',\n",
       " 'both',\n",
       " 'each',\n",
       " 'few',\n",
       " 'more',\n",
       " 'most',\n",
       " 'other',\n",
       " 'some',\n",
       " 'such',\n",
       " 'no',\n",
       " 'nor',\n",
       " 'not',\n",
       " 'only',\n",
       " 'own',\n",
       " 'same',\n",
       " 'so',\n",
       " 'than',\n",
       " 'too',\n",
       " 'very',\n",
       " 's',\n",
       " 't',\n",
       " 'can',\n",
       " 'will',\n",
       " 'just',\n",
       " 'don',\n",
       " \"don't\",\n",
       " 'should',\n",
       " \"should've\",\n",
       " 'now',\n",
       " 'd',\n",
       " 'll',\n",
       " 'm',\n",
       " 'o',\n",
       " 're',\n",
       " 've',\n",
       " 'y',\n",
       " 'ain',\n",
       " 'aren',\n",
       " \"aren't\",\n",
       " 'couldn',\n",
       " \"couldn't\",\n",
       " 'didn',\n",
       " \"didn't\",\n",
       " 'doesn',\n",
       " \"doesn't\",\n",
       " 'hadn',\n",
       " \"hadn't\",\n",
       " 'hasn',\n",
       " \"hasn't\",\n",
       " 'haven',\n",
       " \"haven't\",\n",
       " 'isn',\n",
       " \"isn't\",\n",
       " 'ma',\n",
       " 'mightn',\n",
       " \"mightn't\",\n",
       " 'mustn',\n",
       " \"mustn't\",\n",
       " 'needn',\n",
       " \"needn't\",\n",
       " 'shan',\n",
       " \"shan't\",\n",
       " 'shouldn',\n",
       " \"shouldn't\",\n",
       " 'wasn',\n",
       " \"wasn't\",\n",
       " 'weren',\n",
       " \"weren't\",\n",
       " 'won',\n",
       " \"won't\",\n",
       " 'wouldn',\n",
       " \"wouldn't\",\n",
       " 'handmade',\n",
       " 'stoneware',\n",
       " 'pottery',\n",
       " 'ceramic',\n",
       " 'clay',\n",
       " 'x',\n",
       " '|',\n",
       " 'cm',\n",
       " 'oz',\n",
       " 'ml',\n",
       " ' ',\n",
       " '',\n",
       " 'www',\n",
       " 'com',\n",
       " 'shipping',\n",
       " 'item',\n",
       " 'items',\n",
       " 'hand',\n",
       " 'made',\n",
       " 'piece',\n",
       " 'pieces',\n",
       " 'make',\n",
       " 'please',\n",
       " 'one',\n",
       " 'use',\n",
       " 'may',\n",
       " 'inches',\n",
       " 'also',\n",
       " 'high',\n",
       " 'etsy',\n",
       " 'quot',\n",
       " 'wheel',\n",
       " 'thrown',\n",
       " 'wheelthrown',\n",
       " 'glaze',\n",
       " 'glazed',\n",
       " 'handmade',\n",
       " 'stoneware',\n",
       " 'pottery',\n",
       " 'ceramic',\n",
       " 'clay',\n",
       " 'x',\n",
       " '|',\n",
       " 'cm',\n",
       " 'oz',\n",
       " 'ml',\n",
       " ' ',\n",
       " '',\n",
       " 'www',\n",
       " 'com',\n",
       " 'shipping',\n",
       " 'item',\n",
       " 'items',\n",
       " 'hand',\n",
       " 'made',\n",
       " 'piece',\n",
       " 'pieces',\n",
       " 'make',\n",
       " 'please',\n",
       " 'one',\n",
       " 'use',\n",
       " 'may',\n",
       " 'inches',\n",
       " 'also',\n",
       " 'high',\n",
       " 'etsy',\n",
       " 'quot',\n",
       " 'wheel',\n",
       " 'thrown',\n",
       " 'wheelthrown',\n",
       " 'glaze',\n",
       " 'glazed']"
      ]
     },
     "execution_count": 39,
     "metadata": {},
     "output_type": "execute_result"
    }
   ],
   "source": [
    "stop"
   ]
  },
  {
   "cell_type": "code",
   "execution_count": 41,
   "id": "abd6f319",
   "metadata": {},
   "outputs": [],
   "source": [
    "test = desc.head(5)"
   ]
  },
  {
   "cell_type": "code",
   "execution_count": 54,
   "id": "e14c1b98",
   "metadata": {},
   "outputs": [],
   "source": [
    "# Define a function that removes the stopwords\n",
    "\"\"\" \n",
    "Args:\n",
    "txt (series): the text as a series of lists\n",
    "wrds (list): the stopwords to be removed from the list\n",
    "\"\"\"\n",
    "def remove_stopwords(txt, wrds):\n",
    "    for i in range (0, len(txt)):\n",
    "        for s in wrds:\n",
    "            lst = txt[i]\n",
    "            lst = [w for w in lst if w != s]\n",
    "            txt[i] = lst"
   ]
  },
  {
   "cell_type": "code",
   "execution_count": 55,
   "id": "811ef70d",
   "metadata": {},
   "outputs": [
    {
     "data": {
      "text/plain": [
       "0    [matte, black, mug, perfect, morning, coffee, ...\n",
       "1    [sample, second, sale, mugs, coffee, tea, soup...\n",
       "2    [mugs, coffee, tea, soup, inside, outside, sin...\n",
       "3    [tumbler, espresso, sake, moccha, special, eff...\n",
       "4    [cups, coffee, tea, inside, outside, keeping, ...\n",
       "Name: description, dtype: object"
      ]
     },
     "execution_count": 55,
     "metadata": {},
     "output_type": "execute_result"
    }
   ],
   "source": [
    "test"
   ]
  },
  {
   "cell_type": "code",
   "execution_count": 56,
   "id": "f86ee1d5",
   "metadata": {},
   "outputs": [],
   "source": [
    "remove_stopwords(test, stop)"
   ]
  },
  {
   "cell_type": "code",
   "execution_count": 53,
   "id": "65b88d56",
   "metadata": {},
   "outputs": [
    {
     "data": {
      "text/plain": [
       "0    [matte, black, mug, perfect, morning, coffee, ...\n",
       "1    [sample, second, sale, mugs, coffee, tea, soup...\n",
       "2    [mugs, coffee, tea, soup, inside, outside, sin...\n",
       "3    [tumbler, espresso, sake, moccha, special, eff...\n",
       "4    [cups, coffee, tea, inside, outside, keeping, ...\n",
       "Name: description, dtype: object"
      ]
     },
     "execution_count": 53,
     "metadata": {},
     "output_type": "execute_result"
    }
   ],
   "source": [
    "test"
   ]
  },
  {
   "cell_type": "code",
   "execution_count": 57,
   "id": "998f5a58",
   "metadata": {},
   "outputs": [],
   "source": [
    "remove_stopwords(desc, stop)\n",
    "remove_stopwords(title, stop)"
   ]
  },
  {
   "cell_type": "code",
   "execution_count": 58,
   "id": "f4dedbe4",
   "metadata": {},
   "outputs": [
    {
     "data": {
      "text/plain": [
       "0                                      [matte, black, mug]\n",
       "1        [sample, second, sale, mug, coffee, mug, tea, ...\n",
       "2                             [mug, coffee, mug, tea, mug]\n",
       "3                      [espresso, cup, sake, cup, tumbler]\n",
       "4                             [mug, coffee, mug, tea, mug]\n",
       "                               ...                        \n",
       "11251    [plate, legs, organiser, small, fruit, keeper,...\n",
       "11252    [vintage, art, object, letter, holder, paperwe...\n",
       "11253    [jug, incised, design, milk, jug, traditional,...\n",
       "11254                                  [lava, fleck, vase]\n",
       "11255         [soap, dish, buff, white, gloss, vandranite]\n",
       "Name: title_listing, Length: 11256, dtype: object"
      ]
     },
     "execution_count": 58,
     "metadata": {},
     "output_type": "execute_result"
    }
   ],
   "source": [
    "title"
   ]
  },
  {
   "cell_type": "markdown",
   "id": "4fae8d86",
   "metadata": {},
   "source": [
    "### Save the cleaned descriptions and titles to csv to use for clustering algorithm"
   ]
  },
  {
   "cell_type": "code",
   "execution_count": 59,
   "id": "d6ee2f31",
   "metadata": {},
   "outputs": [],
   "source": [
    "#title.to_csv('data/titles-cleaned041022.csv')\n",
    "#desc.to_csv('data/descriptions-cleaned041022.csv')"
   ]
  },
  {
   "cell_type": "markdown",
   "id": "f025c8e2",
   "metadata": {},
   "source": [
    "### Word Counts"
   ]
  },
  {
   "cell_type": "code",
   "execution_count": 60,
   "id": "eb32df58",
   "metadata": {},
   "outputs": [],
   "source": [
    "#define a function that reduces a column to a 1-dimensional series (to get word counts)\n",
    "def oneD(column):\n",
    " return pd.Series([x for list in column for x in list])"
   ]
  },
  {
   "cell_type": "code",
   "execution_count": 61,
   "id": "29db5cbf",
   "metadata": {},
   "outputs": [],
   "source": [
    "#get the value counts for each of the words in the description\n",
    "descWordCounts = oneD(desc).value_counts()"
   ]
  },
  {
   "cell_type": "code",
   "execution_count": 62,
   "id": "5b65fd35",
   "metadata": {},
   "outputs": [],
   "source": [
    "# Get the top words in the descriptions\n",
    "top25desc = descWordCounts.head(25).sort_values(ascending=False)"
   ]
  },
  {
   "cell_type": "code",
   "execution_count": 63,
   "id": "66ed48a7",
   "metadata": {},
   "outputs": [],
   "source": [
    "# Get the value counts for each of the words in the titles\n",
    "titleWordCounts = oneD(title).value_counts()"
   ]
  },
  {
   "cell_type": "code",
   "execution_count": 64,
   "id": "84e0b877",
   "metadata": {},
   "outputs": [],
   "source": [
    "# Get the top 25 words in the titles\n",
    "top25title = titleWordCounts.head(25).sort_values(ascending=False)"
   ]
  },
  {
   "cell_type": "code",
   "execution_count": 65,
   "id": "408a4ca7",
   "metadata": {},
   "outputs": [
    {
     "data": {
      "text/plain": [
       "[Text(0.5, 1.0, 'Top 25 Words in the Titles')]"
      ]
     },
     "execution_count": 65,
     "metadata": {},
     "output_type": "execute_result"
    },
    {
     "data": {
      "image/png": "[encoded data removed]",
      "text/plain": [
       "<Figure size 1008x576 with 2 Axes>"
      ]
     },
     "metadata": {
      "needs_background": "light"
     },
     "output_type": "display_data"
    }
   ],
   "source": [
    "# plot top tags in different subsets of the data\n",
    "fig, axes = plt.subplots(1,2, figsize = (14, 8))\n",
    "fig.suptitle('Top Words')\n",
    "\n",
    "# plot the top words in the descriptions\n",
    "sns.barplot(ax=axes[0], x=top25desc.values, y=top25desc.index, palette='light:#639c6f_r').set(title='Top 25 Words in the Descriptions')\n",
    "\n",
    "# plot the top wordsin the titles\n",
    "sns.barplot(ax=axes[1],x=top25title.values, y=top25title.index, palette='light:#6255aa_r').set(title='Top 25 Words in the Titles')"
   ]
  },
  {
   "cell_type": "markdown",
   "id": "10a06c68",
   "metadata": {},
   "source": [
    "## Tags"
   ]
  },
  {
   "cell_type": "code",
   "execution_count": 66,
   "id": "ed6df5c3",
   "metadata": {},
   "outputs": [],
   "source": [
    "#make all tags lowercase\n",
    "data['tags'] = data['tags'].str.lower()"
   ]
  },
  {
   "cell_type": "code",
   "execution_count": 67,
   "id": "ecbbf483",
   "metadata": {},
   "outputs": [],
   "source": [
    "#transform tags column from strings to lists\n",
    "data['tags'] = data['tags'].apply(eval)"
   ]
  },
  {
   "cell_type": "code",
   "execution_count": 68,
   "id": "a3c6ad60",
   "metadata": {},
   "outputs": [],
   "source": [
    "#get just the tags\n",
    "tags = data['tags']"
   ]
  },
  {
   "cell_type": "markdown",
   "id": "04b49ca0",
   "metadata": {},
   "source": [
    "### Remove pottery-related stopwords from the tags"
   ]
  },
  {
   "cell_type": "code",
   "execution_count": 69,
   "id": "596185f2",
   "metadata": {},
   "outputs": [],
   "source": [
    "#define common stopwords\n",
    "stopTags = ['handmade','stoneware','pottery','ceramic','clay','handmade pottery',\n",
    "            'stoneware pottery','ceramics','handmade ceramics','gift','wheel thrown','one of a kind']"
   ]
  },
  {
   "cell_type": "code",
   "execution_count": 70,
   "id": "7866e0c2",
   "metadata": {},
   "outputs": [],
   "source": [
    "#remove stop words from tags\n",
    "for i in range (0, len(tags)):\n",
    "    for s in stopTags:\n",
    "        tags_list = tags[i]\n",
    "        if s in tags_list:\n",
    "            tags_list.remove(s)"
   ]
  },
  {
   "cell_type": "code",
   "execution_count": 71,
   "id": "17cae43e",
   "metadata": {},
   "outputs": [],
   "source": [
    "#add clean tags to original df\n",
    "data['clean_tags'] = tags"
   ]
  },
  {
   "cell_type": "code",
   "execution_count": 72,
   "id": "6969fa5d",
   "metadata": {},
   "outputs": [],
   "source": [
    "# save dataframe with clean tags \n",
    "#data.to_csv('data/tags-cleaned041022.csv')"
   ]
  },
  {
   "cell_type": "code",
   "execution_count": 73,
   "id": "99fd001a",
   "metadata": {},
   "outputs": [],
   "source": [
    "#get the value counts for each of the tags\n",
    "tagCounts = oneD(tags).value_counts()"
   ]
  },
  {
   "cell_type": "code",
   "execution_count": 74,
   "id": "c473fb96",
   "metadata": {},
   "outputs": [],
   "source": [
    "# Sort the top tags overall\n",
    "top25 = tagCounts.head(25).sort_values(ascending=False)"
   ]
  },
  {
   "cell_type": "code",
   "execution_count": 75,
   "id": "3cf1d3a3",
   "metadata": {},
   "outputs": [
    {
     "data": {
      "text/plain": [
       "spoon rest              182\n",
       "ceramic spoon rest       69\n",
       "pottery spoon rest       51\n",
       "handmade spoon rest      48\n",
       "stoneware spoon rest     39\n",
       "                       ... \n",
       "ice cream spoon           1\n",
       "hand built spoons         1\n",
       "spoon organizer jar       1\n",
       "asian spoon               1\n",
       "cream spoon rest          1\n",
       "Length: 271, dtype: int64"
      ]
     },
     "execution_count": 75,
     "metadata": {},
     "output_type": "execute_result"
    }
   ],
   "source": [
    "# the word \"spoon\" is appearing in the top words in the titles so I wanted to see what the related tags are:\n",
    "tagCounts[tagCounts.index.str.contains(pat = 'spoon')]"
   ]
  },
  {
   "cell_type": "markdown",
   "id": "dd4bd4df",
   "metadata": {},
   "source": [
    "#### I repeated the above for all the top words in the titles that were products so I could see if they were normally used in a phrase like \"spoon rest\" rather than individually and used this later on in the \"Business Information\" notebook"
   ]
  },
  {
   "cell_type": "markdown",
   "id": "14b7507b",
   "metadata": {},
   "source": [
    "### Get top 20 tags for top-favorited and top rated shops"
   ]
  },
  {
   "cell_type": "code",
   "execution_count": 76,
   "id": "708272c1",
   "metadata": {},
   "outputs": [],
   "source": [
    "#dataframe with tags, num of favorites\n",
    "itemData = data[['listing_id','clean_tags','num_favorers_listing']]"
   ]
  },
  {
   "cell_type": "code",
   "execution_count": 78,
   "id": "157a9aed",
   "metadata": {},
   "outputs": [
    {
     "data": {
      "text/html": [
       "<div>\n",
       "<style scoped>\n",
       "    .dataframe tbody tr th:only-of-type {\n",
       "        vertical-align: middle;\n",
       "    }\n",
       "\n",
       "    .dataframe tbody tr th {\n",
       "        vertical-align: top;\n",
       "    }\n",
       "\n",
       "    .dataframe thead th {\n",
       "        text-align: right;\n",
       "    }\n",
       "</style>\n",
       "<table border=\"1\" class=\"dataframe\">\n",
       "  <thead>\n",
       "    <tr style=\"text-align: right;\">\n",
       "      <th></th>\n",
       "      <th>listing_id</th>\n",
       "      <th>clean_tags</th>\n",
       "      <th>num_favorers_listing</th>\n",
       "    </tr>\n",
       "  </thead>\n",
       "  <tbody>\n",
       "    <tr>\n",
       "      <th>3451</th>\n",
       "      <td>175789619</td>\n",
       "      <td>[best selling mug, gift under 50, gift for dad...</td>\n",
       "      <td>26530</td>\n",
       "    </tr>\n",
       "    <tr>\n",
       "      <th>1849</th>\n",
       "      <td>792180615</td>\n",
       "      <td>[ceramic mug, handpainted mug, nature mug, flo...</td>\n",
       "      <td>13605</td>\n",
       "    </tr>\n",
       "    <tr>\n",
       "      <th>936</th>\n",
       "      <td>900330801</td>\n",
       "      <td>[wheel thrown pottery, fine art ceramics, dini...</td>\n",
       "      <td>13324</td>\n",
       "    </tr>\n",
       "    <tr>\n",
       "      <th>2219</th>\n",
       "      <td>1086863643</td>\n",
       "      <td>[caffeine addict, coffee lover, gift for mom, ...</td>\n",
       "      <td>10564</td>\n",
       "    </tr>\n",
       "    <tr>\n",
       "      <th>10185</th>\n",
       "      <td>535025569</td>\n",
       "      <td>[coffee cup, parceline, tea cup, coffee mug, c...</td>\n",
       "      <td>9678</td>\n",
       "    </tr>\n",
       "    <tr>\n",
       "      <th>2</th>\n",
       "      <td>741218574</td>\n",
       "      <td>[handmade ceramic mug, handmade mug, ceramic m...</td>\n",
       "      <td>8344</td>\n",
       "    </tr>\n",
       "    <tr>\n",
       "      <th>40</th>\n",
       "      <td>677424431</td>\n",
       "      <td>[handmade coffee mug, birthday gift mug, coffe...</td>\n",
       "      <td>7948</td>\n",
       "    </tr>\n",
       "    <tr>\n",
       "      <th>445</th>\n",
       "      <td>128982522</td>\n",
       "      <td>[etsymudteam, claylicious, stoneware berry bow...</td>\n",
       "      <td>7939</td>\n",
       "    </tr>\n",
       "    <tr>\n",
       "      <th>4075</th>\n",
       "      <td>1112309379</td>\n",
       "      <td>[handmade mug, stoneware mug, home decor, cera...</td>\n",
       "      <td>7910</td>\n",
       "    </tr>\n",
       "    <tr>\n",
       "      <th>5427</th>\n",
       "      <td>151354984</td>\n",
       "      <td>[cup, teacup, roses, dots, pink, light blue, m...</td>\n",
       "      <td>7476</td>\n",
       "    </tr>\n",
       "  </tbody>\n",
       "</table>\n",
       "</div>"
      ],
      "text/plain": [
       "       listing_id                                         clean_tags  \\\n",
       "3451    175789619  [best selling mug, gift under 50, gift for dad...   \n",
       "1849    792180615  [ceramic mug, handpainted mug, nature mug, flo...   \n",
       "936     900330801  [wheel thrown pottery, fine art ceramics, dini...   \n",
       "2219   1086863643  [caffeine addict, coffee lover, gift for mom, ...   \n",
       "10185   535025569  [coffee cup, parceline, tea cup, coffee mug, c...   \n",
       "2       741218574  [handmade ceramic mug, handmade mug, ceramic m...   \n",
       "40      677424431  [handmade coffee mug, birthday gift mug, coffe...   \n",
       "445     128982522  [etsymudteam, claylicious, stoneware berry bow...   \n",
       "4075   1112309379  [handmade mug, stoneware mug, home decor, cera...   \n",
       "5427    151354984  [cup, teacup, roses, dots, pink, light blue, m...   \n",
       "\n",
       "       num_favorers_listing  \n",
       "3451                  26530  \n",
       "1849                  13605  \n",
       "936                   13324  \n",
       "2219                  10564  \n",
       "10185                  9678  \n",
       "2                      8344  \n",
       "40                     7948  \n",
       "445                    7939  \n",
       "4075                   7910  \n",
       "5427                   7476  "
      ]
     },
     "execution_count": 78,
     "metadata": {},
     "output_type": "execute_result"
    }
   ],
   "source": [
    "#look at top 10 listings according to number of favorers\n",
    "itemData.sort_values(by = ['num_favorers_listing'], ascending = False).head(10)"
   ]
  },
  {
   "cell_type": "code",
   "execution_count": 79,
   "id": "bf689c36",
   "metadata": {},
   "outputs": [],
   "source": [
    "#this is the 3,873 listings with at least 10 favorers\n",
    "TenOrMore = itemData[itemData['num_favorers_listing']>=10]"
   ]
  },
  {
   "cell_type": "code",
   "execution_count": 80,
   "id": "f2010fb3",
   "metadata": {},
   "outputs": [],
   "source": [
    "#get the value counts for each of the tags in TenOrMore\n",
    "tagCountsFavs = oneD(TenOrMore[\"clean_tags\"]).value_counts()"
   ]
  },
  {
   "cell_type": "code",
   "execution_count": 81,
   "id": "2b93beff",
   "metadata": {},
   "outputs": [],
   "source": [
    "# Sort the top 25 tags from the listings with ten or more favorers\n",
    "top25Favs = tagCountsFavs.head(25).sort_values(ascending=False)"
   ]
  },
  {
   "cell_type": "markdown",
   "id": "81b830b0",
   "metadata": {},
   "source": [
    "### Get top 25 tags for shops with at least 10 review and review averages greater than 4.9"
   ]
  },
  {
   "cell_type": "code",
   "execution_count": 86,
   "id": "4f8bee80",
   "metadata": {},
   "outputs": [],
   "source": [
    "# dataframe with tags, shop review count, and review average\n",
    "shopData = data[['listing_id','clean_tags','num_favorers_listing','review_average', 'review_count']]"
   ]
  },
  {
   "cell_type": "code",
   "execution_count": 87,
   "id": "e5c18612",
   "metadata": {},
   "outputs": [],
   "source": [
    "# get the shops that have at least 10 reviews\n",
    "shops10reviews = shopData[shopData['review_count']>=10]"
   ]
  },
  {
   "cell_type": "code",
   "execution_count": 88,
   "id": "81e32f74",
   "metadata": {},
   "outputs": [],
   "source": [
    "#this is the 9036 listings from shops with at least 10 reviews\n",
    "TenReviews =  shopData[shopData['review_count']>=10]"
   ]
  },
  {
   "cell_type": "code",
   "execution_count": 89,
   "id": "b862be47",
   "metadata": {},
   "outputs": [],
   "source": [
    "# this is the 8106 listings from shops with at least 10 reviews AND a 4.8 star rating or higher\n",
    "topShops =  TenReviews[TenReviews['review_average']>=4.9]"
   ]
  },
  {
   "cell_type": "code",
   "execution_count": 90,
   "id": "d5467be1",
   "metadata": {},
   "outputs": [],
   "source": [
    "#get the value counts for each of the tags in the topShops listings\n",
    "tagCountsTopShops = oneD(topShops[\"clean_tags\"]).value_counts()\n",
    "\n",
    "# Sort the top 25 tags from the listings with ten or more favorers\n",
    "top25TopShops = tagCountsTopShops.head(25).sort_values(ascending=False)"
   ]
  },
  {
   "cell_type": "code",
   "execution_count": 91,
   "id": "7963b7cc",
   "metadata": {},
   "outputs": [
    {
     "data": {
      "text/plain": [
       "Text(0.5, 1.0, 'Top 25 Tags for Listings from Shops w/4.9 or Higher Rating and At Least 10 Reviews')"
      ]
     },
     "execution_count": 91,
     "metadata": {},
     "output_type": "execute_result"
    },
    {
     "data": {
      "image/png": "[encoded data removed]",
      "text/plain": [
       "<Figure size 864x1296 with 3 Axes>"
      ]
     },
     "metadata": {
      "needs_background": "light"
     },
     "output_type": "display_data"
    }
   ],
   "source": [
    "# plot top tags in different subsets of the data\n",
    "fig, axes = plt.subplots(3, 1, figsize = (12, 18))\n",
    "fig.suptitle('Top Tags')\n",
    "\n",
    "# plot all the top tags overall\n",
    "sns.barplot(ax=axes[0], x=top25.values, y=top25.index, palette='light:#4079bf_r')\n",
    "axes[0].set_title('Top 25 Tags All Listings')\n",
    "\n",
    "# plot the top tags for listings with 10 or more favorers\n",
    "sns.barplot(ax=axes[1], x=top25Favs.values, y=top25Favs.index, palette='light:#b96cf0_r')\n",
    "axes[1].set_title('Top 25 Tags for Listings w/10 or more Favorers')\n",
    "\n",
    "# plot the top tags for listings from shops with at least 10 reviews and a 4.9 star rating or higher\n",
    "sns.barplot(ax=axes[2], x=top25TopShops.values, y=top25TopShops.index, palette='light:#90aa55_r')\n",
    "axes[2].set_title('Top 25 Tags for Listings from Shops w/4.9 or Higher Rating and At Least 10 Reviews')"
   ]
  },
  {
   "cell_type": "code",
   "execution_count": null,
   "id": "42a3b3d7",
   "metadata": {},
   "outputs": [],
   "source": []
  }
 ],
 "metadata": {
  "kernelspec": {
   "display_name": "Python 3",
   "language": "python",
   "name": "python3"
  },
  "language_info": {
   "codemirror_mode": {
    "name": "ipython",
    "version": 3
   },
   "file_extension": ".py",
   "mimetype": "text/x-python",
   "name": "python",
   "nbconvert_exporter": "python",
   "pygments_lexer": "ipython3",
   "version": "3.8.8"
  }
 },
 "nbformat": 4,
 "nbformat_minor": 5
}
