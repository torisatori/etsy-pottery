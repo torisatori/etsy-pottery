{
 "cells": [
  {
   "cell_type": "markdown",
   "id": "ff64b22b",
   "metadata": {},
   "source": [
    "# Text Analysis of Titles Descriptions and Tags"
   ]
  },
  {
   "cell_type": "code",
   "execution_count": 1,
   "id": "d61d915d",
   "metadata": {},
   "outputs": [],
   "source": [
    "import pandas as pd\n",
    "import numpy as np\n",
    "import re\n",
    "import datetime  \n",
    "import matplotlib.pyplot as plt\n",
    "\n",
    "#natural language toolkit for list of stop words\n",
    "import nltk \n",
    "#nltk.download('stopwords')\n",
    "from nltk.corpus import stopwords"
   ]
  },
  {
   "cell_type": "code",
   "execution_count": 2,
   "id": "74217d1f",
   "metadata": {},
   "outputs": [],
   "source": [
    "data = pd.read_csv('data/mergedData033122.csv')"
   ]
  },
  {
   "cell_type": "markdown",
   "id": "f6456f16",
   "metadata": {},
   "source": [
    "## Titles and Descriptions"
   ]
  },
  {
   "cell_type": "code",
   "execution_count": 3,
   "id": "e155a998",
   "metadata": {},
   "outputs": [],
   "source": [
    "#make all title and descriptions lowercase\n",
    "title = data['title_x'].str.lower()\n",
    "desc = data['description'].str.lower()"
   ]
  },
  {
   "cell_type": "code",
   "execution_count": 4,
   "id": "df875d97",
   "metadata": {},
   "outputs": [
    {
     "data": {
      "text/plain": [
       "0    handmade pottery vessel sinks mashima stamped ...\n",
       "1    handmade pottery vessel sinks mishima stamped ...\n",
       "2    custom small white oval handmade pottery vesse...\n",
       "3    custom handmade blue pottery vessel sink, desi...\n",
       "4    carved stoneware cup, wheel thrown mug, coffee...\n",
       "Name: title_x, dtype: object"
      ]
     },
     "execution_count": 4,
     "metadata": {},
     "output_type": "execute_result"
    }
   ],
   "source": [
    "#look at some titles\n",
    "title.head(5)"
   ]
  },
  {
   "cell_type": "code",
   "execution_count": 5,
   "id": "19d5ad90",
   "metadata": {},
   "outputs": [
    {
     "data": {
      "text/plain": [
       "0    vessel bathroom sink &quot;with no overflow&qu...\n",
       "1    vessel bathroom sink &quot;with no overflow&qu...\n",
       "2    oval vessel bathroom sink &quot;with no overfl...\n",
       "3    this sink&#39;s got the blues\\nyou get to choo...\n",
       "4    carved red stoneware mug has full round shape ...\n",
       "Name: description, dtype: object"
      ]
     },
     "execution_count": 5,
     "metadata": {},
     "output_type": "execute_result"
    }
   ],
   "source": [
    "#look at some descriptions\n",
    "desc.head(5)"
   ]
  },
  {
   "cell_type": "markdown",
   "id": "697cb742",
   "metadata": {},
   "source": [
    "### Looking at listings that contain specific products of interest"
   ]
  },
  {
   "cell_type": "code",
   "execution_count": 6,
   "id": "ca9b27fc",
   "metadata": {},
   "outputs": [],
   "source": [
    "# function that returns percentage of listings that contain a specific word\n",
    "\n",
    "def percentage_item(text, word):\n",
    "    true = text[text.str.contains(' ' + word + ' ')==True]\n",
    "    percent = len(true)/len(text)\n",
    "    return percent"
   ]
  },
  {
   "cell_type": "code",
   "execution_count": 7,
   "id": "7ab46093",
   "metadata": {},
   "outputs": [
    {
     "data": {
      "text/plain": [
       "0.11891666666666667"
      ]
     },
     "execution_count": 7,
     "metadata": {},
     "output_type": "execute_result"
    }
   ],
   "source": [
    "#percentage of listings that contain the word \"mug\" in the TITLE\n",
    "percentage_item(title, \"mug\")"
   ]
  },
  {
   "cell_type": "code",
   "execution_count": 8,
   "id": "3f18e494",
   "metadata": {},
   "outputs": [
    {
     "data": {
      "text/plain": [
       "0.19291666666666665"
      ]
     },
     "execution_count": 8,
     "metadata": {},
     "output_type": "execute_result"
    }
   ],
   "source": [
    "#percentage of listings that contain the word \"mug\" in the DESCRIPTION\n",
    "percentage_item(desc, \"mug\")"
   ]
  },
  {
   "cell_type": "code",
   "execution_count": 9,
   "id": "aea935b7",
   "metadata": {},
   "outputs": [
    {
     "name": "stdout",
     "output_type": "stream",
     "text": [
      "mug 0.11891666666666667 0.19291666666666665\n",
      "plate 0.024833333333333332 0.05383333333333333\n",
      "bowl 0.07675 0.13108333333333333\n",
      "jar 0.017083333333333332 0.019333333333333334\n",
      "planter 0.01425 0.018166666666666668\n",
      "berry bowl 0.0009166666666666666 0.0010833333333333333\n",
      "butter dish 0.00225 0.0025833333333333333\n",
      "cup 0.06691666666666667 0.11041666666666666\n",
      "tumbler 0.00975 0.012666666666666666\n",
      "bacon cooker 8.333333333333333e-05 0.0003333333333333333\n",
      "spoon rest 0.00625 0.012083333333333333\n"
     ]
    }
   ],
   "source": [
    "#percentage of listings that contain a specific product in their title and description\n",
    "\n",
    "items = ['mug', 'plate', 'bowl', 'jar', 'planter', 'berry bowl', 'butter dish', 'cup', 'tumbler', 'bacon cooker', 'spoon rest']\n",
    "\n",
    "for i in items:\n",
    "    print(i, percentage_item(title, i), percentage_item(desc, i))\n"
   ]
  },
  {
   "cell_type": "markdown",
   "id": "1eaff512",
   "metadata": {},
   "source": [
    "### Remove punctuation, special characters and stop words from the titles and descriptons"
   ]
  },
  {
   "cell_type": "code",
   "execution_count": 10,
   "id": "796a233d",
   "metadata": {},
   "outputs": [],
   "source": [
    "# function that removes \"\\n\", links, as well as special characters and numbers fromt text\n",
    "def clean_text(text):\n",
    "    for i in range (0, len(text)):\n",
    "        n = '\\n'\n",
    "        string = text[i]\n",
    "        if n in string:\n",
    "            string = string.replace(n, \" \")\n",
    "            text[i] = string\n",
    "        text[i] = re.sub(\"[^A-za-z]+\",\" \", text[i])\n",
    "        text[i] = re.sub(r\"http\\S+\",\"\",text[i])\n",
    "        text[i] = re.sub(r\"www\\S+\",\"\",text[i])"
   ]
  },
  {
   "cell_type": "code",
   "execution_count": 11,
   "id": "e970c30e",
   "metadata": {},
   "outputs": [],
   "source": [
    "# Clean descriptions and titles\n",
    "clean_text(desc)\n",
    "clean_text(title)"
   ]
  },
  {
   "cell_type": "code",
   "execution_count": 12,
   "id": "6aaafbad",
   "metadata": {},
   "outputs": [],
   "source": [
    "#split the title strings on the spaces\n",
    "title = title.str.split(\" \")\n",
    "desc = desc.str.split(\" \")"
   ]
  },
  {
   "cell_type": "code",
   "execution_count": 52,
   "id": "e80c5aef",
   "metadata": {},
   "outputs": [],
   "source": [
    "## define the stopwords\n",
    "stop = stopwords.words('english')"
   ]
  },
  {
   "cell_type": "code",
   "execution_count": 53,
   "id": "2c5b8a1e",
   "metadata": {},
   "outputs": [],
   "source": [
    "#add pottery-related keywords, and other irrelevant words to stopwords\n",
    "stop.extend(['handmade','stoneware','pottery','ceramic','clay','x', '|','cm', 'oz', ' ', '', 'www', 'com',\n",
    "'shipping','item','items','hand','made','piece','pieces','make','please','one','use','may','inches','also',\n",
    "'high','etsy', 'quot'])"
   ]
  },
  {
   "cell_type": "code",
   "execution_count": 54,
   "id": "15f20326",
   "metadata": {},
   "outputs": [
    {
     "data": {
      "text/plain": [
       "['i',\n",
       " 'me',\n",
       " 'my',\n",
       " 'myself',\n",
       " 'we',\n",
       " 'our',\n",
       " 'ours',\n",
       " 'ourselves',\n",
       " 'you',\n",
       " \"you're\",\n",
       " \"you've\",\n",
       " \"you'll\",\n",
       " \"you'd\",\n",
       " 'your',\n",
       " 'yours',\n",
       " 'yourself',\n",
       " 'yourselves',\n",
       " 'he',\n",
       " 'him',\n",
       " 'his',\n",
       " 'himself',\n",
       " 'she',\n",
       " \"she's\",\n",
       " 'her',\n",
       " 'hers',\n",
       " 'herself',\n",
       " 'it',\n",
       " \"it's\",\n",
       " 'its',\n",
       " 'itself',\n",
       " 'they',\n",
       " 'them',\n",
       " 'their',\n",
       " 'theirs',\n",
       " 'themselves',\n",
       " 'what',\n",
       " 'which',\n",
       " 'who',\n",
       " 'whom',\n",
       " 'this',\n",
       " 'that',\n",
       " \"that'll\",\n",
       " 'these',\n",
       " 'those',\n",
       " 'am',\n",
       " 'is',\n",
       " 'are',\n",
       " 'was',\n",
       " 'were',\n",
       " 'be',\n",
       " 'been',\n",
       " 'being',\n",
       " 'have',\n",
       " 'has',\n",
       " 'had',\n",
       " 'having',\n",
       " 'do',\n",
       " 'does',\n",
       " 'did',\n",
       " 'doing',\n",
       " 'a',\n",
       " 'an',\n",
       " 'the',\n",
       " 'and',\n",
       " 'but',\n",
       " 'if',\n",
       " 'or',\n",
       " 'because',\n",
       " 'as',\n",
       " 'until',\n",
       " 'while',\n",
       " 'of',\n",
       " 'at',\n",
       " 'by',\n",
       " 'for',\n",
       " 'with',\n",
       " 'about',\n",
       " 'against',\n",
       " 'between',\n",
       " 'into',\n",
       " 'through',\n",
       " 'during',\n",
       " 'before',\n",
       " 'after',\n",
       " 'above',\n",
       " 'below',\n",
       " 'to',\n",
       " 'from',\n",
       " 'up',\n",
       " 'down',\n",
       " 'in',\n",
       " 'out',\n",
       " 'on',\n",
       " 'off',\n",
       " 'over',\n",
       " 'under',\n",
       " 'again',\n",
       " 'further',\n",
       " 'then',\n",
       " 'once',\n",
       " 'here',\n",
       " 'there',\n",
       " 'when',\n",
       " 'where',\n",
       " 'why',\n",
       " 'how',\n",
       " 'all',\n",
       " 'any',\n",
       " 'both',\n",
       " 'each',\n",
       " 'few',\n",
       " 'more',\n",
       " 'most',\n",
       " 'other',\n",
       " 'some',\n",
       " 'such',\n",
       " 'no',\n",
       " 'nor',\n",
       " 'not',\n",
       " 'only',\n",
       " 'own',\n",
       " 'same',\n",
       " 'so',\n",
       " 'than',\n",
       " 'too',\n",
       " 'very',\n",
       " 's',\n",
       " 't',\n",
       " 'can',\n",
       " 'will',\n",
       " 'just',\n",
       " 'don',\n",
       " \"don't\",\n",
       " 'should',\n",
       " \"should've\",\n",
       " 'now',\n",
       " 'd',\n",
       " 'll',\n",
       " 'm',\n",
       " 'o',\n",
       " 're',\n",
       " 've',\n",
       " 'y',\n",
       " 'ain',\n",
       " 'aren',\n",
       " \"aren't\",\n",
       " 'couldn',\n",
       " \"couldn't\",\n",
       " 'didn',\n",
       " \"didn't\",\n",
       " 'doesn',\n",
       " \"doesn't\",\n",
       " 'hadn',\n",
       " \"hadn't\",\n",
       " 'hasn',\n",
       " \"hasn't\",\n",
       " 'haven',\n",
       " \"haven't\",\n",
       " 'isn',\n",
       " \"isn't\",\n",
       " 'ma',\n",
       " 'mightn',\n",
       " \"mightn't\",\n",
       " 'mustn',\n",
       " \"mustn't\",\n",
       " 'needn',\n",
       " \"needn't\",\n",
       " 'shan',\n",
       " \"shan't\",\n",
       " 'shouldn',\n",
       " \"shouldn't\",\n",
       " 'wasn',\n",
       " \"wasn't\",\n",
       " 'weren',\n",
       " \"weren't\",\n",
       " 'won',\n",
       " \"won't\",\n",
       " 'wouldn',\n",
       " \"wouldn't\",\n",
       " 'handmade',\n",
       " 'stoneware',\n",
       " 'pottery',\n",
       " 'ceramic',\n",
       " 'clay',\n",
       " 'x',\n",
       " '|',\n",
       " 'cm',\n",
       " 'oz',\n",
       " ' ',\n",
       " '',\n",
       " 'www',\n",
       " 'com',\n",
       " 'shipping',\n",
       " 'item',\n",
       " 'items',\n",
       " 'hand',\n",
       " 'made',\n",
       " 'piece',\n",
       " 'pieces',\n",
       " 'make',\n",
       " 'please',\n",
       " 'one',\n",
       " 'use',\n",
       " 'may',\n",
       " 'inches',\n",
       " 'also',\n",
       " 'high',\n",
       " 'etsy',\n",
       " 'quot']"
      ]
     },
     "execution_count": 54,
     "metadata": {},
     "output_type": "execute_result"
    }
   ],
   "source": [
    "stop"
   ]
  },
  {
   "cell_type": "markdown",
   "id": "ee533752",
   "metadata": {},
   "source": [
    "### TO DO: GET THIS FUNCTION TO WORK \n",
    "I dont know if this is worth the time to fix, maybe just keep the for loops for now"
   ]
  },
  {
   "cell_type": "code",
   "execution_count": 15,
   "id": "5a49eb29",
   "metadata": {},
   "outputs": [],
   "source": [
    "#### TO DO: Turn this into a function (This function isn't working, fix later)\n",
    "\"\"\" \n",
    "Args:\n",
    "txt (series): the text as a series of lists\n",
    "wrds (list): the stopwords to be removed from the list\n",
    "\n",
    "\n",
    "\"\"\"\n",
    "def remove_stopwords(txt, wrds):\n",
    "    txt = txt.reset_index(drop=True) #reset the index\n",
    "    for i in range (0, len(txt)):\n",
    "        for s in wrds:\n",
    "            list = txt[i]\n",
    "            list = [w for w in list if w != s]\n",
    "            txt[i] = list"
   ]
  },
  {
   "cell_type": "code",
   "execution_count": 64,
   "id": "73334d43",
   "metadata": {},
   "outputs": [],
   "source": [
    "#test = desc.iloc[11995:]\n",
    "#test = test.reset_index(drop=True)"
   ]
  },
  {
   "cell_type": "markdown",
   "id": "f1e629fa",
   "metadata": {},
   "source": [
    "### Keetping these here for now but I really want the function to work with everything"
   ]
  },
  {
   "cell_type": "code",
   "execution_count": 70,
   "id": "9b72122b",
   "metadata": {},
   "outputs": [],
   "source": [
    "# remove all instances of the stop words from the descriptions\n",
    "for i in range (0, len(desc)):\n",
    "    for s in stop:\n",
    "        list = desc[i]\n",
    "        list = [w for w in list if w != s]\n",
    "        desc[i] = list"
   ]
  },
  {
   "cell_type": "code",
   "execution_count": 71,
   "id": "4aae7b68",
   "metadata": {},
   "outputs": [],
   "source": [
    "# remove all instances of the stop words from the titles\n",
    "for i in range (0, len(title)):\n",
    "    for s in stop:\n",
    "        list = title[i]\n",
    "        list = [w for w in list if w != s]\n",
    "        title[i] = list"
   ]
  },
  {
   "cell_type": "code",
   "execution_count": 72,
   "id": "08668067",
   "metadata": {},
   "outputs": [
    {
     "data": {
      "text/plain": [
       "0        [vessel, bathroom, sink, overflow, color, show...\n",
       "1        [vessel, bathroom, sink, overflow, sizes, wide...\n",
       "2        [oval, vessel, bathroom, sink, overflow, white...\n",
       "3        [sink, got, blues, get, choose, shade, blue, s...\n",
       "4        [carved, red, mug, full, round, shape, handle,...\n",
       "                               ...                        \n",
       "11995    [second, choice, product, handthrown, bowl, be...\n",
       "11996    [hi, dear, friends, vintage, ashtray, traditio...\n",
       "11997    [super, quality, vintage, french, pitcher, jug...\n",
       "11998    [adorable, cat, cups, perfect, favorite, drink...\n",
       "11999    [beautiful, grey, vase, unique, tones, white, ...\n",
       "Name: description, Length: 12000, dtype: object"
      ]
     },
     "execution_count": 72,
     "metadata": {},
     "output_type": "execute_result"
    }
   ],
   "source": [
    "desc"
   ]
  },
  {
   "cell_type": "code",
   "execution_count": 73,
   "id": "bfa6b057",
   "metadata": {},
   "outputs": [
    {
     "data": {
      "text/plain": [
       "0        [vessel, sinks, mashima, stamped, design, wide...\n",
       "1        [vessel, sinks, mishima, stamped, design, whit...\n",
       "2        [custom, small, white, oval, vessel, sinks, de...\n",
       "3        [custom, blue, vessel, sink, designed, bathroo...\n",
       "4        [carved, cup, wheel, thrown, mug, coffee, mug,...\n",
       "                               ...                        \n",
       "11995              [rustic, bowl, second, choice, product]\n",
       "11996    [vintage, ashtray, bulgarian, painted, vintage...\n",
       "11997    [french, pitcher, beautiful, studio, wine, car...\n",
       "11998                 [cat, cup, mug, white, glaze, light]\n",
       "11999    [vase, flowers, home, decor, bedroom, country,...\n",
       "Name: title_x, Length: 12000, dtype: object"
      ]
     },
     "execution_count": 73,
     "metadata": {},
     "output_type": "execute_result"
    }
   ],
   "source": [
    "title"
   ]
  },
  {
   "cell_type": "markdown",
   "id": "4fae8d86",
   "metadata": {},
   "source": [
    "### Save the cleaned descriptions and titles to csv to use for clustering algorithm"
   ]
  },
  {
   "cell_type": "code",
   "execution_count": 74,
   "id": "d6ee2f31",
   "metadata": {},
   "outputs": [],
   "source": [
    "#title.to_csv('titles-cleaned.csv')\n",
    "#desc.to_csv('descriptions-cleaned.csv')"
   ]
  },
  {
   "cell_type": "markdown",
   "id": "f025c8e2",
   "metadata": {},
   "source": [
    "### Word Counts"
   ]
  },
  {
   "cell_type": "code",
   "execution_count": 75,
   "id": "eb32df58",
   "metadata": {},
   "outputs": [],
   "source": [
    "#define a function that reduces a column to a 1-dimensional series (to get word counts)\n",
    "def oneD(column):\n",
    " return pd.Series([x for list in column for x in list])"
   ]
  },
  {
   "cell_type": "code",
   "execution_count": 76,
   "id": "29db5cbf",
   "metadata": {},
   "outputs": [],
   "source": [
    "#get the value counts for each of the words in the description\n",
    "descWordCounts = oneD(desc).value_counts()"
   ]
  },
  {
   "cell_type": "code",
   "execution_count": 77,
   "id": "64ac6e02",
   "metadata": {},
   "outputs": [
    {
     "data": {
      "text/plain": [
       "safe          10104\n",
       "glaze          8983\n",
       "mug            7396\n",
       "dishwasher     6395\n",
       "fired          5373\n",
       "shop           5298\n",
       "glazed         5278\n",
       "unique         5267\n",
       "microwave      5178\n",
       "food           4987\n",
       "bowl           4940\n",
       "wheel          4353\n",
       "free           4203\n",
       "thrown         3870\n",
       "white          3804\n",
       "diameter       3632\n",
       "glazes         3625\n",
       "size           3507\n",
       "gift           3468\n",
       "blue           3437\n",
       "order          3253\n",
       "cup            3249\n",
       "perfect        3094\n",
       "height         3003\n",
       "small          2945\n",
       "color          2882\n",
       "contact        2840\n",
       "see            2792\n",
       "beautiful      2781\n",
       "tall           2770\n",
       "coffee         2738\n",
       "time           2596\n",
       "set            2583\n",
       "like           2582\n",
       "days           2580\n",
       "used           2544\n",
       "wide           2506\n",
       "mugs           2393\n",
       "kiln           2334\n",
       "great          2269\n",
       "studio         2254\n",
       "using          2222\n",
       "approx         2212\n",
       "note           2188\n",
       "lead           2185\n",
       "green          2183\n",
       "oven           2146\n",
       "plate          2144\n",
       "listing        2111\n",
       "questions      2109\n",
       "dtype: int64"
      ]
     },
     "execution_count": 77,
     "metadata": {},
     "output_type": "execute_result"
    }
   ],
   "source": [
    "#look at top 50 words in the descriptions\n",
    "top50desc = descWordCounts.head(50).sort_values(ascending=False)\n",
    "top50desc"
   ]
  },
  {
   "cell_type": "code",
   "execution_count": 78,
   "id": "66ed48a7",
   "metadata": {},
   "outputs": [],
   "source": [
    "#get the value counts for each of the words in the titles\n",
    "titleWordCounts = oneD(title).value_counts()"
   ]
  },
  {
   "cell_type": "code",
   "execution_count": 79,
   "id": "84e0b877",
   "metadata": {},
   "outputs": [
    {
     "data": {
      "text/plain": [
       "mug         6049\n",
       "bowl        3296\n",
       "coffee      2657\n",
       "cup         2377\n",
       "blue        1629\n",
       "gift        1619\n",
       "vase        1557\n",
       "tea         1397\n",
       "set         1351\n",
       "thrown      1340\n",
       "white       1146\n",
       "plate       1102\n",
       "dish        1065\n",
       "wheel        897\n",
       "large        889\n",
       "green        873\n",
       "small        800\n",
       "pot          779\n",
       "unique       772\n",
       "glaze        771\n",
       "vintage      684\n",
       "holder       673\n",
       "black        649\n",
       "serving      648\n",
       "rustic       647\n",
       "decor        605\n",
       "glazed       594\n",
       "ceramics     525\n",
       "mugs         524\n",
       "jar          516\n",
       "brown        493\n",
       "spoon        458\n",
       "flower       454\n",
       "art          438\n",
       "planter      422\n",
       "studio       403\n",
       "modern       388\n",
       "kitchen      386\n",
       "red          383\n",
       "cups         372\n",
       "bowls        371\n",
       "pendant      370\n",
       "jug          367\n",
       "design       355\n",
       "soap         350\n",
       "speckled     335\n",
       "home         333\n",
       "rest         321\n",
       "soup         314\n",
       "tumbler      305\n",
       "dtype: int64"
      ]
     },
     "execution_count": 79,
     "metadata": {},
     "output_type": "execute_result"
    }
   ],
   "source": [
    "#look at top 50 words in the titles\n",
    "top50title = titleWordCounts.head(50).sort_values(ascending=False)\n",
    "top50title"
   ]
  },
  {
   "cell_type": "markdown",
   "id": "10a06c68",
   "metadata": {},
   "source": [
    "## Tags"
   ]
  },
  {
   "cell_type": "code",
   "execution_count": 27,
   "id": "ed6df5c3",
   "metadata": {},
   "outputs": [],
   "source": [
    "#make all tags lowercase\n",
    "data['tags'] = data['tags'].str.lower()"
   ]
  },
  {
   "cell_type": "code",
   "execution_count": 28,
   "id": "ecbbf483",
   "metadata": {},
   "outputs": [],
   "source": [
    "#transform tags column from strings to lists\n",
    "data['tags'] = data['tags'].apply(eval)"
   ]
  },
  {
   "cell_type": "code",
   "execution_count": 29,
   "id": "8851777b",
   "metadata": {},
   "outputs": [
    {
     "data": {
      "text/plain": [
       "0        [stoneware, home decor, decoration, jeff brown...\n",
       "1        [stoneware, home decor, decoration, jeff brown...\n",
       "2        [stoneware, home decor, decoration, jeff brown...\n",
       "3        [stoneware, home decor, decoration, jeff brown...\n",
       "4        [little pig pottery, coffee cup, tea cup, ston...\n",
       "                               ...                        \n",
       "11995    [stoneware, minimalist pottery, vintage cerami...\n",
       "11996    [vintage ashtray, ceramic ashtray, trojan pott...\n",
       "11997    [french stoneware jug, stoneware pitcher, ston...\n",
       "11998    [white, gloss, glossy, cereal, soup, salad, pl...\n",
       "11999    [birthday, flowers, vase, living room, bedroom...\n",
       "Name: tags, Length: 12000, dtype: object"
      ]
     },
     "execution_count": 29,
     "metadata": {},
     "output_type": "execute_result"
    }
   ],
   "source": [
    "#look at the tags\n",
    "data['tags']"
   ]
  },
  {
   "cell_type": "code",
   "execution_count": 30,
   "id": "a3c6ad60",
   "metadata": {},
   "outputs": [],
   "source": [
    "#get just the tags\n",
    "tags = data['tags']"
   ]
  },
  {
   "cell_type": "markdown",
   "id": "04b49ca0",
   "metadata": {},
   "source": [
    "### Remove pottery-related stopwords from the tags"
   ]
  },
  {
   "cell_type": "code",
   "execution_count": 31,
   "id": "596185f2",
   "metadata": {},
   "outputs": [],
   "source": [
    "#define common stopwords\n",
    "stopTags = ['handmade','stoneware','pottery','ceramic','clay','handmade pottery','stoneware pottery','ceramics','handmade ceramics']"
   ]
  },
  {
   "cell_type": "code",
   "execution_count": 32,
   "id": "7866e0c2",
   "metadata": {},
   "outputs": [],
   "source": [
    "#remove stop words from tags\n",
    "for i in range (0, len(tags)):\n",
    "    for s in stopTags:\n",
    "        tags_list = tags[i]\n",
    "        if s in tags_list:\n",
    "            tags_list.remove(s)"
   ]
  },
  {
   "cell_type": "code",
   "execution_count": 33,
   "id": "17cae43e",
   "metadata": {},
   "outputs": [
    {
     "data": {
      "text/plain": [
       "0        [home decor, decoration, jeff brown pottery, s...\n",
       "1        [home decor, decoration, jeff brown pottery, s...\n",
       "2        [home decor, decoration, jeff brown pottery, s...\n",
       "3        [home decor, decoration, jeff brown pottery, s...\n",
       "4        [little pig pottery, coffee cup, tea cup, ston...\n",
       "                               ...                        \n",
       "11995    [minimalist pottery, vintage ceramics, tablewa...\n",
       "11996    [vintage ashtray, ceramic ashtray, trojan pott...\n",
       "11997    [french stoneware jug, stoneware pitcher, ston...\n",
       "11998    [white, gloss, glossy, cereal, soup, salad, pl...\n",
       "11999    [birthday, flowers, vase, living room, bedroom...\n",
       "Name: clean_tags, Length: 12000, dtype: object"
      ]
     },
     "execution_count": 33,
     "metadata": {},
     "output_type": "execute_result"
    }
   ],
   "source": [
    "#add clean tags to original df\n",
    "data['clean_tags'] = tags\n",
    "data['clean_tags']"
   ]
  },
  {
   "cell_type": "code",
   "execution_count": 34,
   "id": "99fd001a",
   "metadata": {},
   "outputs": [],
   "source": [
    "#get the value counts for each of the tags\n",
    "tagCounts = oneD(tags).value_counts()"
   ]
  },
  {
   "cell_type": "code",
   "execution_count": 98,
   "id": "c473fb96",
   "metadata": {},
   "outputs": [
    {
     "data": {
      "text/plain": [
       "coffee mug              1040\n",
       "mug                     1007\n",
       "stoneware mug            897\n",
       "gift                     836\n",
       "handmade mug             822\n",
       "ceramic mug              807\n",
       "pottery mug              729\n",
       "wheel thrown             658\n",
       "cup                      649\n",
       "coffee                   626\n",
       "coffee cup               613\n",
       "blue                     594\n",
       "bowl                     563\n",
       "unique                   532\n",
       "home decor               507\n",
       "tea                      484\n",
       "kitchen                  476\n",
       "vase                     454\n",
       "tea cup                  441\n",
       "tea mug                  392\n",
       "one of a kind            383\n",
       "housewarming gift        378\n",
       "green                    373\n",
       "wheel thrown pottery     367\n",
       "rustic                   357\n",
       "ceramic bowl             351\n",
       "stoneware bowl           344\n",
       "handmade bowl            339\n",
       "studio pottery           338\n",
       "white                    330\n",
       "handmade ceramic         317\n",
       "ceramic cup              300\n",
       "tableware                294\n",
       "gift for her             274\n",
       "stoneware vase           255\n",
       "pottery bowl             249\n",
       "wedding gift             248\n",
       "ceramic vase             242\n",
       "dinnerware               238\n",
       "serving bowl             235\n",
       "handmade vase            235\n",
       "handmade stoneware       220\n",
       "glaze                    216\n",
       "plate                    207\n",
       "handmade ceramic mug     203\n",
       "stoneware cup            202\n",
       "glazed                   202\n",
       "mugs                     201\n",
       "planter                  200\n",
       "hand thrown              198\n",
       "dtype: int64"
      ]
     },
     "execution_count": 98,
     "metadata": {},
     "output_type": "execute_result"
    }
   ],
   "source": [
    "#look at top 50 tags\n",
    "top50 = tagCounts.head(50).sort_values(ascending=False)\n",
    "top50"
   ]
  },
  {
   "cell_type": "code",
   "execution_count": 125,
   "id": "3cf1d3a3",
   "metadata": {},
   "outputs": [
    {
     "data": {
      "text/plain": [
       "tumbler                 103\n",
       "ceramic tumbler         100\n",
       "handmade tumbler         41\n",
       "coffee tumbler           30\n",
       "stoneware tumbler        30\n",
       "                       ... \n",
       "pitcher and tumblers      1\n",
       "shiny green tumbler       1\n",
       "wine tumblers             1\n",
       "sour cream tumbler        1\n",
       "blue tumblers             1\n",
       "Length: 119, dtype: int64"
      ]
     },
     "execution_count": 125,
     "metadata": {},
     "output_type": "execute_result"
    }
   ],
   "source": [
    "# the word \"spoon\" is appearing in the top words in the titles so I wanted to see what the related product is:\n",
    "tagCounts[tagCounts.index.str.contains(pat = 'tumbler')]"
   ]
  },
  {
   "cell_type": "markdown",
   "id": "dd4bd4df",
   "metadata": {},
   "source": [
    "I repeated the above for all the top words in the titles that were products so I could see if they were normally used in a phrase like"
   ]
  },
  {
   "cell_type": "code",
   "execution_count": 101,
   "id": "67497319",
   "metadata": {},
   "outputs": [
    {
     "data": {
      "text/plain": [
       "Text(0.5, 1.0, 'Frequency of Top 50 Tags')"
      ]
     },
     "execution_count": 101,
     "metadata": {},
     "output_type": "execute_result"
    },
    {
     "data": {
      "image/png": "[encoded data removed]",
      "text/plain": [
       "<Figure size 1008x432 with 1 Axes>"
      ]
     },
     "metadata": {
      "needs_background": "light"
     },
     "output_type": "display_data"
    }
   ],
   "source": [
    "#Plot the top tags\n",
    "fig, ax = plt.subplots(figsize = (14,6))\n",
    "ax.barh(top50.index,top50.values)\n",
    "ax.set_ylabel(\"Tag\", size = 12)\n",
    "ax.set_xlabel(\"Frequency\", size = 12)\n",
    "ax.set_title(\"Frequency of Top 50 Tags\", size = 14)"
   ]
  },
  {
   "cell_type": "markdown",
   "id": "14b7507b",
   "metadata": {},
   "source": [
    "### Get top 20 tags for top-favorited and top number-sold listings"
   ]
  },
  {
   "cell_type": "code",
   "execution_count": 37,
   "id": "708272c1",
   "metadata": {},
   "outputs": [],
   "source": [
    "#dataframe with tags, num of favorites\n",
    "itemData = data[['listing_id','clean_tags','num_favorers_x']]"
   ]
  },
  {
   "cell_type": "code",
   "execution_count": 38,
   "id": "157a9aed",
   "metadata": {},
   "outputs": [
    {
     "data": {
      "text/html": [
       "<div>\n",
       "<style scoped>\n",
       "    .dataframe tbody tr th:only-of-type {\n",
       "        vertical-align: middle;\n",
       "    }\n",
       "\n",
       "    .dataframe tbody tr th {\n",
       "        vertical-align: top;\n",
       "    }\n",
       "\n",
       "    .dataframe thead th {\n",
       "        text-align: right;\n",
       "    }\n",
       "</style>\n",
       "<table border=\"1\" class=\"dataframe\">\n",
       "  <thead>\n",
       "    <tr style=\"text-align: right;\">\n",
       "      <th></th>\n",
       "      <th>listing_id</th>\n",
       "      <th>clean_tags</th>\n",
       "      <th>num_favorers_x</th>\n",
       "    </tr>\n",
       "  </thead>\n",
       "  <tbody>\n",
       "    <tr>\n",
       "      <th>2679</th>\n",
       "      <td>175789619</td>\n",
       "      <td>[best selling mug, gift under 50, gift for dad...</td>\n",
       "      <td>26374</td>\n",
       "    </tr>\n",
       "    <tr>\n",
       "      <th>551</th>\n",
       "      <td>792180615</td>\n",
       "      <td>[ceramic mug, handpainted mug, nature mug, flo...</td>\n",
       "      <td>13334</td>\n",
       "    </tr>\n",
       "    <tr>\n",
       "      <th>1611</th>\n",
       "      <td>900330801</td>\n",
       "      <td>[wheel thrown pottery, fine art ceramics, dini...</td>\n",
       "      <td>12995</td>\n",
       "    </tr>\n",
       "    <tr>\n",
       "      <th>759</th>\n",
       "      <td>1086863643</td>\n",
       "      <td>[caffeine addict, coffee lover, gift for mom, ...</td>\n",
       "      <td>10207</td>\n",
       "    </tr>\n",
       "    <tr>\n",
       "      <th>3692</th>\n",
       "      <td>535025569</td>\n",
       "      <td>[coffee cup, parceline, tea cup, coffee mug, c...</td>\n",
       "      <td>9671</td>\n",
       "    </tr>\n",
       "    <tr>\n",
       "      <th>6160</th>\n",
       "      <td>741218574</td>\n",
       "      <td>[handmade ceramic mug, handmade mug, ceramic m...</td>\n",
       "      <td>8259</td>\n",
       "    </tr>\n",
       "    <tr>\n",
       "      <th>2317</th>\n",
       "      <td>128982522</td>\n",
       "      <td>[etsymudteam, claylicious, stoneware berry bow...</td>\n",
       "      <td>7926</td>\n",
       "    </tr>\n",
       "    <tr>\n",
       "      <th>2114</th>\n",
       "      <td>677424431</td>\n",
       "      <td>[handmade coffee mug, birthday gift mug, coffe...</td>\n",
       "      <td>7820</td>\n",
       "    </tr>\n",
       "    <tr>\n",
       "      <th>1835</th>\n",
       "      <td>635135322</td>\n",
       "      <td>[platter, serving platter, gray, wabi sabi, mo...</td>\n",
       "      <td>7412</td>\n",
       "    </tr>\n",
       "    <tr>\n",
       "      <th>3099</th>\n",
       "      <td>614766345</td>\n",
       "      <td>[pottery mug, black and white, turquoise, coff...</td>\n",
       "      <td>7317</td>\n",
       "    </tr>\n",
       "    <tr>\n",
       "      <th>34</th>\n",
       "      <td>621980272</td>\n",
       "      <td>[coffee, mug, rustic, cup, farmhouse, white, f...</td>\n",
       "      <td>7149</td>\n",
       "    </tr>\n",
       "    <tr>\n",
       "      <th>8314</th>\n",
       "      <td>889589581</td>\n",
       "      <td>[ceramic mug, ceramic cup, vintage cup, vintag...</td>\n",
       "      <td>7147</td>\n",
       "    </tr>\n",
       "    <tr>\n",
       "      <th>2414</th>\n",
       "      <td>792274678</td>\n",
       "      <td>[gift, kitchen, stove, coffee maker, hand thro...</td>\n",
       "      <td>7049</td>\n",
       "    </tr>\n",
       "    <tr>\n",
       "      <th>1226</th>\n",
       "      <td>682986141</td>\n",
       "      <td>[cup, mug, scandinavian, texture, shabby, blac...</td>\n",
       "      <td>6815</td>\n",
       "    </tr>\n",
       "    <tr>\n",
       "      <th>681</th>\n",
       "      <td>213362548</td>\n",
       "      <td>[mug, tea mug, ceramics and pottery, ceramic m...</td>\n",
       "      <td>6368</td>\n",
       "    </tr>\n",
       "    <tr>\n",
       "      <th>67</th>\n",
       "      <td>941852785</td>\n",
       "      <td>[pasta bowl, handmade pasta bowl, ceramic past...</td>\n",
       "      <td>5935</td>\n",
       "    </tr>\n",
       "    <tr>\n",
       "      <th>1613</th>\n",
       "      <td>895865304</td>\n",
       "      <td>[gift for her, personalised mug, custom mug, c...</td>\n",
       "      <td>5875</td>\n",
       "    </tr>\n",
       "    <tr>\n",
       "      <th>4505</th>\n",
       "      <td>1058376008</td>\n",
       "      <td>[hand built, kitchen, dining, table setting, m...</td>\n",
       "      <td>5808</td>\n",
       "    </tr>\n",
       "    <tr>\n",
       "      <th>552</th>\n",
       "      <td>656184828</td>\n",
       "      <td>[incense holder, handmade incense, incense bur...</td>\n",
       "      <td>5676</td>\n",
       "    </tr>\n",
       "    <tr>\n",
       "      <th>4464</th>\n",
       "      <td>783742223</td>\n",
       "      <td>[dinnerware set, stoneware set, dinner set, ru...</td>\n",
       "      <td>5526</td>\n",
       "    </tr>\n",
       "  </tbody>\n",
       "</table>\n",
       "</div>"
      ],
      "text/plain": [
       "      listing_id                                         clean_tags  \\\n",
       "2679   175789619  [best selling mug, gift under 50, gift for dad...   \n",
       "551    792180615  [ceramic mug, handpainted mug, nature mug, flo...   \n",
       "1611   900330801  [wheel thrown pottery, fine art ceramics, dini...   \n",
       "759   1086863643  [caffeine addict, coffee lover, gift for mom, ...   \n",
       "3692   535025569  [coffee cup, parceline, tea cup, coffee mug, c...   \n",
       "6160   741218574  [handmade ceramic mug, handmade mug, ceramic m...   \n",
       "2317   128982522  [etsymudteam, claylicious, stoneware berry bow...   \n",
       "2114   677424431  [handmade coffee mug, birthday gift mug, coffe...   \n",
       "1835   635135322  [platter, serving platter, gray, wabi sabi, mo...   \n",
       "3099   614766345  [pottery mug, black and white, turquoise, coff...   \n",
       "34     621980272  [coffee, mug, rustic, cup, farmhouse, white, f...   \n",
       "8314   889589581  [ceramic mug, ceramic cup, vintage cup, vintag...   \n",
       "2414   792274678  [gift, kitchen, stove, coffee maker, hand thro...   \n",
       "1226   682986141  [cup, mug, scandinavian, texture, shabby, blac...   \n",
       "681    213362548  [mug, tea mug, ceramics and pottery, ceramic m...   \n",
       "67     941852785  [pasta bowl, handmade pasta bowl, ceramic past...   \n",
       "1613   895865304  [gift for her, personalised mug, custom mug, c...   \n",
       "4505  1058376008  [hand built, kitchen, dining, table setting, m...   \n",
       "552    656184828  [incense holder, handmade incense, incense bur...   \n",
       "4464   783742223  [dinnerware set, stoneware set, dinner set, ru...   \n",
       "\n",
       "      num_favorers_x  \n",
       "2679           26374  \n",
       "551            13334  \n",
       "1611           12995  \n",
       "759            10207  \n",
       "3692            9671  \n",
       "6160            8259  \n",
       "2317            7926  \n",
       "2114            7820  \n",
       "1835            7412  \n",
       "3099            7317  \n",
       "34              7149  \n",
       "8314            7147  \n",
       "2414            7049  \n",
       "1226            6815  \n",
       "681             6368  \n",
       "67              5935  \n",
       "1613            5875  \n",
       "4505            5808  \n",
       "552             5676  \n",
       "4464            5526  "
      ]
     },
     "execution_count": 38,
     "metadata": {},
     "output_type": "execute_result"
    }
   ],
   "source": [
    "#look at top 20 listings according to number of favorers\n",
    "itemData.sort_values(by = ['num_favorers_x'], ascending = False).head(20)"
   ]
  },
  {
   "cell_type": "code",
   "execution_count": 39,
   "id": "bf689c36",
   "metadata": {},
   "outputs": [],
   "source": [
    "#this is the 3,873 listings with at least 10 favorers\n",
    "TenOrMore = itemData[itemData['num_favorers_x']>=10]\n",
    "#TenOrMore.shape"
   ]
  },
  {
   "cell_type": "code",
   "execution_count": 40,
   "id": "f2010fb3",
   "metadata": {},
   "outputs": [],
   "source": [
    "#get the value counts for each of the tags in TenOrMore\n",
    "tagCountsFavs = oneD(TenOrMore[\"clean_tags\"]).value_counts()\n",
    "top20Favs = tagCountsFavs.head(20).sort_values(ascending=True)"
   ]
  },
  {
   "cell_type": "code",
   "execution_count": 41,
   "id": "74440cfc",
   "metadata": {},
   "outputs": [
    {
     "data": {
      "text/plain": [
       "Text(0.5, 1.0, 'Top 20 Tags for Listings With at Least 10 Favorites')"
      ]
     },
     "execution_count": 41,
     "metadata": {},
     "output_type": "execute_result"
    },
    {
     "data": {
      "image/png": "[encoded data removed]",
      "text/plain": [
       "<Figure size 1008x432 with 1 Axes>"
      ]
     },
     "metadata": {
      "needs_background": "light"
     },
     "output_type": "display_data"
    }
   ],
   "source": [
    "#create the bar chart\n",
    "fig, ax = plt.subplots(figsize = (14,6))\n",
    "ax.barh(top20Favs.index,top20Favs.values)\n",
    "ax.set_ylabel(\"Tag\", size = 12)\n",
    "ax.set_xlabel(\"Frequency\", size = 12)\n",
    "ax.set_title(\"Top 20 Tags for Listings With at Least 10 Favorites\", size = 14)"
   ]
  },
  {
   "cell_type": "markdown",
   "id": "81b830b0",
   "metadata": {},
   "source": [
    "### Get top 20 tags for top-rated shops"
   ]
  },
  {
   "cell_type": "code",
   "execution_count": 42,
   "id": "4f8bee80",
   "metadata": {},
   "outputs": [],
   "source": [
    "#dataframe with tags, shop review count, and review average\n",
    "shopData = data[['listing_id','clean_tags','num_favorers_x','review_average', 'review_count']]"
   ]
  },
  {
   "cell_type": "code",
   "execution_count": 43,
   "id": "c06b99b3",
   "metadata": {},
   "outputs": [
    {
     "data": {
      "text/html": [
       "<div>\n",
       "<style scoped>\n",
       "    .dataframe tbody tr th:only-of-type {\n",
       "        vertical-align: middle;\n",
       "    }\n",
       "\n",
       "    .dataframe tbody tr th {\n",
       "        vertical-align: top;\n",
       "    }\n",
       "\n",
       "    .dataframe thead th {\n",
       "        text-align: right;\n",
       "    }\n",
       "</style>\n",
       "<table border=\"1\" class=\"dataframe\">\n",
       "  <thead>\n",
       "    <tr style=\"text-align: right;\">\n",
       "      <th></th>\n",
       "      <th>listing_id</th>\n",
       "      <th>clean_tags</th>\n",
       "      <th>num_favorers_x</th>\n",
       "      <th>review_average</th>\n",
       "      <th>review_count</th>\n",
       "    </tr>\n",
       "  </thead>\n",
       "  <tbody>\n",
       "    <tr>\n",
       "      <th>3751</th>\n",
       "      <td>1205153573</td>\n",
       "      <td>[handmade mug, coffee mug, mug, big mug]</td>\n",
       "      <td>0</td>\n",
       "      <td>5.0</td>\n",
       "      <td>9.0</td>\n",
       "    </tr>\n",
       "    <tr>\n",
       "      <th>8576</th>\n",
       "      <td>1187378698</td>\n",
       "      <td>[handmade mugs, pottery mug, hand carved mug, ...</td>\n",
       "      <td>2</td>\n",
       "      <td>5.0</td>\n",
       "      <td>116.0</td>\n",
       "    </tr>\n",
       "    <tr>\n",
       "      <th>10047</th>\n",
       "      <td>97390875</td>\n",
       "      <td>[creamer and sugar, sugar bowl, cream pitcher,...</td>\n",
       "      <td>31</td>\n",
       "      <td>5.0</td>\n",
       "      <td>46.0</td>\n",
       "    </tr>\n",
       "    <tr>\n",
       "      <th>10048</th>\n",
       "      <td>782685277</td>\n",
       "      <td>[party plates, pottery plates, trinket dishes,...</td>\n",
       "      <td>1</td>\n",
       "      <td>5.0</td>\n",
       "      <td>46.0</td>\n",
       "    </tr>\n",
       "    <tr>\n",
       "      <th>10049</th>\n",
       "      <td>272555896</td>\n",
       "      <td>[serving dish, platter, home decor, housewares...</td>\n",
       "      <td>9</td>\n",
       "      <td>5.0</td>\n",
       "      <td>46.0</td>\n",
       "    </tr>\n",
       "    <tr>\n",
       "      <th>10050</th>\n",
       "      <td>241697043</td>\n",
       "      <td>[ceramics and pottery, coffee mug, ceramic tea...</td>\n",
       "      <td>3</td>\n",
       "      <td>5.0</td>\n",
       "      <td>46.0</td>\n",
       "    </tr>\n",
       "    <tr>\n",
       "      <th>10051</th>\n",
       "      <td>200944512</td>\n",
       "      <td>[handmade bowl, ceramic bowl, pottery and cera...</td>\n",
       "      <td>5</td>\n",
       "      <td>5.0</td>\n",
       "      <td>46.0</td>\n",
       "    </tr>\n",
       "    <tr>\n",
       "      <th>8578</th>\n",
       "      <td>1201317033</td>\n",
       "      <td>[mug, pottery mug, wheel thrown mug, hand carv...</td>\n",
       "      <td>0</td>\n",
       "      <td>5.0</td>\n",
       "      <td>116.0</td>\n",
       "    </tr>\n",
       "    <tr>\n",
       "      <th>8577</th>\n",
       "      <td>1201322843</td>\n",
       "      <td>[mug, pottery mug, wheel thrown mug, hand carv...</td>\n",
       "      <td>1</td>\n",
       "      <td>5.0</td>\n",
       "      <td>116.0</td>\n",
       "    </tr>\n",
       "    <tr>\n",
       "      <th>10056</th>\n",
       "      <td>1111622988</td>\n",
       "      <td>[garden bells, hanging bells, pottery bells, s...</td>\n",
       "      <td>1</td>\n",
       "      <td>5.0</td>\n",
       "      <td>14.0</td>\n",
       "    </tr>\n",
       "    <tr>\n",
       "      <th>10031</th>\n",
       "      <td>963256394</td>\n",
       "      <td>[trinket dish, blue, soap dish, tea bag holder...</td>\n",
       "      <td>9</td>\n",
       "      <td>5.0</td>\n",
       "      <td>46.0</td>\n",
       "    </tr>\n",
       "    <tr>\n",
       "      <th>10058</th>\n",
       "      <td>841281061</td>\n",
       "      <td>[beige cup, modern pottery, unique mug, mugs f...</td>\n",
       "      <td>21</td>\n",
       "      <td>5.0</td>\n",
       "      <td>4.0</td>\n",
       "    </tr>\n",
       "    <tr>\n",
       "      <th>8575</th>\n",
       "      <td>1187392804</td>\n",
       "      <td>[mug, handmade mugs, pottery mug, wheel thrown...</td>\n",
       "      <td>3</td>\n",
       "      <td>5.0</td>\n",
       "      <td>116.0</td>\n",
       "    </tr>\n",
       "    <tr>\n",
       "      <th>10059</th>\n",
       "      <td>1198919195</td>\n",
       "      <td>[made by woman, beige cup, cup with a pattern,...</td>\n",
       "      <td>2</td>\n",
       "      <td>5.0</td>\n",
       "      <td>4.0</td>\n",
       "    </tr>\n",
       "    <tr>\n",
       "      <th>10060</th>\n",
       "      <td>820491746</td>\n",
       "      <td>[made by woman, beige cup, cup with a pattern,...</td>\n",
       "      <td>22</td>\n",
       "      <td>5.0</td>\n",
       "      <td>4.0</td>\n",
       "    </tr>\n",
       "    <tr>\n",
       "      <th>10061</th>\n",
       "      <td>906300419</td>\n",
       "      <td>[ceramic lidded jar, storage jars, kitchenware...</td>\n",
       "      <td>34</td>\n",
       "      <td>5.0</td>\n",
       "      <td>4.0</td>\n",
       "    </tr>\n",
       "    <tr>\n",
       "      <th>10084</th>\n",
       "      <td>267246992</td>\n",
       "      <td>[mugs]</td>\n",
       "      <td>8</td>\n",
       "      <td>5.0</td>\n",
       "      <td>1.0</td>\n",
       "    </tr>\n",
       "    <tr>\n",
       "      <th>8574</th>\n",
       "      <td>1187400596</td>\n",
       "      <td>[mug, handmade mugs, pottery mug, wheel thrown...</td>\n",
       "      <td>2</td>\n",
       "      <td>5.0</td>\n",
       "      <td>116.0</td>\n",
       "    </tr>\n",
       "    <tr>\n",
       "      <th>10046</th>\n",
       "      <td>285962727</td>\n",
       "      <td>[teabag rest, teabag holder, tea bag holder, t...</td>\n",
       "      <td>7</td>\n",
       "      <td>5.0</td>\n",
       "      <td>46.0</td>\n",
       "    </tr>\n",
       "    <tr>\n",
       "      <th>10045</th>\n",
       "      <td>173668326</td>\n",
       "      <td>[cupcake stand, cupcake plate, housewarming, c...</td>\n",
       "      <td>33</td>\n",
       "      <td>5.0</td>\n",
       "      <td>46.0</td>\n",
       "    </tr>\n",
       "  </tbody>\n",
       "</table>\n",
       "</div>"
      ],
      "text/plain": [
       "       listing_id                                         clean_tags  \\\n",
       "3751   1205153573           [handmade mug, coffee mug, mug, big mug]   \n",
       "8576   1187378698  [handmade mugs, pottery mug, hand carved mug, ...   \n",
       "10047    97390875  [creamer and sugar, sugar bowl, cream pitcher,...   \n",
       "10048   782685277  [party plates, pottery plates, trinket dishes,...   \n",
       "10049   272555896  [serving dish, platter, home decor, housewares...   \n",
       "10050   241697043  [ceramics and pottery, coffee mug, ceramic tea...   \n",
       "10051   200944512  [handmade bowl, ceramic bowl, pottery and cera...   \n",
       "8578   1201317033  [mug, pottery mug, wheel thrown mug, hand carv...   \n",
       "8577   1201322843  [mug, pottery mug, wheel thrown mug, hand carv...   \n",
       "10056  1111622988  [garden bells, hanging bells, pottery bells, s...   \n",
       "10031   963256394  [trinket dish, blue, soap dish, tea bag holder...   \n",
       "10058   841281061  [beige cup, modern pottery, unique mug, mugs f...   \n",
       "8575   1187392804  [mug, handmade mugs, pottery mug, wheel thrown...   \n",
       "10059  1198919195  [made by woman, beige cup, cup with a pattern,...   \n",
       "10060   820491746  [made by woman, beige cup, cup with a pattern,...   \n",
       "10061   906300419  [ceramic lidded jar, storage jars, kitchenware...   \n",
       "10084   267246992                                             [mugs]   \n",
       "8574   1187400596  [mug, handmade mugs, pottery mug, wheel thrown...   \n",
       "10046   285962727  [teabag rest, teabag holder, tea bag holder, t...   \n",
       "10045   173668326  [cupcake stand, cupcake plate, housewarming, c...   \n",
       "\n",
       "       num_favorers_x  review_average  review_count  \n",
       "3751                0             5.0           9.0  \n",
       "8576                2             5.0         116.0  \n",
       "10047              31             5.0          46.0  \n",
       "10048               1             5.0          46.0  \n",
       "10049               9             5.0          46.0  \n",
       "10050               3             5.0          46.0  \n",
       "10051               5             5.0          46.0  \n",
       "8578                0             5.0         116.0  \n",
       "8577                1             5.0         116.0  \n",
       "10056               1             5.0          14.0  \n",
       "10031               9             5.0          46.0  \n",
       "10058              21             5.0           4.0  \n",
       "8575                3             5.0         116.0  \n",
       "10059               2             5.0           4.0  \n",
       "10060              22             5.0           4.0  \n",
       "10061              34             5.0           4.0  \n",
       "10084               8             5.0           1.0  \n",
       "8574                2             5.0         116.0  \n",
       "10046               7             5.0          46.0  \n",
       "10045              33             5.0          46.0  "
      ]
     },
     "execution_count": 43,
     "metadata": {},
     "output_type": "execute_result"
    }
   ],
   "source": [
    "shopData.sort_values(by = ['review_average'], ascending = False).head(20)"
   ]
  },
  {
   "cell_type": "code",
   "execution_count": 44,
   "id": "81e32f74",
   "metadata": {},
   "outputs": [],
   "source": [
    "#this is the 9036 listings from shops with at least 10 reviews\n",
    "TenReviews =  shopData[shopData['review_count']>=10]\n",
    "#TenReviews"
   ]
  },
  {
   "cell_type": "code",
   "execution_count": 45,
   "id": "d5467be1",
   "metadata": {},
   "outputs": [],
   "source": [
    "#get the value counts for each of the tags in TenReviews\n",
    "tagCountsShops = oneD(TenReviews[\"clean_tags\"]).value_counts()\n",
    "top20Shops = tagCountsShops.head(20).sort_values(ascending=True)"
   ]
  },
  {
   "cell_type": "code",
   "execution_count": 46,
   "id": "8d5a3bb1",
   "metadata": {},
   "outputs": [
    {
     "data": {
      "text/plain": [
       "Text(0.5, 1.0, 'Top 20 Tags for Listings from Shops with at Least 10 Reviews')"
      ]
     },
     "execution_count": 46,
     "metadata": {},
     "output_type": "execute_result"
    },
    {
     "data": {
      "image/png": "[encoded data removed]",
      "text/plain": [
       "<Figure size 1008x432 with 1 Axes>"
      ]
     },
     "metadata": {
      "needs_background": "light"
     },
     "output_type": "display_data"
    }
   ],
   "source": [
    "#create the bar chart\n",
    "fig, ax = plt.subplots(figsize = (14,6))\n",
    "ax.barh(top20Shops.index,top20Shops.values)\n",
    "ax.set_ylabel(\"Tag\", size = 12)\n",
    "ax.set_xlabel(\"Frequency\", size = 12)\n",
    "ax.set_title(\"Top 20 Tags for Listings from Shops with at Least 10 Reviews\", size = 14)"
   ]
  }
 ],
 "metadata": {
  "kernelspec": {
   "display_name": "Python 3",
   "language": "python",
   "name": "python3"
  },
  "language_info": {
   "codemirror_mode": {
    "name": "ipython",
    "version": 3
   },
   "file_extension": ".py",
   "mimetype": "text/x-python",
   "name": "python",
   "nbconvert_exporter": "python",
   "pygments_lexer": "ipython3",
   "version": "3.8.8"
  }
 },
 "nbformat": 4,
 "nbformat_minor": 5
}
