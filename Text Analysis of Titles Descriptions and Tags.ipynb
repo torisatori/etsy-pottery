{
 "cells": [
  {
   "cell_type": "markdown",
   "id": "ff64b22b",
   "metadata": {},
   "source": [
    "# Text Analysis of Titles Descriptions and Tags"
   ]
  },
  {
   "cell_type": "code",
   "execution_count": 52,
   "id": "d61d915d",
   "metadata": {},
   "outputs": [],
   "source": [
    "import pandas as pd\n",
    "import numpy as np\n",
    "import re\n",
    "import datetime  \n",
    "import matplotlib.pyplot as plt\n",
    "import seaborn as sns\n",
    "\n",
    "#natural language toolkit for list of stop words\n",
    "import nltk \n",
    "#nltk.download('stopwords')\n",
    "from nltk.corpus import stopwords"
   ]
  },
  {
   "cell_type": "code",
   "execution_count": 53,
   "id": "74217d1f",
   "metadata": {},
   "outputs": [],
   "source": [
    "data = pd.read_csv('data/mergedData041022clean.csv')"
   ]
  },
  {
   "cell_type": "markdown",
   "id": "f6456f16",
   "metadata": {},
   "source": [
    "## Titles and Descriptions"
   ]
  },
  {
   "cell_type": "code",
   "execution_count": 54,
   "id": "e155a998",
   "metadata": {},
   "outputs": [],
   "source": [
    "#make all title and descriptions lowercase\n",
    "title = data['title_listing'].str.lower()\n",
    "desc = data['description'].str.lower()"
   ]
  },
  {
   "cell_type": "code",
   "execution_count": 55,
   "id": "df875d97",
   "metadata": {},
   "outputs": [
    {
     "data": {
      "text/plain": [
       "0                                      matte black mug\n",
       "1    sample / second sale - 11 oz handmade ceramic ...\n",
       "2    8 oz / 11 oz / 14 oz handmade ceramic mug, sto...\n",
       "3    3 oz handmade ceramic espresso cup, sake cup, ...\n",
       "4    13 oz / 15 oz handmade ceramic mug, stoneware ...\n",
       "Name: title_listing, dtype: object"
      ]
     },
     "execution_count": 55,
     "metadata": {},
     "output_type": "execute_result"
    }
   ],
   "source": [
    "#look at some titles\n",
    "title.head(5)"
   ]
  },
  {
   "cell_type": "code",
   "execution_count": 56,
   "id": "19d5ad90",
   "metadata": {},
   "outputs": [
    {
     "data": {
      "text/plain": [
       "0    matte black mug, perfect for your morning coff...\n",
       "1    --sample / second sale for handmade stoneware ...\n",
       "2    handmade stoneware mugs for coffee or tea or s...\n",
       "3    a handmade stoneware tumbler for espresso, sak...\n",
       "4    handmade stoneware cups for coffee or tea.\\n\\n...\n",
       "Name: description, dtype: object"
      ]
     },
     "execution_count": 56,
     "metadata": {},
     "output_type": "execute_result"
    }
   ],
   "source": [
    "#look at some descriptions\n",
    "desc.head(5)"
   ]
  },
  {
   "cell_type": "markdown",
   "id": "697cb742",
   "metadata": {},
   "source": [
    "### Looking at listings that contain specific products of interest"
   ]
  },
  {
   "cell_type": "code",
   "execution_count": 57,
   "id": "ca9b27fc",
   "metadata": {},
   "outputs": [],
   "source": [
    "# function that returns percentage of listings that contain a specific word\n",
    "\n",
    "def percentage_item(text, word):\n",
    "    true = text[text.str.contains(' ' + word + ' ')==True]\n",
    "    percent = len(true)/len(text)\n",
    "    return percent"
   ]
  },
  {
   "cell_type": "code",
   "execution_count": 59,
   "id": "7ab46093",
   "metadata": {},
   "outputs": [
    {
     "data": {
      "text/plain": [
       "0.11842572850035536"
      ]
     },
     "execution_count": 59,
     "metadata": {},
     "output_type": "execute_result"
    }
   ],
   "source": [
    "#percentage of listings that contain the word \"mug\" in the TITLE\n",
    "percentage_item(title, \"mug\")"
   ]
  },
  {
   "cell_type": "code",
   "execution_count": 9,
   "id": "3f18e494",
   "metadata": {},
   "outputs": [
    {
     "data": {
      "text/plain": [
       "0.1896766169154229"
      ]
     },
     "execution_count": 9,
     "metadata": {},
     "output_type": "execute_result"
    }
   ],
   "source": [
    "#percentage of listings that contain the word \"mug\" in the DESCRIPTION\n",
    "percentage_item(desc, \"mug\")"
   ]
  },
  {
   "cell_type": "code",
   "execution_count": 10,
   "id": "aea935b7",
   "metadata": {},
   "outputs": [
    {
     "name": "stdout",
     "output_type": "stream",
     "text": [
      "mug 0.11842572850035536 0.1896766169154229\n",
      "plate 0.02407604832977967 0.05001776830135039\n",
      "bowl 0.07942430703624734 0.13397299218194741\n",
      "jar 0.014036958066808812 0.018834399431414357\n",
      "planter 0.014658848614072495 0.01750177683013504\n",
      "berry bowl 0.0010660980810234541 0.0010660980810234541\n",
      "butter dish 0.002398720682302772 0.0026652452025586353\n",
      "cup 0.0619225302061123 0.10403340440653873\n",
      "tumbler 0.008795309168443496 0.016702203269367447\n",
      "bacon cooker 0.0 0.00026652452025586353\n",
      "spoon rest 0.006218905472636816 0.013415067519545132\n"
     ]
    }
   ],
   "source": [
    "#percentage of listings that contain a specific product in their title and description\n",
    "\n",
    "items = ['mug', 'plate', 'bowl', 'jar', 'planter', 'berry bowl', 'butter dish', 'cup', 'tumbler', 'bacon cooker', 'spoon rest']\n",
    "\n",
    "for i in items:\n",
    "    print(i, percentage_item(title, i), percentage_item(desc, i))\n"
   ]
  },
  {
   "cell_type": "markdown",
   "id": "1eaff512",
   "metadata": {},
   "source": [
    "### Remove punctuation, special characters and stop words from the titles and descriptons"
   ]
  },
  {
   "cell_type": "code",
   "execution_count": 11,
   "id": "796a233d",
   "metadata": {},
   "outputs": [],
   "source": [
    "# function that removes \"\\n\", links, as well as special characters and numbers fromt text\n",
    "def clean_text(text):\n",
    "    for i in range (0, len(text)):\n",
    "        n = '\\n'\n",
    "        string = text[i]\n",
    "        if n in string:\n",
    "            string = string.replace(n, \" \")\n",
    "            text[i] = string\n",
    "        text[i] = re.sub(\"[^A-za-z]+\",\" \", text[i])\n",
    "        text[i] = re.sub(r\"http\\S+\",\"\",text[i])\n",
    "        text[i] = re.sub(r\"www\\S+\",\"\",text[i])"
   ]
  },
  {
   "cell_type": "code",
   "execution_count": 12,
   "id": "e970c30e",
   "metadata": {},
   "outputs": [],
   "source": [
    "# Clean descriptions and titles\n",
    "clean_text(desc)\n",
    "clean_text(title)"
   ]
  },
  {
   "cell_type": "code",
   "execution_count": 13,
   "id": "6aaafbad",
   "metadata": {},
   "outputs": [],
   "source": [
    "#split the title strings on the spaces\n",
    "title = title.str.split(\" \")\n",
    "desc = desc.str.split(\" \")"
   ]
  },
  {
   "cell_type": "code",
   "execution_count": 14,
   "id": "e80c5aef",
   "metadata": {},
   "outputs": [],
   "source": [
    "## define the stopwords\n",
    "stop = stopwords.words('english')"
   ]
  },
  {
   "cell_type": "code",
   "execution_count": 15,
   "id": "2c5b8a1e",
   "metadata": {},
   "outputs": [],
   "source": [
    "# add pottery-related keywords, and other irrelevant words to stopwords\n",
    "stop.extend(['handmade','stoneware','pottery','ceramic','clay','x', '|','cm', 'oz', 'ml', ' ', '', 'www', 'com',\n",
    "'shipping','item','items','hand','made','piece','pieces','make','please','one','use','may','inches','also',\n",
    "'high','etsy', 'quot', 'wheel', 'thrown', 'wheelthrown', 'glaze', 'glazed'])"
   ]
  },
  {
   "cell_type": "markdown",
   "id": "ee533752",
   "metadata": {},
   "source": [
    "### TO DO: GET THIS FUNCTION TO WORK \n",
    "I dont know if this is worth the time to fix, maybe just keep the for loops for now"
   ]
  },
  {
   "cell_type": "markdown",
   "id": "5e09bd55",
   "metadata": {},
   "source": [
    "#### TO DO: Turn this into a function (This function isn't working, fix later)\n",
    "\"\"\" \n",
    "Args:\n",
    "txt (series): the text as a series of lists\n",
    "wrds (list): the stopwords to be removed from the list\n",
    "\n",
    "\n",
    "\"\"\"\n",
    "def remove_stopwords(txt, wrds):\n",
    "    txt = txt.reset_index(drop=True) #reset the index\n",
    "    for i in range (0, len(txt)):\n",
    "        for s in wrds:\n",
    "            list = txt[i]\n",
    "            list = [w for w in list if w != s]\n",
    "            txt[i] = list"
   ]
  },
  {
   "cell_type": "code",
   "execution_count": 16,
   "id": "73334d43",
   "metadata": {},
   "outputs": [],
   "source": [
    "#test = desc.iloc[11995:]\n",
    "#test = test.reset_index(drop=True)"
   ]
  },
  {
   "cell_type": "markdown",
   "id": "f1e629fa",
   "metadata": {},
   "source": [
    "### Keeping these here for now but I really want the function to work with everything"
   ]
  },
  {
   "cell_type": "code",
   "execution_count": 17,
   "id": "9b72122b",
   "metadata": {},
   "outputs": [],
   "source": [
    "# remove all instances of the stop words from the descriptions\n",
    "for i in range (0, len(desc)):\n",
    "    for s in stop:\n",
    "        list = desc[i]\n",
    "        list = [w for w in list if w != s]\n",
    "        desc[i] = list"
   ]
  },
  {
   "cell_type": "code",
   "execution_count": 18,
   "id": "4aae7b68",
   "metadata": {},
   "outputs": [],
   "source": [
    "# remove all instances of the stop words from the titles\n",
    "for i in range (0, len(title)):\n",
    "    for s in stop:\n",
    "        list = title[i]\n",
    "        list = [w for w in list if w != s]\n",
    "        title[i] = list"
   ]
  },
  {
   "cell_type": "markdown",
   "id": "4fae8d86",
   "metadata": {},
   "source": [
    "### Save the cleaned descriptions and titles to csv to use for clustering algorithm"
   ]
  },
  {
   "cell_type": "code",
   "execution_count": 19,
   "id": "d6ee2f31",
   "metadata": {},
   "outputs": [],
   "source": [
    "title.to_csv('data/titles-cleaned041022.csv')\n",
    "desc.to_csv('data/descriptions-cleaned041022.csv')"
   ]
  },
  {
   "cell_type": "markdown",
   "id": "f025c8e2",
   "metadata": {},
   "source": [
    "### Word Counts"
   ]
  },
  {
   "cell_type": "code",
   "execution_count": 20,
   "id": "eb32df58",
   "metadata": {},
   "outputs": [],
   "source": [
    "#define a function that reduces a column to a 1-dimensional series (to get word counts)\n",
    "def oneD(column):\n",
    " return pd.Series([x for list in column for x in list])"
   ]
  },
  {
   "cell_type": "code",
   "execution_count": 21,
   "id": "29db5cbf",
   "metadata": {},
   "outputs": [],
   "source": [
    "#get the value counts for each of the words in the description\n",
    "descWordCounts = oneD(desc).value_counts()"
   ]
  },
  {
   "cell_type": "code",
   "execution_count": 22,
   "id": "5b65fd35",
   "metadata": {},
   "outputs": [
    {
     "data": {
      "image/png": "[encoded data removed]",
      "text/plain": [
       "<Figure size 1080x576 with 1 Axes>"
      ]
     },
     "metadata": {
      "needs_background": "light"
     },
     "output_type": "display_data"
    }
   ],
   "source": [
    "# Sort top words in the descriptions\n",
    "top25desc = descWordCounts.head(25).sort_values(ascending=False)\n",
    "\n",
    "plt.figure(figsize = (15,8))\n",
    "\n",
    "p = sns.barplot(x=top25desc.values, y=top25desc.index, palette='light:#639c6f_r').set(title='Top 25 Words in the Descriptions')"
   ]
  },
  {
   "cell_type": "code",
   "execution_count": 23,
   "id": "66ed48a7",
   "metadata": {},
   "outputs": [],
   "source": [
    "#get the value counts for each of the words in the titles\n",
    "titleWordCounts = oneD(title).value_counts()"
   ]
  },
  {
   "cell_type": "code",
   "execution_count": 24,
   "id": "84e0b877",
   "metadata": {},
   "outputs": [
    {
     "data": {
      "image/png": "[encoded data removed]",
      "text/plain": [
       "<Figure size 1080x576 with 1 Axes>"
      ]
     },
     "metadata": {
      "needs_background": "light"
     },
     "output_type": "display_data"
    }
   ],
   "source": [
    "#look at top 25 words in the titles\n",
    "top25title = titleWordCounts.head(25).sort_values(ascending=False)\n",
    "\n",
    "plt.figure(figsize = (15,8))\n",
    "\n",
    "p = sns.barplot(x=top25title.values, y=top25title.index, palette='light:#6255aa_r').set(title='Top 25 Words in the Titles')"
   ]
  },
  {
   "cell_type": "markdown",
   "id": "10a06c68",
   "metadata": {},
   "source": [
    "## Tags"
   ]
  },
  {
   "cell_type": "code",
   "execution_count": 25,
   "id": "ed6df5c3",
   "metadata": {},
   "outputs": [],
   "source": [
    "#make all tags lowercase\n",
    "data['tags'] = data['tags'].str.lower()"
   ]
  },
  {
   "cell_type": "code",
   "execution_count": 26,
   "id": "ecbbf483",
   "metadata": {},
   "outputs": [],
   "source": [
    "#transform tags column from strings to lists\n",
    "data['tags'] = data['tags'].apply(eval)"
   ]
  },
  {
   "cell_type": "code",
   "execution_count": 27,
   "id": "a3c6ad60",
   "metadata": {},
   "outputs": [],
   "source": [
    "#get just the tags\n",
    "tags = data['tags']"
   ]
  },
  {
   "cell_type": "markdown",
   "id": "04b49ca0",
   "metadata": {},
   "source": [
    "### Remove pottery-related stopwords from the tags"
   ]
  },
  {
   "cell_type": "code",
   "execution_count": 61,
   "id": "596185f2",
   "metadata": {},
   "outputs": [],
   "source": [
    "#define common stopwords\n",
    "stopTags = ['handmade','stoneware','pottery','ceramic','clay','handmade pottery',\n",
    "            'stoneware pottery','ceramics','handmade ceramics','gift','wheel thrown','one of a kind']"
   ]
  },
  {
   "cell_type": "code",
   "execution_count": 63,
   "id": "7866e0c2",
   "metadata": {},
   "outputs": [],
   "source": [
    "#remove stop words from tags\n",
    "for i in range (0, len(tags)):\n",
    "    for s in stopTags:\n",
    "        tags_list = tags[i]\n",
    "        if s in tags_list:\n",
    "            tags_list.remove(s)"
   ]
  },
  {
   "cell_type": "code",
   "execution_count": 64,
   "id": "17cae43e",
   "metadata": {},
   "outputs": [],
   "source": [
    "#add clean tags to original df\n",
    "data['clean_tags'] = tags"
   ]
  },
  {
   "cell_type": "code",
   "execution_count": 66,
   "id": "6969fa5d",
   "metadata": {},
   "outputs": [],
   "source": [
    "# save dataframe with clean tags \n",
    "data.to_csv('data/tags-cleaned041022.csv')"
   ]
  },
  {
   "cell_type": "code",
   "execution_count": 67,
   "id": "99fd001a",
   "metadata": {},
   "outputs": [],
   "source": [
    "#get the value counts for each of the tags\n",
    "tagCounts = oneD(tags).value_counts()"
   ]
  },
  {
   "cell_type": "code",
   "execution_count": 68,
   "id": "c473fb96",
   "metadata": {},
   "outputs": [],
   "source": [
    "# Sort the top tags overall\n",
    "top25 = tagCounts.head(25).sort_values(ascending=False)"
   ]
  },
  {
   "cell_type": "code",
   "execution_count": 69,
   "id": "3cf1d3a3",
   "metadata": {},
   "outputs": [
    {
     "data": {
      "text/plain": [
       "spoon rest              182\n",
       "ceramic spoon rest       69\n",
       "pottery spoon rest       51\n",
       "handmade spoon rest      48\n",
       "stoneware spoon rest     39\n",
       "                       ... \n",
       "spoon plate               1\n",
       "wooden spoon              1\n",
       "spoon rest gift           1\n",
       "spoon rest animals        1\n",
       "yellow blue spoon         1\n",
       "Length: 271, dtype: int64"
      ]
     },
     "execution_count": 69,
     "metadata": {},
     "output_type": "execute_result"
    }
   ],
   "source": [
    "# the word \"spoon\" is appearing in the top words in the titles so I wanted to see what the related tags are:\n",
    "tagCounts[tagCounts.index.str.contains(pat = 'spoon')]"
   ]
  },
  {
   "cell_type": "markdown",
   "id": "dd4bd4df",
   "metadata": {},
   "source": [
    "#### I repeated the above for all the top words in the titles that were products so I could see if they were normally used in a phrase like \"spoon rest\" rather than individually and used this later on in the \"Business Information\" notebook"
   ]
  },
  {
   "cell_type": "markdown",
   "id": "14b7507b",
   "metadata": {},
   "source": [
    "### Get top 20 tags for top-favorited and top rated shops"
   ]
  },
  {
   "cell_type": "code",
   "execution_count": 72,
   "id": "708272c1",
   "metadata": {},
   "outputs": [],
   "source": [
    "#dataframe with tags, num of favorites\n",
    "itemData = data[['listing_id','clean_tags','num_favorers_listing']]"
   ]
  },
  {
   "cell_type": "code",
   "execution_count": 73,
   "id": "157a9aed",
   "metadata": {},
   "outputs": [
    {
     "data": {
      "text/html": [
       "<div>\n",
       "<style scoped>\n",
       "    .dataframe tbody tr th:only-of-type {\n",
       "        vertical-align: middle;\n",
       "    }\n",
       "\n",
       "    .dataframe tbody tr th {\n",
       "        vertical-align: top;\n",
       "    }\n",
       "\n",
       "    .dataframe thead th {\n",
       "        text-align: right;\n",
       "    }\n",
       "</style>\n",
       "<table border=\"1\" class=\"dataframe\">\n",
       "  <thead>\n",
       "    <tr style=\"text-align: right;\">\n",
       "      <th></th>\n",
       "      <th>listing_id</th>\n",
       "      <th>clean_tags</th>\n",
       "      <th>num_favorers_listing</th>\n",
       "    </tr>\n",
       "  </thead>\n",
       "  <tbody>\n",
       "    <tr>\n",
       "      <th>3451</th>\n",
       "      <td>175789619</td>\n",
       "      <td>[best selling mug, gift under 50, gift for dad...</td>\n",
       "      <td>26530</td>\n",
       "    </tr>\n",
       "    <tr>\n",
       "      <th>1849</th>\n",
       "      <td>792180615</td>\n",
       "      <td>[ceramic mug, handpainted mug, nature mug, flo...</td>\n",
       "      <td>13605</td>\n",
       "    </tr>\n",
       "    <tr>\n",
       "      <th>936</th>\n",
       "      <td>900330801</td>\n",
       "      <td>[wheel thrown pottery, fine art ceramics, dini...</td>\n",
       "      <td>13324</td>\n",
       "    </tr>\n",
       "    <tr>\n",
       "      <th>2219</th>\n",
       "      <td>1086863643</td>\n",
       "      <td>[caffeine addict, coffee lover, gift for mom, ...</td>\n",
       "      <td>10564</td>\n",
       "    </tr>\n",
       "    <tr>\n",
       "      <th>10185</th>\n",
       "      <td>535025569</td>\n",
       "      <td>[coffee cup, parceline, tea cup, coffee mug, c...</td>\n",
       "      <td>9678</td>\n",
       "    </tr>\n",
       "    <tr>\n",
       "      <th>2</th>\n",
       "      <td>741218574</td>\n",
       "      <td>[handmade ceramic mug, handmade mug, ceramic m...</td>\n",
       "      <td>8344</td>\n",
       "    </tr>\n",
       "    <tr>\n",
       "      <th>40</th>\n",
       "      <td>677424431</td>\n",
       "      <td>[handmade coffee mug, birthday gift mug, coffe...</td>\n",
       "      <td>7948</td>\n",
       "    </tr>\n",
       "    <tr>\n",
       "      <th>445</th>\n",
       "      <td>128982522</td>\n",
       "      <td>[etsymudteam, claylicious, stoneware berry bow...</td>\n",
       "      <td>7939</td>\n",
       "    </tr>\n",
       "    <tr>\n",
       "      <th>4075</th>\n",
       "      <td>1112309379</td>\n",
       "      <td>[handmade mug, stoneware mug, home decor, cera...</td>\n",
       "      <td>7910</td>\n",
       "    </tr>\n",
       "    <tr>\n",
       "      <th>5427</th>\n",
       "      <td>151354984</td>\n",
       "      <td>[cup, teacup, roses, dots, pink, light blue, m...</td>\n",
       "      <td>7476</td>\n",
       "    </tr>\n",
       "    <tr>\n",
       "      <th>1440</th>\n",
       "      <td>614766345</td>\n",
       "      <td>[pottery mug, black and white, turquoise, coff...</td>\n",
       "      <td>7392</td>\n",
       "    </tr>\n",
       "    <tr>\n",
       "      <th>241</th>\n",
       "      <td>621980272</td>\n",
       "      <td>[coffee, mug, rustic, cup, farmhouse, white, f...</td>\n",
       "      <td>7305</td>\n",
       "    </tr>\n",
       "    <tr>\n",
       "      <th>3412</th>\n",
       "      <td>1058376008</td>\n",
       "      <td>[hand built, kitchen, dining, table setting, m...</td>\n",
       "      <td>7157</td>\n",
       "    </tr>\n",
       "    <tr>\n",
       "      <th>5041</th>\n",
       "      <td>889589581</td>\n",
       "      <td>[ceramic mug, ceramic cup, vintage cup, vintag...</td>\n",
       "      <td>7155</td>\n",
       "    </tr>\n",
       "    <tr>\n",
       "      <th>3279</th>\n",
       "      <td>792274678</td>\n",
       "      <td>[kitchen, stove, coffee maker, hand thrown, ho...</td>\n",
       "      <td>7082</td>\n",
       "    </tr>\n",
       "    <tr>\n",
       "      <th>1552</th>\n",
       "      <td>941852785</td>\n",
       "      <td>[pasta bowl, handmade pasta bowl, ceramic past...</td>\n",
       "      <td>7033</td>\n",
       "    </tr>\n",
       "    <tr>\n",
       "      <th>3476</th>\n",
       "      <td>682986141</td>\n",
       "      <td>[cup, mug, scandinavian, texture, shabby, blac...</td>\n",
       "      <td>6845</td>\n",
       "    </tr>\n",
       "    <tr>\n",
       "      <th>2376</th>\n",
       "      <td>213362548</td>\n",
       "      <td>[mug, tea mug, ceramics and pottery, ceramic m...</td>\n",
       "      <td>6366</td>\n",
       "    </tr>\n",
       "    <tr>\n",
       "      <th>3849</th>\n",
       "      <td>989791865</td>\n",
       "      <td>[champagne bowl, kitchen countertop, big rusti...</td>\n",
       "      <td>6025</td>\n",
       "    </tr>\n",
       "    <tr>\n",
       "      <th>923</th>\n",
       "      <td>895865304</td>\n",
       "      <td>[gift for her, personalised mug, custom mug, c...</td>\n",
       "      <td>5872</td>\n",
       "    </tr>\n",
       "    <tr>\n",
       "      <th>1847</th>\n",
       "      <td>656184828</td>\n",
       "      <td>[incense holder, handmade incense, incense bur...</td>\n",
       "      <td>5736</td>\n",
       "    </tr>\n",
       "    <tr>\n",
       "      <th>798</th>\n",
       "      <td>1017377412</td>\n",
       "      <td>[brown mug, coffee mug, tea mug, handmade mug,...</td>\n",
       "      <td>5700</td>\n",
       "    </tr>\n",
       "    <tr>\n",
       "      <th>6821</th>\n",
       "      <td>783742223</td>\n",
       "      <td>[dinnerware set, stoneware set, dinner set, ru...</td>\n",
       "      <td>5586</td>\n",
       "    </tr>\n",
       "    <tr>\n",
       "      <th>1850</th>\n",
       "      <td>665351578</td>\n",
       "      <td>[blue stoneware, brown stoneware, green stonew...</td>\n",
       "      <td>5302</td>\n",
       "    </tr>\n",
       "    <tr>\n",
       "      <th>3440</th>\n",
       "      <td>630564983</td>\n",
       "      <td>[saguaro, earring, ring dish, dish, ring tree,...</td>\n",
       "      <td>5137</td>\n",
       "    </tr>\n",
       "  </tbody>\n",
       "</table>\n",
       "</div>"
      ],
      "text/plain": [
       "       listing_id                                         clean_tags  \\\n",
       "3451    175789619  [best selling mug, gift under 50, gift for dad...   \n",
       "1849    792180615  [ceramic mug, handpainted mug, nature mug, flo...   \n",
       "936     900330801  [wheel thrown pottery, fine art ceramics, dini...   \n",
       "2219   1086863643  [caffeine addict, coffee lover, gift for mom, ...   \n",
       "10185   535025569  [coffee cup, parceline, tea cup, coffee mug, c...   \n",
       "2       741218574  [handmade ceramic mug, handmade mug, ceramic m...   \n",
       "40      677424431  [handmade coffee mug, birthday gift mug, coffe...   \n",
       "445     128982522  [etsymudteam, claylicious, stoneware berry bow...   \n",
       "4075   1112309379  [handmade mug, stoneware mug, home decor, cera...   \n",
       "5427    151354984  [cup, teacup, roses, dots, pink, light blue, m...   \n",
       "1440    614766345  [pottery mug, black and white, turquoise, coff...   \n",
       "241     621980272  [coffee, mug, rustic, cup, farmhouse, white, f...   \n",
       "3412   1058376008  [hand built, kitchen, dining, table setting, m...   \n",
       "5041    889589581  [ceramic mug, ceramic cup, vintage cup, vintag...   \n",
       "3279    792274678  [kitchen, stove, coffee maker, hand thrown, ho...   \n",
       "1552    941852785  [pasta bowl, handmade pasta bowl, ceramic past...   \n",
       "3476    682986141  [cup, mug, scandinavian, texture, shabby, blac...   \n",
       "2376    213362548  [mug, tea mug, ceramics and pottery, ceramic m...   \n",
       "3849    989791865  [champagne bowl, kitchen countertop, big rusti...   \n",
       "923     895865304  [gift for her, personalised mug, custom mug, c...   \n",
       "1847    656184828  [incense holder, handmade incense, incense bur...   \n",
       "798    1017377412  [brown mug, coffee mug, tea mug, handmade mug,...   \n",
       "6821    783742223  [dinnerware set, stoneware set, dinner set, ru...   \n",
       "1850    665351578  [blue stoneware, brown stoneware, green stonew...   \n",
       "3440    630564983  [saguaro, earring, ring dish, dish, ring tree,...   \n",
       "\n",
       "       num_favorers_listing  \n",
       "3451                  26530  \n",
       "1849                  13605  \n",
       "936                   13324  \n",
       "2219                  10564  \n",
       "10185                  9678  \n",
       "2                      8344  \n",
       "40                     7948  \n",
       "445                    7939  \n",
       "4075                   7910  \n",
       "5427                   7476  \n",
       "1440                   7392  \n",
       "241                    7305  \n",
       "3412                   7157  \n",
       "5041                   7155  \n",
       "3279                   7082  \n",
       "1552                   7033  \n",
       "3476                   6845  \n",
       "2376                   6366  \n",
       "3849                   6025  \n",
       "923                    5872  \n",
       "1847                   5736  \n",
       "798                    5700  \n",
       "6821                   5586  \n",
       "1850                   5302  \n",
       "3440                   5137  "
      ]
     },
     "execution_count": 73,
     "metadata": {},
     "output_type": "execute_result"
    }
   ],
   "source": [
    "#look at top 25 listings according to number of favorers\n",
    "itemData.sort_values(by = ['num_favorers_listing'], ascending = False).head(25)"
   ]
  },
  {
   "cell_type": "code",
   "execution_count": 74,
   "id": "bf689c36",
   "metadata": {},
   "outputs": [],
   "source": [
    "#this is the 3,873 listings with at least 10 favorers\n",
    "TenOrMore = itemData[itemData['num_favorers_listing']>=10]\n",
    "#TenOrMore.shape"
   ]
  },
  {
   "cell_type": "code",
   "execution_count": 75,
   "id": "f2010fb3",
   "metadata": {},
   "outputs": [],
   "source": [
    "#get the value counts for each of the tags in TenOrMore\n",
    "tagCountsFavs = oneD(TenOrMore[\"clean_tags\"]).value_counts()"
   ]
  },
  {
   "cell_type": "code",
   "execution_count": 76,
   "id": "2b93beff",
   "metadata": {},
   "outputs": [],
   "source": [
    "# Sort the top 25 tags from the listings with ten or more favorers\n",
    "top25Favs = tagCountsFavs.head(25).sort_values(ascending=False)"
   ]
  },
  {
   "cell_type": "markdown",
   "id": "81b830b0",
   "metadata": {},
   "source": [
    "### Get top 25 tags for top-rated shops (greater than 4.9) with at least 10 reviews"
   ]
  },
  {
   "cell_type": "code",
   "execution_count": 77,
   "id": "4f8bee80",
   "metadata": {},
   "outputs": [],
   "source": [
    "# dataframe with tags, shop review count, and review average\n",
    "shopData = data[['listing_id','clean_tags','num_favorers_listing','review_average', 'review_count']]"
   ]
  },
  {
   "cell_type": "code",
   "execution_count": 78,
   "id": "e5c18612",
   "metadata": {},
   "outputs": [],
   "source": [
    "# get the shops that have at least 10 reviews\n",
    "shops10reviews = shopData[shopData['review_count']>=10]"
   ]
  },
  {
   "cell_type": "code",
   "execution_count": 79,
   "id": "81e32f74",
   "metadata": {},
   "outputs": [],
   "source": [
    "#this is the 9036 listings from shops with at least 10 reviews\n",
    "TenReviews =  shopData[shopData['review_count']>=10]"
   ]
  },
  {
   "cell_type": "code",
   "execution_count": 80,
   "id": "b862be47",
   "metadata": {},
   "outputs": [],
   "source": [
    "# this is the 8106 listings from shops with at least 10 reviews AND a 4.8 star rating or higher\n",
    "topShops =  TenReviews[TenReviews['review_average']>=4.9]"
   ]
  },
  {
   "cell_type": "code",
   "execution_count": 81,
   "id": "d5467be1",
   "metadata": {},
   "outputs": [],
   "source": [
    "#get the value counts for each of the tags in the topShops listings\n",
    "tagCountsTopShops = oneD(topShops[\"clean_tags\"]).value_counts()\n",
    "\n",
    "# Sort the top 25 tags from the listings with ten or more favorers\n",
    "top25TopShops = tagCountsTopShops.head(25).sort_values(ascending=False)"
   ]
  },
  {
   "cell_type": "code",
   "execution_count": 82,
   "id": "7963b7cc",
   "metadata": {},
   "outputs": [
    {
     "data": {
      "text/plain": [
       "Text(0.5, 1.0, 'Top 25 Tags for Listings from Shops w/4.9 or Higher Rating and At Least 10 Reviews')"
      ]
     },
     "execution_count": 82,
     "metadata": {},
     "output_type": "execute_result"
    },
    {
     "data": {
      "image/png": "[encoded data removed]",
      "text/plain": [
       "<Figure size 864x1296 with 3 Axes>"
      ]
     },
     "metadata": {
      "needs_background": "light"
     },
     "output_type": "display_data"
    }
   ],
   "source": [
    "# plot top tags in different subsets of the data\n",
    "fig, axes = plt.subplots(3, 1, figsize = (12, 18))\n",
    "fig.suptitle('Top Tags')\n",
    "\n",
    "# plot all the top tags overall\n",
    "sns.barplot(ax=axes[0], x=top25.values, y=top25.index, palette='light:#4079bf_r')\n",
    "axes[0].set_title('Top 25 Tags All Listings')\n",
    "\n",
    "# plot the top tags for listings with 10 or more favorers\n",
    "sns.barplot(ax=axes[1], x=top25Favs.values, y=top25Favs.index, palette='light:#b94f46_r')\n",
    "axes[1].set_title('Top 25 Tags for Listings w/10 or more Favorers')\n",
    "\n",
    "# plot the top tags for listings from shops with at least 10 reviews and a 4.9 star rating or higher\n",
    "sns.barplot(ax=axes[2], x=top25TopShops.values, y=top25TopShops.index, palette='light:#90aa55_r')\n",
    "axes[2].set_title('Top 25 Tags for Listings from Shops w/4.9 or Higher Rating and At Least 10 Reviews')"
   ]
  },
  {
   "cell_type": "code",
   "execution_count": null,
   "id": "42a3b3d7",
   "metadata": {},
   "outputs": [],
   "source": []
  }
 ],
 "metadata": {
  "kernelspec": {
   "display_name": "Python 3",
   "language": "python",
   "name": "python3"
  },
  "language_info": {
   "codemirror_mode": {
    "name": "ipython",
    "version": 3
   },
   "file_extension": ".py",
   "mimetype": "text/x-python",
   "name": "python",
   "nbconvert_exporter": "python",
   "pygments_lexer": "ipython3",
   "version": "3.8.8"
  }
 },
 "nbformat": 4,
 "nbformat_minor": 5
}
